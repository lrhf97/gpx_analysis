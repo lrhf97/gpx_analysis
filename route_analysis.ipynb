{
 "cells": [
  {
   "cell_type": "markdown",
   "metadata": {},
   "source": [
    "# Installing Dependancies\n"
   ]
  },
  {
   "cell_type": "code",
   "execution_count": 1,
   "metadata": {},
   "outputs": [],
   "source": [
    "import gpxpy\n",
    "import gpxpy.gpx\n",
    "\n",
    "import pandas as pd\n",
    "import matplotlib.pyplot as plt\n",
    "from matplotlib import colors\n",
    "from matplotlib.ticker import PercentFormatter\n",
    "\n",
    "from geopy.distance import distance\n",
    "from geopy.distance import geodesic\n",
    "from geopy import distance\n",
    "import math\n",
    "\n",
    "import haversine as hs\n",
    "import numpy as np\n",
    "\n",
    "import datetime\n",
    "from time import strftime\n",
    "from time import gmtime\n",
    "\n",
    "\n",
    "\n",
    "plt.rcParams['axes.spines.top'] = False\n",
    "plt.rcParams['axes.spines.right'] = False"
   ]
  },
  {
   "cell_type": "code",
   "execution_count": 3,
   "metadata": {},
   "outputs": [],
   "source": [
    "\n",
    "with open('Routes/my_runs/DD100K_2021.gpx', 'r') as gpx_file:\n",
    "    DDgpx = gpxpy.parse(gpx_file)"
   ]
  },
  {
   "cell_type": "code",
   "execution_count": 4,
   "metadata": {},
   "outputs": [
    {
     "data": {
      "text/plain": [
       "GPX(tracks=[GPXTrack(name='Prince William County Trail Running', segments=[GPXTrackSegment(points=[...])])])"
      ]
     },
     "execution_count": 4,
     "metadata": {},
     "output_type": "execute_result"
    }
   ],
   "source": [
    "DDgpx"
   ]
  },
  {
   "cell_type": "code",
   "execution_count": 5,
   "metadata": {},
   "outputs": [
    {
     "data": {
      "text/plain": [
       "59640"
      ]
     },
     "execution_count": 5,
     "metadata": {},
     "output_type": "execute_result"
    }
   ],
   "source": [
    "DDgpx.get_track_points_no()"
   ]
  },
  {
   "cell_type": "markdown",
   "metadata": {},
   "source": [
    "# Loading a GPX file\n"
   ]
  },
  {
   "cell_type": "code",
   "execution_count": 5,
   "metadata": {},
   "outputs": [],
   "source": [
    "# Loading a GPX file\n",
    "with open('Routes//my_runs/2-loop_mtvernon.gpx', 'r') as gpx_file:\n",
    "    loop2gpx = gpxpy.parse(gpx_file)"
   ]
  },
  {
   "cell_type": "code",
   "execution_count": 6,
   "metadata": {},
   "outputs": [
    {
     "name": "stdout",
     "output_type": "stream",
     "text": [
      "4304\n",
      "MinimumMaximum(minimum=-27.200000762939453, maximum=28.399999618530273)\n",
      "UphillDownhill(uphill=284.19998838156533, downhill=302.59998800009583)\n",
      "# of tracks -  1\n",
      "# of segments -  1\n"
     ]
    }
   ],
   "source": [
    "\n",
    "print(loop2gpx.get_track_points_no())\n",
    "print(loop2gpx.get_elevation_extremes())\n",
    "print(loop2gpx.get_uphill_downhill())\n",
    "print('# of tracks - ',len(loop2gpx.tracks))\n",
    "print('# of segments - ',len(loop2gpx.tracks[0].segments))"
   ]
  },
  {
   "cell_type": "code",
   "execution_count": 7,
   "metadata": {},
   "outputs": [
    {
     "data": {
      "text/plain": [
       "[GPXTrackPoint(38.79649353213608, -77.04552322626114, elevation=-3.0, time=datetime.datetime(2021, 11, 19, 14, 52, 53, tzinfo=SimpleTZ(\"Z\"))),\n",
       " GPXTrackPoint(38.79648883827031, -77.04551886767149, elevation=-3.0, time=datetime.datetime(2021, 11, 19, 14, 52, 54, tzinfo=SimpleTZ(\"Z\"))),\n",
       " GPXTrackPoint(38.796473080292344, -77.04550998285413, elevation=-3.0, time=datetime.datetime(2021, 11, 19, 14, 52, 55, tzinfo=SimpleTZ(\"Z\"))),\n",
       " GPXTrackPoint(38.79645690321922, -77.04550285823643, elevation=-3.0, time=datetime.datetime(2021, 11, 19, 14, 52, 56, tzinfo=SimpleTZ(\"Z\")))]"
      ]
     },
     "execution_count": 7,
     "metadata": {},
     "output_type": "execute_result"
    }
   ],
   "source": [
    "loop2gpx.tracks[0].segments[0].points[:4]"
   ]
  },
  {
   "cell_type": "code",
   "execution_count": 8,
   "metadata": {},
   "outputs": [
    {
     "data": {
      "text/plain": [
       "[{'time': datetime.datetime(2021, 12, 4, 11, 31, 3, tzinfo=SimpleTZ(\"Z\")),\n",
       "  'latitude': 38.576125083491206,\n",
       "  'longitude': -77.41298032924533,\n",
       "  'elevation': 98.0},\n",
       " {'time': datetime.datetime(2021, 12, 4, 11, 31, 4, tzinfo=SimpleTZ(\"Z\")),\n",
       "  'latitude': 38.576110918074846,\n",
       "  'longitude': -77.41298879496753,\n",
       "  'elevation': 98.0},\n",
       " {'time': datetime.datetime(2021, 12, 4, 11, 31, 5, tzinfo=SimpleTZ(\"Z\")),\n",
       "  'latitude': 38.576098177582026,\n",
       "  'longitude': -77.4129987694323,\n",
       "  'elevation': 98.0}]"
      ]
     },
     "execution_count": 8,
     "metadata": {},
     "output_type": "execute_result"
    }
   ],
   "source": [
    "# making a dictionary that can be converted to Pandas Dataframe\n",
    "route_info=[]\n",
    "\n",
    "for track in DDgpx.tracks:\n",
    "    for segment in track.segments:\n",
    "        for point in segment.points:\n",
    "            route_info.append({\n",
    "                'time': point.time,\n",
    "                'latitude': point.latitude,\n",
    "                'longitude':point.longitude,\n",
    "                'elevation': point.elevation\n",
    "            })\n",
    "\n",
    "route_info[:3]"
   ]
  },
  {
   "cell_type": "code",
   "execution_count": 9,
   "metadata": {},
   "outputs": [
    {
     "data": {
      "text/html": [
       "<div>\n",
       "<style scoped>\n",
       "    .dataframe tbody tr th:only-of-type {\n",
       "        vertical-align: middle;\n",
       "    }\n",
       "\n",
       "    .dataframe tbody tr th {\n",
       "        vertical-align: top;\n",
       "    }\n",
       "\n",
       "    .dataframe thead th {\n",
       "        text-align: right;\n",
       "    }\n",
       "</style>\n",
       "<table border=\"1\" class=\"dataframe\">\n",
       "  <thead>\n",
       "    <tr style=\"text-align: right;\">\n",
       "      <th></th>\n",
       "      <th>time</th>\n",
       "      <th>latitude</th>\n",
       "      <th>longitude</th>\n",
       "      <th>elevation</th>\n",
       "    </tr>\n",
       "  </thead>\n",
       "  <tbody>\n",
       "    <tr>\n",
       "      <th>0</th>\n",
       "      <td>2021-12-04 11:31:03+00:00</td>\n",
       "      <td>38.576125</td>\n",
       "      <td>-77.412980</td>\n",
       "      <td>98.0</td>\n",
       "    </tr>\n",
       "    <tr>\n",
       "      <th>1</th>\n",
       "      <td>2021-12-04 11:31:04+00:00</td>\n",
       "      <td>38.576111</td>\n",
       "      <td>-77.412989</td>\n",
       "      <td>98.0</td>\n",
       "    </tr>\n",
       "    <tr>\n",
       "      <th>2</th>\n",
       "      <td>2021-12-04 11:31:05+00:00</td>\n",
       "      <td>38.576098</td>\n",
       "      <td>-77.412999</td>\n",
       "      <td>98.0</td>\n",
       "    </tr>\n",
       "    <tr>\n",
       "      <th>3</th>\n",
       "      <td>2021-12-04 11:31:06+00:00</td>\n",
       "      <td>38.576086</td>\n",
       "      <td>-77.413008</td>\n",
       "      <td>98.0</td>\n",
       "    </tr>\n",
       "    <tr>\n",
       "      <th>4</th>\n",
       "      <td>2021-12-04 11:31:07+00:00</td>\n",
       "      <td>38.576070</td>\n",
       "      <td>-77.413020</td>\n",
       "      <td>98.0</td>\n",
       "    </tr>\n",
       "  </tbody>\n",
       "</table>\n",
       "</div>"
      ],
      "text/plain": [
       "                       time   latitude  longitude  elevation\n",
       "0 2021-12-04 11:31:03+00:00  38.576125 -77.412980       98.0\n",
       "1 2021-12-04 11:31:04+00:00  38.576111 -77.412989       98.0\n",
       "2 2021-12-04 11:31:05+00:00  38.576098 -77.412999       98.0\n",
       "3 2021-12-04 11:31:06+00:00  38.576086 -77.413008       98.0\n",
       "4 2021-12-04 11:31:07+00:00  38.576070 -77.413020       98.0"
      ]
     },
     "execution_count": 9,
     "metadata": {},
     "output_type": "execute_result"
    }
   ],
   "source": [
    "df = pd.DataFrame(route_info)\n",
    "df.head()"
   ]
  },
  {
   "cell_type": "markdown",
   "metadata": {},
   "source": [
    "# Create Simple BASE CSV file\n"
   ]
  },
  {
   "cell_type": "code",
   "execution_count": 10,
   "metadata": {},
   "outputs": [],
   "source": [
    "\n",
    "df.to_csv('data/df.csv', index=False)"
   ]
  },
  {
   "cell_type": "markdown",
   "metadata": {},
   "source": [
    "# Simple plots\n"
   ]
  },
  {
   "cell_type": "markdown",
   "metadata": {},
   "source": [
    "## Plot the Route\n"
   ]
  },
  {
   "cell_type": "code",
   "execution_count": 12,
   "metadata": {},
   "outputs": [
    {
     "data": {
      "image/png": "[encoded data removed]",
      "text/plain": [
       "<Figure size 1008x1008 with 1 Axes>"
      ]
     },
     "metadata": {
      "needs_background": "light"
     },
     "output_type": "display_data"
    }
   ],
   "source": [
    "plt.figure(figsize=(14, 14))\n",
    "plt.scatter(df['longitude'], df['latitude'], color='#101010')\n",
    "plt.title('Route latitude and longitude points', size=20);"
   ]
  },
  {
   "cell_type": "markdown",
   "metadata": {},
   "source": [
    "## Plot the Elevation\n"
   ]
  },
  {
   "cell_type": "code",
   "execution_count": 13,
   "metadata": {},
   "outputs": [
    {
     "data": {
      "image/png": "[encoded data removed]",
      "text/plain": [
       "<Figure size 1296x432 with 1 Axes>"
      ]
     },
     "metadata": {
      "needs_background": "light"
     },
     "output_type": "display_data"
    }
   ],
   "source": [
    "plt.figure(figsize=(18,6))\n",
    "plt.scatter(df.index, df['elevation'], color='#101010')\n",
    "plt.title('Route elevation over time points', size=20);"
   ]
  },
  {
   "cell_type": "code",
   "execution_count": 14,
   "metadata": {},
   "outputs": [
    {
     "data": {
      "text/html": [
       "<div>\n",
       "<style scoped>\n",
       "    .dataframe tbody tr th:only-of-type {\n",
       "        vertical-align: middle;\n",
       "    }\n",
       "\n",
       "    .dataframe tbody tr th {\n",
       "        vertical-align: top;\n",
       "    }\n",
       "\n",
       "    .dataframe thead th {\n",
       "        text-align: right;\n",
       "    }\n",
       "</style>\n",
       "<table border=\"1\" class=\"dataframe\">\n",
       "  <thead>\n",
       "    <tr style=\"text-align: right;\">\n",
       "      <th></th>\n",
       "      <th>time</th>\n",
       "      <th>latitude</th>\n",
       "      <th>longitude</th>\n",
       "      <th>elevation</th>\n",
       "    </tr>\n",
       "  </thead>\n",
       "  <tbody>\n",
       "    <tr>\n",
       "      <th>0</th>\n",
       "      <td>2021-12-04 11:31:03+00:00</td>\n",
       "      <td>38.576125</td>\n",
       "      <td>-77.412980</td>\n",
       "      <td>98.0</td>\n",
       "    </tr>\n",
       "    <tr>\n",
       "      <th>1</th>\n",
       "      <td>2021-12-04 11:31:04+00:00</td>\n",
       "      <td>38.576111</td>\n",
       "      <td>-77.412989</td>\n",
       "      <td>98.0</td>\n",
       "    </tr>\n",
       "    <tr>\n",
       "      <th>2</th>\n",
       "      <td>2021-12-04 11:31:05+00:00</td>\n",
       "      <td>38.576098</td>\n",
       "      <td>-77.412999</td>\n",
       "      <td>98.0</td>\n",
       "    </tr>\n",
       "    <tr>\n",
       "      <th>3</th>\n",
       "      <td>2021-12-04 11:31:06+00:00</td>\n",
       "      <td>38.576086</td>\n",
       "      <td>-77.413008</td>\n",
       "      <td>98.0</td>\n",
       "    </tr>\n",
       "    <tr>\n",
       "      <th>4</th>\n",
       "      <td>2021-12-04 11:31:07+00:00</td>\n",
       "      <td>38.576070</td>\n",
       "      <td>-77.413020</td>\n",
       "      <td>98.0</td>\n",
       "    </tr>\n",
       "  </tbody>\n",
       "</table>\n",
       "</div>"
      ],
      "text/plain": [
       "                       time   latitude  longitude  elevation\n",
       "0 2021-12-04 11:31:03+00:00  38.576125 -77.412980       98.0\n",
       "1 2021-12-04 11:31:04+00:00  38.576111 -77.412989       98.0\n",
       "2 2021-12-04 11:31:05+00:00  38.576098 -77.412999       98.0\n",
       "3 2021-12-04 11:31:06+00:00  38.576086 -77.413008       98.0\n",
       "4 2021-12-04 11:31:07+00:00  38.576070 -77.413020       98.0"
      ]
     },
     "execution_count": 14,
     "metadata": {},
     "output_type": "execute_result"
    }
   ],
   "source": [
    "df.head()"
   ]
  },
  {
   "cell_type": "code",
   "execution_count": 15,
   "metadata": {},
   "outputs": [
    {
     "data": {
      "text/plain": [
       "(38.576125083491206, -77.41298032924533, 98.0)"
      ]
     },
     "execution_count": 15,
     "metadata": {},
     "output_type": "execute_result"
    }
   ],
   "source": [
    "pointxyz = []\n",
    "for i in range(0,len(df)):\n",
    "    pointxyz.append((df['latitude'][i], df['longitude'][i], df['elevation'][i]))\n",
    "\n",
    "pointxyz[0]"
   ]
  },
  {
   "cell_type": "code",
   "execution_count": 16,
   "metadata": {},
   "outputs": [
    {
     "data": {
      "text/html": [
       "<div>\n",
       "<style scoped>\n",
       "    .dataframe tbody tr th:only-of-type {\n",
       "        vertical-align: middle;\n",
       "    }\n",
       "\n",
       "    .dataframe tbody tr th {\n",
       "        vertical-align: top;\n",
       "    }\n",
       "\n",
       "    .dataframe thead th {\n",
       "        text-align: right;\n",
       "    }\n",
       "</style>\n",
       "<table border=\"1\" class=\"dataframe\">\n",
       "  <thead>\n",
       "    <tr style=\"text-align: right;\">\n",
       "      <th></th>\n",
       "      <th>time</th>\n",
       "      <th>latitude</th>\n",
       "      <th>longitude</th>\n",
       "      <th>elevation</th>\n",
       "      <th>pointxyz</th>\n",
       "    </tr>\n",
       "  </thead>\n",
       "  <tbody>\n",
       "    <tr>\n",
       "      <th>0</th>\n",
       "      <td>2021-12-04 11:31:03+00:00</td>\n",
       "      <td>38.576125</td>\n",
       "      <td>-77.412980</td>\n",
       "      <td>98.0</td>\n",
       "      <td>(38.576125083491206, -77.41298032924533, 98.0)</td>\n",
       "    </tr>\n",
       "    <tr>\n",
       "      <th>1</th>\n",
       "      <td>2021-12-04 11:31:04+00:00</td>\n",
       "      <td>38.576111</td>\n",
       "      <td>-77.412989</td>\n",
       "      <td>98.0</td>\n",
       "      <td>(38.576110918074846, -77.41298879496753, 98.0)</td>\n",
       "    </tr>\n",
       "    <tr>\n",
       "      <th>2</th>\n",
       "      <td>2021-12-04 11:31:05+00:00</td>\n",
       "      <td>38.576098</td>\n",
       "      <td>-77.412999</td>\n",
       "      <td>98.0</td>\n",
       "      <td>(38.576098177582026, -77.4129987694323, 98.0)</td>\n",
       "    </tr>\n",
       "    <tr>\n",
       "      <th>3</th>\n",
       "      <td>2021-12-04 11:31:06+00:00</td>\n",
       "      <td>38.576086</td>\n",
       "      <td>-77.413008</td>\n",
       "      <td>98.0</td>\n",
       "      <td>(38.5760856885463, -77.4130077380687, 98.0)</td>\n",
       "    </tr>\n",
       "    <tr>\n",
       "      <th>4</th>\n",
       "      <td>2021-12-04 11:31:07+00:00</td>\n",
       "      <td>38.576070</td>\n",
       "      <td>-77.413020</td>\n",
       "      <td>98.0</td>\n",
       "      <td>(38.576070349663496, -77.41301955655217, 98.0)</td>\n",
       "    </tr>\n",
       "  </tbody>\n",
       "</table>\n",
       "</div>"
      ],
      "text/plain": [
       "                       time   latitude  longitude  elevation  \\\n",
       "0 2021-12-04 11:31:03+00:00  38.576125 -77.412980       98.0   \n",
       "1 2021-12-04 11:31:04+00:00  38.576111 -77.412989       98.0   \n",
       "2 2021-12-04 11:31:05+00:00  38.576098 -77.412999       98.0   \n",
       "3 2021-12-04 11:31:06+00:00  38.576086 -77.413008       98.0   \n",
       "4 2021-12-04 11:31:07+00:00  38.576070 -77.413020       98.0   \n",
       "\n",
       "                                         pointxyz  \n",
       "0  (38.576125083491206, -77.41298032924533, 98.0)  \n",
       "1  (38.576110918074846, -77.41298879496753, 98.0)  \n",
       "2   (38.576098177582026, -77.4129987694323, 98.0)  \n",
       "3     (38.5760856885463, -77.4130077380687, 98.0)  \n",
       "4  (38.576070349663496, -77.41301955655217, 98.0)  "
      ]
     },
     "execution_count": 16,
     "metadata": {},
     "output_type": "execute_result"
    }
   ],
   "source": [
    "df['pointxyz']= pd.Series(pointxyz)\n",
    "df.head()"
   ]
  },
  {
   "cell_type": "markdown",
   "metadata": {},
   "source": [
    "# Distance Calcs\n"
   ]
  },
  {
   "cell_type": "markdown",
   "metadata": {},
   "source": [
    "## Geodesic\n"
   ]
  },
  {
   "cell_type": "code",
   "execution_count": 17,
   "metadata": {},
   "outputs": [
    {
     "name": "stdout",
     "output_type": "stream",
     "text": [
      "(38.576098177582026, -77.4129987694323) (38.576110918074846, -77.41298879496753)\n",
      "0.0010314937924486866\n"
     ]
    }
   ],
   "source": [
    "b_latlon = df['pointxyz'][1+1][:2]\n",
    "a_latlon = df['pointxyz'][1][:2]\n",
    "print(b_latlon,a_latlon)\n",
    "print(geodesic(a_latlon,b_latlon).miles)"
   ]
  },
  {
   "cell_type": "code",
   "execution_count": 18,
   "metadata": {},
   "outputs": [],
   "source": [
    "# # Get Step distance, i.e. distance between points.\n",
    "# euc_dist = [0]\n",
    "# # fl_dist =[0]\n",
    "\n",
    "# for i in range(len(df)-1):\n",
    "    \n",
    "#     b_latlon = df['pointxyz'][i+1][:2]\n",
    "#     a_latlon = df['pointxyz'][i][:2]\n",
    "\n",
    "#     # OG elevation in meters (1000m = .6 miles)  so change meters into km and then convert to miles\n",
    "#     b_elv = df['pointxyz'][i+1][2]/1000*.6\n",
    "#     a_elv = df['pointxyz'][i][2]/1000*.6\n",
    "#     eldiff = b_elv-a_elv\n",
    "\n",
    "#     flat_distance =geodesic(a_latlon,b_latlon).miles\n",
    "#     # fl_dist.append(flat_distance)\n",
    "\n",
    "#     euc_distance = math.sqrt(flat_distance**2 + eldiff**2)\n",
    "#     euc_dist.append(euc_distance)\n",
    "\n",
    "# df['euc_dist'] = pd.Series(euc_dist)\n",
    "# # df['flat_dist'] = pd.Series(fl_dist)\n",
    "\n",
    "# df.head()\n"
   ]
  },
  {
   "cell_type": "markdown",
   "metadata": {},
   "source": [
    "## Haversine\n"
   ]
  },
  {
   "cell_type": "code",
   "execution_count": 18,
   "metadata": {},
   "outputs": [],
   "source": [
    "def haversine_distance(lat1, lon1, lat2, lon2) -> float:\n",
    "    distance = hs.haversine(\n",
    "        point1=(lat1,lon1),\n",
    "        point2=(lat2,lon2),\n",
    "        unit=hs.Unit.MILES\n",
    "    )\n",
    "    return np.round(distance,8)"
   ]
  },
  {
   "cell_type": "code",
   "execution_count": 19,
   "metadata": {},
   "outputs": [
    {
     "data": {
      "text/plain": [
       "0.00108029"
      ]
     },
     "execution_count": 19,
     "metadata": {},
     "output_type": "execute_result"
    }
   ],
   "source": [
    "haversine_distance(\n",
    "    lat1=df.iloc[0]['latitude'],\n",
    "    lon1=df.iloc[0]['longitude'],\n",
    "    lat2=df.iloc[1]['latitude'],\n",
    "    lon2=df.iloc[1]['longitude']\n",
    ")"
   ]
  },
  {
   "cell_type": "code",
   "execution_count": 20,
   "metadata": {},
   "outputs": [],
   "source": [
    "# clean up errors in speed by capping distance traveled in 1 sec to be = cap_mph miles per hour\n",
    "distances = [np.nan]\n",
    "cap_mph = 10\n",
    "distance_cap = 1/(60/cap_mph*60)\n",
    "\n",
    "for i in range(len(df)):\n",
    "    if i == 0:\n",
    "        continue\n",
    "    else:\n",
    "        unit_dist = haversine_distance(\n",
    "            lat1=df.iloc[i - 1]['latitude'],\n",
    "            lon1=df.iloc[i - 1]['longitude'],\n",
    "            lat2=df.iloc[i]['latitude'],\n",
    "            lon2=df.iloc[i]['longitude']\n",
    "        )\n",
    "        if unit_dist > distance_cap:\n",
    "            distances.append(np.nan)\n",
    "        else:\n",
    "            distances.append(unit_dist)\n",
    "\n",
    "df['distance'] = distances\n"
   ]
  },
  {
   "cell_type": "code",
   "execution_count": 21,
   "metadata": {},
   "outputs": [
    {
     "data": {
      "text/plain": [
       "740    0.000570\n",
       "741    0.000629\n",
       "742         NaN\n",
       "743    0.000728\n",
       "744    0.002583\n",
       "Name: distance, dtype: float64"
      ]
     },
     "execution_count": 21,
     "metadata": {},
     "output_type": "execute_result"
    }
   ],
   "source": [
    "df['distance'].sum()\n",
    "# df.distance.describe()\n",
    "df['distance'][740:745]"
   ]
  },
  {
   "cell_type": "code",
   "execution_count": 22,
   "metadata": {},
   "outputs": [],
   "source": [
    "df['distance'] = df['distance'].interpolate().fillna(0)"
   ]
  },
  {
   "cell_type": "markdown",
   "metadata": {},
   "source": [
    "#### Speed Calc\n"
   ]
  },
  {
   "cell_type": "code",
   "execution_count": 23,
   "metadata": {},
   "outputs": [],
   "source": [
    "# 1 sec is 1/60th of minute and a minute is 1/60th of an hour so \n",
    "\n",
    "speed = []\n",
    "\n",
    "for i in range(len(df)):\n",
    "    mph = df['distance'][i]/(1/60/60)\n",
    "    speed.append(mph)\n",
    "\n",
    "df['mph'] = pd.Series(speed)\n",
    "\n"
   ]
  },
  {
   "cell_type": "code",
   "execution_count": 24,
   "metadata": {},
   "outputs": [
    {
     "data": {
      "text/plain": [
       "740    2.053368\n",
       "741    2.265048\n",
       "742    2.442384\n",
       "743    2.619720\n",
       "744    9.298548\n",
       "Name: mph, dtype: float64"
      ]
     },
     "execution_count": 24,
     "metadata": {},
     "output_type": "execute_result"
    }
   ],
   "source": [
    "df['mph'].describe()\n",
    "df[df['mph'].isna()]\n",
    "df['mph'][740:745]"
   ]
  },
  {
   "cell_type": "markdown",
   "metadata": {},
   "source": [
    "#### Elevation Change, Cum Elevation, and Cum Distance\n"
   ]
  },
  {
   "cell_type": "code",
   "execution_count": 25,
   "metadata": {},
   "outputs": [
    {
     "data": {
      "text/html": [
       "<div>\n",
       "<style scoped>\n",
       "    .dataframe tbody tr th:only-of-type {\n",
       "        vertical-align: middle;\n",
       "    }\n",
       "\n",
       "    .dataframe tbody tr th {\n",
       "        vertical-align: top;\n",
       "    }\n",
       "\n",
       "    .dataframe thead th {\n",
       "        text-align: right;\n",
       "    }\n",
       "</style>\n",
       "<table border=\"1\" class=\"dataframe\">\n",
       "  <thead>\n",
       "    <tr style=\"text-align: right;\">\n",
       "      <th></th>\n",
       "      <th>time</th>\n",
       "      <th>latitude</th>\n",
       "      <th>longitude</th>\n",
       "      <th>elevation</th>\n",
       "      <th>pointxyz</th>\n",
       "      <th>distance</th>\n",
       "      <th>mph</th>\n",
       "      <th>elevation_change</th>\n",
       "      <th>cum_elevation</th>\n",
       "      <th>cum_distance</th>\n",
       "    </tr>\n",
       "  </thead>\n",
       "  <tbody>\n",
       "    <tr>\n",
       "      <th>0</th>\n",
       "      <td>2021-12-04 11:31:03+00:00</td>\n",
       "      <td>38.576125</td>\n",
       "      <td>-77.412980</td>\n",
       "      <td>98.0</td>\n",
       "      <td>(38.576125083491206, -77.41298032924533, 98.0)</td>\n",
       "      <td>0.000000</td>\n",
       "      <td>0.000000</td>\n",
       "      <td>0.0</td>\n",
       "      <td>0.0</td>\n",
       "      <td>0.000000</td>\n",
       "    </tr>\n",
       "    <tr>\n",
       "      <th>1</th>\n",
       "      <td>2021-12-04 11:31:04+00:00</td>\n",
       "      <td>38.576111</td>\n",
       "      <td>-77.412989</td>\n",
       "      <td>98.0</td>\n",
       "      <td>(38.576110918074846, -77.41298879496753, 98.0)</td>\n",
       "      <td>0.001080</td>\n",
       "      <td>3.889044</td>\n",
       "      <td>0.0</td>\n",
       "      <td>0.0</td>\n",
       "      <td>0.001080</td>\n",
       "    </tr>\n",
       "    <tr>\n",
       "      <th>2</th>\n",
       "      <td>2021-12-04 11:31:05+00:00</td>\n",
       "      <td>38.576098</td>\n",
       "      <td>-77.412999</td>\n",
       "      <td>98.0</td>\n",
       "      <td>(38.576098177582026, -77.4129987694323, 98.0)</td>\n",
       "      <td>0.001032</td>\n",
       "      <td>3.715488</td>\n",
       "      <td>0.0</td>\n",
       "      <td>0.0</td>\n",
       "      <td>0.002112</td>\n",
       "    </tr>\n",
       "    <tr>\n",
       "      <th>3</th>\n",
       "      <td>2021-12-04 11:31:06+00:00</td>\n",
       "      <td>38.576086</td>\n",
       "      <td>-77.413008</td>\n",
       "      <td>98.0</td>\n",
       "      <td>(38.5760856885463, -77.4130077380687, 98.0)</td>\n",
       "      <td>0.000990</td>\n",
       "      <td>3.562560</td>\n",
       "      <td>0.0</td>\n",
       "      <td>0.0</td>\n",
       "      <td>0.003102</td>\n",
       "    </tr>\n",
       "    <tr>\n",
       "      <th>4</th>\n",
       "      <td>2021-12-04 11:31:07+00:00</td>\n",
       "      <td>38.576070</td>\n",
       "      <td>-77.413020</td>\n",
       "      <td>98.0</td>\n",
       "      <td>(38.576070349663496, -77.41301955655217, 98.0)</td>\n",
       "      <td>0.001237</td>\n",
       "      <td>4.454028</td>\n",
       "      <td>0.0</td>\n",
       "      <td>0.0</td>\n",
       "      <td>0.004339</td>\n",
       "    </tr>\n",
       "  </tbody>\n",
       "</table>\n",
       "</div>"
      ],
      "text/plain": [
       "                       time   latitude  longitude  elevation  \\\n",
       "0 2021-12-04 11:31:03+00:00  38.576125 -77.412980       98.0   \n",
       "1 2021-12-04 11:31:04+00:00  38.576111 -77.412989       98.0   \n",
       "2 2021-12-04 11:31:05+00:00  38.576098 -77.412999       98.0   \n",
       "3 2021-12-04 11:31:06+00:00  38.576086 -77.413008       98.0   \n",
       "4 2021-12-04 11:31:07+00:00  38.576070 -77.413020       98.0   \n",
       "\n",
       "                                         pointxyz  distance       mph  \\\n",
       "0  (38.576125083491206, -77.41298032924533, 98.0)  0.000000  0.000000   \n",
       "1  (38.576110918074846, -77.41298879496753, 98.0)  0.001080  3.889044   \n",
       "2   (38.576098177582026, -77.4129987694323, 98.0)  0.001032  3.715488   \n",
       "3     (38.5760856885463, -77.4130077380687, 98.0)  0.000990  3.562560   \n",
       "4  (38.576070349663496, -77.41301955655217, 98.0)  0.001237  4.454028   \n",
       "\n",
       "   elevation_change  cum_elevation  cum_distance  \n",
       "0               0.0            0.0      0.000000  \n",
       "1               0.0            0.0      0.001080  \n",
       "2               0.0            0.0      0.002112  \n",
       "3               0.0            0.0      0.003102  \n",
       "4               0.0            0.0      0.004339  "
      ]
     },
     "execution_count": 25,
     "metadata": {},
     "output_type": "execute_result"
    }
   ],
   "source": [
    "df['elevation_change'] = df['elevation'].diff()\n",
    "df['cum_elevation'] = df['elevation_change'].cumsum()\n",
    "df['cum_distance'] = df['distance'].cumsum()\n",
    "df = df.fillna(0)\n",
    "df.head()\n"
   ]
  },
  {
   "cell_type": "code",
   "execution_count": 26,
   "metadata": {},
   "outputs": [
    {
     "data": {
      "text/html": [
       "<div>\n",
       "<style scoped>\n",
       "    .dataframe tbody tr th:only-of-type {\n",
       "        vertical-align: middle;\n",
       "    }\n",
       "\n",
       "    .dataframe tbody tr th {\n",
       "        vertical-align: top;\n",
       "    }\n",
       "\n",
       "    .dataframe thead th {\n",
       "        text-align: right;\n",
       "    }\n",
       "</style>\n",
       "<table border=\"1\" class=\"dataframe\">\n",
       "  <thead>\n",
       "    <tr style=\"text-align: right;\">\n",
       "      <th></th>\n",
       "      <th>latitude</th>\n",
       "      <th>longitude</th>\n",
       "      <th>elevation</th>\n",
       "      <th>distance</th>\n",
       "      <th>mph</th>\n",
       "      <th>elevation_change</th>\n",
       "      <th>cum_elevation</th>\n",
       "      <th>cum_distance</th>\n",
       "    </tr>\n",
       "  </thead>\n",
       "  <tbody>\n",
       "    <tr>\n",
       "      <th>count</th>\n",
       "      <td>59640.000000</td>\n",
       "      <td>59640.000000</td>\n",
       "      <td>59640.000000</td>\n",
       "      <td>59640.000000</td>\n",
       "      <td>59640.000000</td>\n",
       "      <td>59640.000000</td>\n",
       "      <td>59640.000000</td>\n",
       "      <td>59640.000000</td>\n",
       "    </tr>\n",
       "    <tr>\n",
       "      <th>mean</th>\n",
       "      <td>38.580718</td>\n",
       "      <td>-77.379950</td>\n",
       "      <td>45.231207</td>\n",
       "      <td>0.001103</td>\n",
       "      <td>3.972317</td>\n",
       "      <td>-0.000999</td>\n",
       "      <td>-52.768793</td>\n",
       "      <td>34.999681</td>\n",
       "    </tr>\n",
       "    <tr>\n",
       "      <th>std</th>\n",
       "      <td>0.012729</td>\n",
       "      <td>0.025952</td>\n",
       "      <td>36.452463</td>\n",
       "      <td>0.000458</td>\n",
       "      <td>1.649963</td>\n",
       "      <td>0.165107</td>\n",
       "      <td>36.452463</td>\n",
       "      <td>18.875987</td>\n",
       "    </tr>\n",
       "    <tr>\n",
       "      <th>min</th>\n",
       "      <td>38.557794</td>\n",
       "      <td>-77.424799</td>\n",
       "      <td>-27.200001</td>\n",
       "      <td>0.000000</td>\n",
       "      <td>0.000000</td>\n",
       "      <td>-1.199997</td>\n",
       "      <td>-125.200001</td>\n",
       "      <td>0.000000</td>\n",
       "    </tr>\n",
       "    <tr>\n",
       "      <th>25%</th>\n",
       "      <td>38.571374</td>\n",
       "      <td>-77.406517</td>\n",
       "      <td>19.400000</td>\n",
       "      <td>0.000800</td>\n",
       "      <td>2.878974</td>\n",
       "      <td>0.000000</td>\n",
       "      <td>-78.600000</td>\n",
       "      <td>19.706789</td>\n",
       "    </tr>\n",
       "    <tr>\n",
       "      <th>50%</th>\n",
       "      <td>38.576993</td>\n",
       "      <td>-77.375818</td>\n",
       "      <td>43.400002</td>\n",
       "      <td>0.001087</td>\n",
       "      <td>3.912318</td>\n",
       "      <td>0.000000</td>\n",
       "      <td>-54.599998</td>\n",
       "      <td>35.982171</td>\n",
       "    </tr>\n",
       "    <tr>\n",
       "      <th>75%</th>\n",
       "      <td>38.592803</td>\n",
       "      <td>-77.354579</td>\n",
       "      <td>74.800003</td>\n",
       "      <td>0.001391</td>\n",
       "      <td>5.009040</td>\n",
       "      <td>0.000000</td>\n",
       "      <td>-23.199997</td>\n",
       "      <td>51.289284</td>\n",
       "    </tr>\n",
       "    <tr>\n",
       "      <th>max</th>\n",
       "      <td>38.608468</td>\n",
       "      <td>-77.342196</td>\n",
       "      <td>123.800003</td>\n",
       "      <td>0.002777</td>\n",
       "      <td>9.996084</td>\n",
       "      <td>2.599998</td>\n",
       "      <td>25.800003</td>\n",
       "      <td>65.808048</td>\n",
       "    </tr>\n",
       "  </tbody>\n",
       "</table>\n",
       "</div>"
      ],
      "text/plain": [
       "           latitude     longitude     elevation      distance           mph  \\\n",
       "count  59640.000000  59640.000000  59640.000000  59640.000000  59640.000000   \n",
       "mean      38.580718    -77.379950     45.231207      0.001103      3.972317   \n",
       "std        0.012729      0.025952     36.452463      0.000458      1.649963   \n",
       "min       38.557794    -77.424799    -27.200001      0.000000      0.000000   \n",
       "25%       38.571374    -77.406517     19.400000      0.000800      2.878974   \n",
       "50%       38.576993    -77.375818     43.400002      0.001087      3.912318   \n",
       "75%       38.592803    -77.354579     74.800003      0.001391      5.009040   \n",
       "max       38.608468    -77.342196    123.800003      0.002777      9.996084   \n",
       "\n",
       "       elevation_change  cum_elevation  cum_distance  \n",
       "count      59640.000000   59640.000000  59640.000000  \n",
       "mean          -0.000999     -52.768793     34.999681  \n",
       "std            0.165107      36.452463     18.875987  \n",
       "min           -1.199997    -125.200001      0.000000  \n",
       "25%            0.000000     -78.600000     19.706789  \n",
       "50%            0.000000     -54.599998     35.982171  \n",
       "75%            0.000000     -23.199997     51.289284  \n",
       "max            2.599998      25.800003     65.808048  "
      ]
     },
     "execution_count": 26,
     "metadata": {},
     "output_type": "execute_result"
    }
   ],
   "source": [
    "# range of elevation \n",
    "df.describe()"
   ]
  },
  {
   "cell_type": "code",
   "execution_count": 27,
   "metadata": {},
   "outputs": [
    {
     "data": {
      "image/png": "[encoded data removed]",
      "text/plain": [
       "<Figure size 1296x432 with 1 Axes>"
      ]
     },
     "metadata": {
      "needs_background": "light"
     },
     "output_type": "display_data"
    }
   ],
   "source": [
    "plt.figure(figsize=(18,6))\n",
    "plt.plot(df['cum_distance'], df['cum_elevation'], color='#101010', lw=3)\n",
    "plt.title('Route elevation profile', size=20)\n",
    "plt.xlabel('Distance in miles', size=14)\n",
    "plt.ylabel('Elevation in meters', size=14);"
   ]
  },
  {
   "cell_type": "code",
   "execution_count": 28,
   "metadata": {},
   "outputs": [],
   "source": [
    "# df['5sec_rolling_elv'] = df['elevation_change'].rolling(5).mean()\n",
    "df['second'] = df.index\n",
    "# df[10:15]"
   ]
  },
  {
   "cell_type": "code",
   "execution_count": 29,
   "metadata": {},
   "outputs": [
    {
     "data": {
      "text/plain": [
       "'1:05:05'"
      ]
     },
     "execution_count": 29,
     "metadata": {},
     "output_type": "execute_result"
    }
   ],
   "source": [
    "# seconds to time\n",
    "\n",
    "# alternatively\n",
    "# strftime(\"%H:%M:%S\", gmtime(3905))\n",
    "# '00:11:06'\n",
    "\n",
    "def sec_2_time(seconds):\n",
    "    str_time = str(datetime.timedelta(seconds=seconds))\n",
    "    return str_time\n",
    "sec_2_time(3905)\n",
    "\n"
   ]
  },
  {
   "cell_type": "code",
   "execution_count": 30,
   "metadata": {},
   "outputs": [
    {
     "data": {
      "text/html": [
       "<div>\n",
       "<style scoped>\n",
       "    .dataframe tbody tr th:only-of-type {\n",
       "        vertical-align: middle;\n",
       "    }\n",
       "\n",
       "    .dataframe tbody tr th {\n",
       "        vertical-align: top;\n",
       "    }\n",
       "\n",
       "    .dataframe thead th {\n",
       "        text-align: right;\n",
       "    }\n",
       "</style>\n",
       "<table border=\"1\" class=\"dataframe\">\n",
       "  <thead>\n",
       "    <tr style=\"text-align: right;\">\n",
       "      <th></th>\n",
       "      <th>time</th>\n",
       "      <th>latitude</th>\n",
       "      <th>longitude</th>\n",
       "      <th>elevation</th>\n",
       "      <th>pointxyz</th>\n",
       "      <th>distance</th>\n",
       "      <th>mph</th>\n",
       "      <th>elevation_change</th>\n",
       "      <th>cum_elevation</th>\n",
       "      <th>cum_distance</th>\n",
       "      <th>second</th>\n",
       "      <th>elapsed_time</th>\n",
       "      <th>step_feet</th>\n",
       "    </tr>\n",
       "  </thead>\n",
       "  <tbody>\n",
       "    <tr>\n",
       "      <th>0</th>\n",
       "      <td>2021-12-04 11:31:03+00:00</td>\n",
       "      <td>38.576125</td>\n",
       "      <td>-77.412980</td>\n",
       "      <td>98.0</td>\n",
       "      <td>(38.576125083491206, -77.41298032924533, 98.0)</td>\n",
       "      <td>0.000000</td>\n",
       "      <td>0.000000</td>\n",
       "      <td>0.0</td>\n",
       "      <td>0.0</td>\n",
       "      <td>0.000000</td>\n",
       "      <td>0</td>\n",
       "      <td>0:00:00</td>\n",
       "      <td>0.000000</td>\n",
       "    </tr>\n",
       "    <tr>\n",
       "      <th>1</th>\n",
       "      <td>2021-12-04 11:31:04+00:00</td>\n",
       "      <td>38.576111</td>\n",
       "      <td>-77.412989</td>\n",
       "      <td>98.0</td>\n",
       "      <td>(38.576110918074846, -77.41298879496753, 98.0)</td>\n",
       "      <td>0.001080</td>\n",
       "      <td>3.889044</td>\n",
       "      <td>0.0</td>\n",
       "      <td>0.0</td>\n",
       "      <td>0.001080</td>\n",
       "      <td>1</td>\n",
       "      <td>0:00:01</td>\n",
       "      <td>5.703931</td>\n",
       "    </tr>\n",
       "    <tr>\n",
       "      <th>2</th>\n",
       "      <td>2021-12-04 11:31:05+00:00</td>\n",
       "      <td>38.576098</td>\n",
       "      <td>-77.412999</td>\n",
       "      <td>98.0</td>\n",
       "      <td>(38.576098177582026, -77.4129987694323, 98.0)</td>\n",
       "      <td>0.001032</td>\n",
       "      <td>3.715488</td>\n",
       "      <td>0.0</td>\n",
       "      <td>0.0</td>\n",
       "      <td>0.002112</td>\n",
       "      <td>2</td>\n",
       "      <td>0:00:02</td>\n",
       "      <td>5.449382</td>\n",
       "    </tr>\n",
       "    <tr>\n",
       "      <th>3</th>\n",
       "      <td>2021-12-04 11:31:06+00:00</td>\n",
       "      <td>38.576086</td>\n",
       "      <td>-77.413008</td>\n",
       "      <td>98.0</td>\n",
       "      <td>(38.5760856885463, -77.4130077380687, 98.0)</td>\n",
       "      <td>0.000990</td>\n",
       "      <td>3.562560</td>\n",
       "      <td>0.0</td>\n",
       "      <td>0.0</td>\n",
       "      <td>0.003102</td>\n",
       "      <td>3</td>\n",
       "      <td>0:00:03</td>\n",
       "      <td>5.225088</td>\n",
       "    </tr>\n",
       "    <tr>\n",
       "      <th>4</th>\n",
       "      <td>2021-12-04 11:31:07+00:00</td>\n",
       "      <td>38.576070</td>\n",
       "      <td>-77.413020</td>\n",
       "      <td>98.0</td>\n",
       "      <td>(38.576070349663496, -77.41301955655217, 98.0)</td>\n",
       "      <td>0.001237</td>\n",
       "      <td>4.454028</td>\n",
       "      <td>0.0</td>\n",
       "      <td>0.0</td>\n",
       "      <td>0.004339</td>\n",
       "      <td>4</td>\n",
       "      <td>0:00:04</td>\n",
       "      <td>6.532574</td>\n",
       "    </tr>\n",
       "  </tbody>\n",
       "</table>\n",
       "</div>"
      ],
      "text/plain": [
       "                       time   latitude  longitude  elevation  \\\n",
       "0 2021-12-04 11:31:03+00:00  38.576125 -77.412980       98.0   \n",
       "1 2021-12-04 11:31:04+00:00  38.576111 -77.412989       98.0   \n",
       "2 2021-12-04 11:31:05+00:00  38.576098 -77.412999       98.0   \n",
       "3 2021-12-04 11:31:06+00:00  38.576086 -77.413008       98.0   \n",
       "4 2021-12-04 11:31:07+00:00  38.576070 -77.413020       98.0   \n",
       "\n",
       "                                         pointxyz  distance       mph  \\\n",
       "0  (38.576125083491206, -77.41298032924533, 98.0)  0.000000  0.000000   \n",
       "1  (38.576110918074846, -77.41298879496753, 98.0)  0.001080  3.889044   \n",
       "2   (38.576098177582026, -77.4129987694323, 98.0)  0.001032  3.715488   \n",
       "3     (38.5760856885463, -77.4130077380687, 98.0)  0.000990  3.562560   \n",
       "4  (38.576070349663496, -77.41301955655217, 98.0)  0.001237  4.454028   \n",
       "\n",
       "   elevation_change  cum_elevation  cum_distance  second elapsed_time  \\\n",
       "0               0.0            0.0      0.000000       0      0:00:00   \n",
       "1               0.0            0.0      0.001080       1      0:00:01   \n",
       "2               0.0            0.0      0.002112       2      0:00:02   \n",
       "3               0.0            0.0      0.003102       3      0:00:03   \n",
       "4               0.0            0.0      0.004339       4      0:00:04   \n",
       "\n",
       "   step_feet  \n",
       "0   0.000000  \n",
       "1   5.703931  \n",
       "2   5.449382  \n",
       "3   5.225088  \n",
       "4   6.532574  "
      ]
     },
     "execution_count": 30,
     "metadata": {},
     "output_type": "execute_result"
    }
   ],
   "source": [
    "# Adding Elapsed Time\n",
    "def elapsed_time(row):\n",
    "    time = str(datetime.timedelta(seconds=row['second']))\n",
    "    return time\n",
    "\n",
    "df['elapsed_time']= df.apply(elapsed_time, axis=1)\n",
    "\n",
    "# Adding steps/distance in feet\n",
    "df['step_feet'] = df['distance'] * 5280\n",
    "df.head()\n"
   ]
  },
  {
   "cell_type": "code",
   "execution_count": 31,
   "metadata": {},
   "outputs": [],
   "source": [
    "# Identify times when runner is stopped or moving very slowly\n",
    "def find_stops(row):\n",
    "    if row['mph'] < 1:\n",
    "        return 0\n",
    "    return 1\n",
    "\n",
    "df['moving_time'] = df.apply(find_stops, axis=1)"
   ]
  },
  {
   "cell_type": "code",
   "execution_count": 32,
   "metadata": {},
   "outputs": [
    {
     "data": {
      "text/plain": [
       "65.80804768"
      ]
     },
     "execution_count": 32,
     "metadata": {},
     "output_type": "execute_result"
    }
   ],
   "source": [
    "df['distance'].sum()"
   ]
  },
  {
   "cell_type": "code",
   "execution_count": 40,
   "metadata": {},
   "outputs": [],
   "source": [
    "df.to_csv('data/df_add.csv', index=False)"
   ]
  },
  {
   "cell_type": "code",
   "execution_count": null,
   "metadata": {},
   "outputs": [],
   "source": []
  }
 ],
 "metadata": {
  "interpreter": {
   "hash": "aa1e2d50254fee92e21ded0f4366ee792dda71ab2204fc3422a666dc6db7b43d"
  },
  "kernelspec": {
   "display_name": "Python 3.6.13 64-bit ('geopandas_env': conda)",
   "language": "python",
   "name": "python3"
  },
  "language_info": {
   "codemirror_mode": {
    "name": "ipython",
    "version": 3
   },
   "file_extension": ".py",
   "mimetype": "text/x-python",
   "name": "python",
   "nbconvert_exporter": "python",
   "pygments_lexer": "ipython3",
   "version": "3.10.2"
  },
  "orig_nbformat": 4
 },
 "nbformat": 4,
 "nbformat_minor": 2
}
