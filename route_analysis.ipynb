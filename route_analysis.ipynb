{
 "cells": [
  {
   "cell_type": "markdown",
   "metadata": {},
   "source": [
    "# Installing Dependancies\n"
   ]
  },
  {
   "cell_type": "code",
   "execution_count": 212,
   "metadata": {},
   "outputs": [],
   "source": [
    "import gpxpy\n",
    "import gpxpy.gpx\n",
    "\n",
    "import pandas as pd\n",
    "import matplotlib.pyplot as plt\n",
    "from matplotlib import colors\n",
    "from matplotlib.ticker import PercentFormatter\n",
    "\n",
    "from geopy.distance import distance\n",
    "from geopy.distance import geodesic\n",
    "from geopy import distance\n",
    "import math\n",
    "\n",
    "import haversine as hs\n",
    "import numpy as np\n",
    "\n",
    "import datetime\n",
    "from time import strftime\n",
    "from time import gmtime\n",
    "\n",
    "\n",
    "\n",
    "plt.rcParams['axes.spines.top'] = False\n",
    "plt.rcParams['axes.spines.right'] = False"
   ]
  },
  {
   "cell_type": "code",
   "execution_count": 213,
   "metadata": {},
   "outputs": [],
   "source": [
    "\n",
    "with open('Routes/DD100K_2021.gpx', 'r') as gpx_file:\n",
    "    DDgpx = gpxpy.parse(gpx_file)"
   ]
  },
  {
   "cell_type": "code",
   "execution_count": 214,
   "metadata": {},
   "outputs": [
    {
     "data": {
      "text/plain": [
       "GPX(tracks=[GPXTrack(name='Prince William County Trail Running', segments=[GPXTrackSegment(points=[...])])])"
      ]
     },
     "execution_count": 214,
     "metadata": {},
     "output_type": "execute_result"
    }
   ],
   "source": [
    "DDgpx"
   ]
  },
  {
   "cell_type": "code",
   "execution_count": 215,
   "metadata": {},
   "outputs": [
    {
     "data": {
      "text/plain": [
       "59640"
      ]
     },
     "execution_count": 215,
     "metadata": {},
     "output_type": "execute_result"
    }
   ],
   "source": [
    "DDgpx.get_track_points_no()"
   ]
  },
  {
   "cell_type": "markdown",
   "metadata": {},
   "source": [
    "# Loading a GPX file\n"
   ]
  },
  {
   "cell_type": "code",
   "execution_count": 216,
   "metadata": {},
   "outputs": [],
   "source": [
    "# Loading a GPX file\n",
    "with open('Routes/2-loop_mtvernon.gpx', 'r') as gpx_file:\n",
    "    loop2gpx = gpxpy.parse(gpx_file)"
   ]
  },
  {
   "cell_type": "code",
   "execution_count": 217,
   "metadata": {},
   "outputs": [
    {
     "name": "stdout",
     "output_type": "stream",
     "text": [
      "4304\n",
      "MinimumMaximum(minimum=-27.200000762939453, maximum=28.399999618530273)\n",
      "UphillDownhill(uphill=284.19998838156533, downhill=302.59998800009583)\n",
      "# of tracks -  1\n",
      "# of segments -  1\n"
     ]
    }
   ],
   "source": [
    "\n",
    "print(loop2gpx.get_track_points_no())\n",
    "print(loop2gpx.get_elevation_extremes())\n",
    "print(loop2gpx.get_uphill_downhill())\n",
    "print('# of tracks - ',len(loop2gpx.tracks))\n",
    "print('# of segments - ',len(loop2gpx.tracks[0].segments))"
   ]
  },
  {
   "cell_type": "code",
   "execution_count": 218,
   "metadata": {},
   "outputs": [
    {
     "data": {
      "text/plain": [
       "[GPXTrackPoint(38.79649353213608, -77.04552322626114, elevation=-3.0, time=datetime.datetime(2021, 11, 19, 14, 52, 53, tzinfo=SimpleTZ(\"Z\"))),\n",
       " GPXTrackPoint(38.79648883827031, -77.04551886767149, elevation=-3.0, time=datetime.datetime(2021, 11, 19, 14, 52, 54, tzinfo=SimpleTZ(\"Z\"))),\n",
       " GPXTrackPoint(38.796473080292344, -77.04550998285413, elevation=-3.0, time=datetime.datetime(2021, 11, 19, 14, 52, 55, tzinfo=SimpleTZ(\"Z\"))),\n",
       " GPXTrackPoint(38.79645690321922, -77.04550285823643, elevation=-3.0, time=datetime.datetime(2021, 11, 19, 14, 52, 56, tzinfo=SimpleTZ(\"Z\")))]"
      ]
     },
     "execution_count": 218,
     "metadata": {},
     "output_type": "execute_result"
    }
   ],
   "source": [
    "loop2gpx.tracks[0].segments[0].points[:4]"
   ]
  },
  {
   "cell_type": "code",
   "execution_count": 219,
   "metadata": {},
   "outputs": [
    {
     "data": {
      "text/plain": [
       "[{'time': datetime.datetime(2021, 12, 4, 11, 31, 3, tzinfo=SimpleTZ(\"Z\")),\n",
       "  'latitude': 38.576125083491206,\n",
       "  'longitude': -77.41298032924533,\n",
       "  'elevation': 98.0},\n",
       " {'time': datetime.datetime(2021, 12, 4, 11, 31, 4, tzinfo=SimpleTZ(\"Z\")),\n",
       "  'latitude': 38.576110918074846,\n",
       "  'longitude': -77.41298879496753,\n",
       "  'elevation': 98.0},\n",
       " {'time': datetime.datetime(2021, 12, 4, 11, 31, 5, tzinfo=SimpleTZ(\"Z\")),\n",
       "  'latitude': 38.576098177582026,\n",
       "  'longitude': -77.4129987694323,\n",
       "  'elevation': 98.0}]"
      ]
     },
     "execution_count": 219,
     "metadata": {},
     "output_type": "execute_result"
    }
   ],
   "source": [
    "# making a dictionary that can be converted to Pandas Dataframe\n",
    "route_info=[]\n",
    "\n",
    "for track in DDgpx.tracks:\n",
    "    for segment in track.segments:\n",
    "        for point in segment.points:\n",
    "            route_info.append({\n",
    "                'time': point.time,\n",
    "                'latitude': point.latitude,\n",
    "                'longitude':point.longitude,\n",
    "                'elevation': point.elevation\n",
    "            })\n",
    "\n",
    "route_info[:3]"
   ]
  },
  {
   "cell_type": "code",
   "execution_count": 220,
   "metadata": {},
   "outputs": [
    {
     "data": {
      "text/html": [
       "<div>\n",
       "<style scoped>\n",
       "    .dataframe tbody tr th:only-of-type {\n",
       "        vertical-align: middle;\n",
       "    }\n",
       "\n",
       "    .dataframe tbody tr th {\n",
       "        vertical-align: top;\n",
       "    }\n",
       "\n",
       "    .dataframe thead th {\n",
       "        text-align: right;\n",
       "    }\n",
       "</style>\n",
       "<table border=\"1\" class=\"dataframe\">\n",
       "  <thead>\n",
       "    <tr style=\"text-align: right;\">\n",
       "      <th></th>\n",
       "      <th>time</th>\n",
       "      <th>latitude</th>\n",
       "      <th>longitude</th>\n",
       "      <th>elevation</th>\n",
       "    </tr>\n",
       "  </thead>\n",
       "  <tbody>\n",
       "    <tr>\n",
       "      <th>0</th>\n",
       "      <td>2021-12-04 11:31:03+00:00</td>\n",
       "      <td>38.576125</td>\n",
       "      <td>-77.412980</td>\n",
       "      <td>98.0</td>\n",
       "    </tr>\n",
       "    <tr>\n",
       "      <th>1</th>\n",
       "      <td>2021-12-04 11:31:04+00:00</td>\n",
       "      <td>38.576111</td>\n",
       "      <td>-77.412989</td>\n",
       "      <td>98.0</td>\n",
       "    </tr>\n",
       "    <tr>\n",
       "      <th>2</th>\n",
       "      <td>2021-12-04 11:31:05+00:00</td>\n",
       "      <td>38.576098</td>\n",
       "      <td>-77.412999</td>\n",
       "      <td>98.0</td>\n",
       "    </tr>\n",
       "    <tr>\n",
       "      <th>3</th>\n",
       "      <td>2021-12-04 11:31:06+00:00</td>\n",
       "      <td>38.576086</td>\n",
       "      <td>-77.413008</td>\n",
       "      <td>98.0</td>\n",
       "    </tr>\n",
       "    <tr>\n",
       "      <th>4</th>\n",
       "      <td>2021-12-04 11:31:07+00:00</td>\n",
       "      <td>38.576070</td>\n",
       "      <td>-77.413020</td>\n",
       "      <td>98.0</td>\n",
       "    </tr>\n",
       "  </tbody>\n",
       "</table>\n",
       "</div>"
      ],
      "text/plain": [
       "                       time   latitude  longitude  elevation\n",
       "0 2021-12-04 11:31:03+00:00  38.576125 -77.412980       98.0\n",
       "1 2021-12-04 11:31:04+00:00  38.576111 -77.412989       98.0\n",
       "2 2021-12-04 11:31:05+00:00  38.576098 -77.412999       98.0\n",
       "3 2021-12-04 11:31:06+00:00  38.576086 -77.413008       98.0\n",
       "4 2021-12-04 11:31:07+00:00  38.576070 -77.413020       98.0"
      ]
     },
     "execution_count": 220,
     "metadata": {},
     "output_type": "execute_result"
    }
   ],
   "source": [
    "df = pd.DataFrame(route_info)\n",
    "df.head()"
   ]
  },
  {
   "cell_type": "markdown",
   "metadata": {},
   "source": [
    "# Create Simple BASE CSV file\n"
   ]
  },
  {
   "cell_type": "code",
   "execution_count": 221,
   "metadata": {},
   "outputs": [],
   "source": [
    "\n",
    "df.to_csv('data/df.csv', index=False)"
   ]
  },
  {
   "cell_type": "markdown",
   "metadata": {},
   "source": [
    "# Simple plots\n"
   ]
  },
  {
   "cell_type": "markdown",
   "metadata": {},
   "source": [
    "## Plot the Route\n"
   ]
  },
  {
   "cell_type": "code",
   "execution_count": 222,
   "metadata": {},
   "outputs": [
    {
     "data": {
      "image/png": "[encoded data removed]",
      "text/plain": [
       "<Figure size 576x1008 with 1 Axes>"
      ]
     },
     "metadata": {
      "needs_background": "light"
     },
     "output_type": "display_data"
    }
   ],
   "source": [
    "plt.figure(figsize=(8, 14))\n",
    "plt.scatter(df['longitude'], df['latitude'], color='#101010')\n",
    "plt.title('Route latitude and longitude points', size=20);"
   ]
  },
  {
   "cell_type": "markdown",
   "metadata": {},
   "source": [
    "## Plot the Elevation\n"
   ]
  },
  {
   "cell_type": "code",
   "execution_count": 223,
   "metadata": {},
   "outputs": [
    {
     "data": {
      "image/png": "[encoded data removed]",
      "text/plain": [
       "<Figure size 1296x432 with 1 Axes>"
      ]
     },
     "metadata": {
      "needs_background": "light"
     },
     "output_type": "display_data"
    }
   ],
   "source": [
    "plt.figure(figsize=(18,6))\n",
    "plt.scatter(df.index, df['elevation'], color='#101010')\n",
    "plt.title('Route elevation over time points', size=20);"
   ]
  },
  {
   "cell_type": "code",
   "execution_count": 224,
   "metadata": {},
   "outputs": [
    {
     "data": {
      "text/html": [
       "<div>\n",
       "<style scoped>\n",
       "    .dataframe tbody tr th:only-of-type {\n",
       "        vertical-align: middle;\n",
       "    }\n",
       "\n",
       "    .dataframe tbody tr th {\n",
       "        vertical-align: top;\n",
       "    }\n",
       "\n",
       "    .dataframe thead th {\n",
       "        text-align: right;\n",
       "    }\n",
       "</style>\n",
       "<table border=\"1\" class=\"dataframe\">\n",
       "  <thead>\n",
       "    <tr style=\"text-align: right;\">\n",
       "      <th></th>\n",
       "      <th>time</th>\n",
       "      <th>latitude</th>\n",
       "      <th>longitude</th>\n",
       "      <th>elevation</th>\n",
       "    </tr>\n",
       "  </thead>\n",
       "  <tbody>\n",
       "    <tr>\n",
       "      <th>0</th>\n",
       "      <td>2021-12-04 11:31:03+00:00</td>\n",
       "      <td>38.576125</td>\n",
       "      <td>-77.412980</td>\n",
       "      <td>98.0</td>\n",
       "    </tr>\n",
       "    <tr>\n",
       "      <th>1</th>\n",
       "      <td>2021-12-04 11:31:04+00:00</td>\n",
       "      <td>38.576111</td>\n",
       "      <td>-77.412989</td>\n",
       "      <td>98.0</td>\n",
       "    </tr>\n",
       "    <tr>\n",
       "      <th>2</th>\n",
       "      <td>2021-12-04 11:31:05+00:00</td>\n",
       "      <td>38.576098</td>\n",
       "      <td>-77.412999</td>\n",
       "      <td>98.0</td>\n",
       "    </tr>\n",
       "    <tr>\n",
       "      <th>3</th>\n",
       "      <td>2021-12-04 11:31:06+00:00</td>\n",
       "      <td>38.576086</td>\n",
       "      <td>-77.413008</td>\n",
       "      <td>98.0</td>\n",
       "    </tr>\n",
       "    <tr>\n",
       "      <th>4</th>\n",
       "      <td>2021-12-04 11:31:07+00:00</td>\n",
       "      <td>38.576070</td>\n",
       "      <td>-77.413020</td>\n",
       "      <td>98.0</td>\n",
       "    </tr>\n",
       "  </tbody>\n",
       "</table>\n",
       "</div>"
      ],
      "text/plain": [
       "                       time   latitude  longitude  elevation\n",
       "0 2021-12-04 11:31:03+00:00  38.576125 -77.412980       98.0\n",
       "1 2021-12-04 11:31:04+00:00  38.576111 -77.412989       98.0\n",
       "2 2021-12-04 11:31:05+00:00  38.576098 -77.412999       98.0\n",
       "3 2021-12-04 11:31:06+00:00  38.576086 -77.413008       98.0\n",
       "4 2021-12-04 11:31:07+00:00  38.576070 -77.413020       98.0"
      ]
     },
     "execution_count": 224,
     "metadata": {},
     "output_type": "execute_result"
    }
   ],
   "source": [
    "df.head()"
   ]
  },
  {
   "cell_type": "code",
   "execution_count": 225,
   "metadata": {},
   "outputs": [
    {
     "data": {
      "text/plain": [
       "(38.576125083491206, -77.41298032924533, 98.0)"
      ]
     },
     "execution_count": 225,
     "metadata": {},
     "output_type": "execute_result"
    }
   ],
   "source": [
    "pointxyz = []\n",
    "for i in range(0,len(df)):\n",
    "    pointxyz.append((df['latitude'][i], df['longitude'][i], df['elevation'][i]))\n",
    "\n",
    "pointxyz[0]"
   ]
  },
  {
   "cell_type": "code",
   "execution_count": 226,
   "metadata": {},
   "outputs": [
    {
     "data": {
      "text/html": [
       "<div>\n",
       "<style scoped>\n",
       "    .dataframe tbody tr th:only-of-type {\n",
       "        vertical-align: middle;\n",
       "    }\n",
       "\n",
       "    .dataframe tbody tr th {\n",
       "        vertical-align: top;\n",
       "    }\n",
       "\n",
       "    .dataframe thead th {\n",
       "        text-align: right;\n",
       "    }\n",
       "</style>\n",
       "<table border=\"1\" class=\"dataframe\">\n",
       "  <thead>\n",
       "    <tr style=\"text-align: right;\">\n",
       "      <th></th>\n",
       "      <th>time</th>\n",
       "      <th>latitude</th>\n",
       "      <th>longitude</th>\n",
       "      <th>elevation</th>\n",
       "      <th>pointxyz</th>\n",
       "    </tr>\n",
       "  </thead>\n",
       "  <tbody>\n",
       "    <tr>\n",
       "      <th>0</th>\n",
       "      <td>2021-12-04 11:31:03+00:00</td>\n",
       "      <td>38.576125</td>\n",
       "      <td>-77.412980</td>\n",
       "      <td>98.0</td>\n",
       "      <td>(38.576125083491206, -77.41298032924533, 98.0)</td>\n",
       "    </tr>\n",
       "    <tr>\n",
       "      <th>1</th>\n",
       "      <td>2021-12-04 11:31:04+00:00</td>\n",
       "      <td>38.576111</td>\n",
       "      <td>-77.412989</td>\n",
       "      <td>98.0</td>\n",
       "      <td>(38.576110918074846, -77.41298879496753, 98.0)</td>\n",
       "    </tr>\n",
       "    <tr>\n",
       "      <th>2</th>\n",
       "      <td>2021-12-04 11:31:05+00:00</td>\n",
       "      <td>38.576098</td>\n",
       "      <td>-77.412999</td>\n",
       "      <td>98.0</td>\n",
       "      <td>(38.576098177582026, -77.4129987694323, 98.0)</td>\n",
       "    </tr>\n",
       "    <tr>\n",
       "      <th>3</th>\n",
       "      <td>2021-12-04 11:31:06+00:00</td>\n",
       "      <td>38.576086</td>\n",
       "      <td>-77.413008</td>\n",
       "      <td>98.0</td>\n",
       "      <td>(38.5760856885463, -77.4130077380687, 98.0)</td>\n",
       "    </tr>\n",
       "    <tr>\n",
       "      <th>4</th>\n",
       "      <td>2021-12-04 11:31:07+00:00</td>\n",
       "      <td>38.576070</td>\n",
       "      <td>-77.413020</td>\n",
       "      <td>98.0</td>\n",
       "      <td>(38.576070349663496, -77.41301955655217, 98.0)</td>\n",
       "    </tr>\n",
       "  </tbody>\n",
       "</table>\n",
       "</div>"
      ],
      "text/plain": [
       "                       time   latitude  longitude  elevation  \\\n",
       "0 2021-12-04 11:31:03+00:00  38.576125 -77.412980       98.0   \n",
       "1 2021-12-04 11:31:04+00:00  38.576111 -77.412989       98.0   \n",
       "2 2021-12-04 11:31:05+00:00  38.576098 -77.412999       98.0   \n",
       "3 2021-12-04 11:31:06+00:00  38.576086 -77.413008       98.0   \n",
       "4 2021-12-04 11:31:07+00:00  38.576070 -77.413020       98.0   \n",
       "\n",
       "                                         pointxyz  \n",
       "0  (38.576125083491206, -77.41298032924533, 98.0)  \n",
       "1  (38.576110918074846, -77.41298879496753, 98.0)  \n",
       "2   (38.576098177582026, -77.4129987694323, 98.0)  \n",
       "3     (38.5760856885463, -77.4130077380687, 98.0)  \n",
       "4  (38.576070349663496, -77.41301955655217, 98.0)  "
      ]
     },
     "execution_count": 226,
     "metadata": {},
     "output_type": "execute_result"
    }
   ],
   "source": [
    "df['pointxyz']= pd.Series(pointxyz)\n",
    "df.head()"
   ]
  },
  {
   "cell_type": "markdown",
   "metadata": {},
   "source": [
    "# Distance Calcs\n"
   ]
  },
  {
   "cell_type": "markdown",
   "metadata": {},
   "source": [
    "## Geodesic\n"
   ]
  },
  {
   "cell_type": "code",
   "execution_count": 227,
   "metadata": {},
   "outputs": [
    {
     "name": "stdout",
     "output_type": "stream",
     "text": [
      "(38.576098177582026, -77.4129987694323) (38.576110918074846, -77.41298879496753)\n",
      "0.0010314937920102975\n"
     ]
    }
   ],
   "source": [
    "b_latlon = df['pointxyz'][1+1][:2]\n",
    "a_latlon = df['pointxyz'][1][:2]\n",
    "print(b_latlon,a_latlon)\n",
    "print(geodesic(a_latlon,b_latlon).miles)"
   ]
  },
  {
   "cell_type": "code",
   "execution_count": 228,
   "metadata": {},
   "outputs": [
    {
     "data": {
      "text/html": [
       "<div>\n",
       "<style scoped>\n",
       "    .dataframe tbody tr th:only-of-type {\n",
       "        vertical-align: middle;\n",
       "    }\n",
       "\n",
       "    .dataframe tbody tr th {\n",
       "        vertical-align: top;\n",
       "    }\n",
       "\n",
       "    .dataframe thead th {\n",
       "        text-align: right;\n",
       "    }\n",
       "</style>\n",
       "<table border=\"1\" class=\"dataframe\">\n",
       "  <thead>\n",
       "    <tr style=\"text-align: right;\">\n",
       "      <th></th>\n",
       "      <th>time</th>\n",
       "      <th>latitude</th>\n",
       "      <th>longitude</th>\n",
       "      <th>elevation</th>\n",
       "      <th>pointxyz</th>\n",
       "      <th>euc_dist</th>\n",
       "    </tr>\n",
       "  </thead>\n",
       "  <tbody>\n",
       "    <tr>\n",
       "      <th>0</th>\n",
       "      <td>2021-12-04 11:31:03+00:00</td>\n",
       "      <td>38.576125</td>\n",
       "      <td>-77.412980</td>\n",
       "      <td>98.0</td>\n",
       "      <td>(38.576125083491206, -77.41298032924533, 98.0)</td>\n",
       "      <td>0.000000</td>\n",
       "    </tr>\n",
       "    <tr>\n",
       "      <th>1</th>\n",
       "      <td>2021-12-04 11:31:04+00:00</td>\n",
       "      <td>38.576111</td>\n",
       "      <td>-77.412989</td>\n",
       "      <td>98.0</td>\n",
       "      <td>(38.576110918074846, -77.41298879496753, 98.0)</td>\n",
       "      <td>0.001079</td>\n",
       "    </tr>\n",
       "    <tr>\n",
       "      <th>2</th>\n",
       "      <td>2021-12-04 11:31:05+00:00</td>\n",
       "      <td>38.576098</td>\n",
       "      <td>-77.412999</td>\n",
       "      <td>98.0</td>\n",
       "      <td>(38.576098177582026, -77.4129987694323, 98.0)</td>\n",
       "      <td>0.001031</td>\n",
       "    </tr>\n",
       "    <tr>\n",
       "      <th>3</th>\n",
       "      <td>2021-12-04 11:31:06+00:00</td>\n",
       "      <td>38.576086</td>\n",
       "      <td>-77.413008</td>\n",
       "      <td>98.0</td>\n",
       "      <td>(38.5760856885463, -77.4130077380687, 98.0)</td>\n",
       "      <td>0.000989</td>\n",
       "    </tr>\n",
       "    <tr>\n",
       "      <th>4</th>\n",
       "      <td>2021-12-04 11:31:07+00:00</td>\n",
       "      <td>38.576070</td>\n",
       "      <td>-77.413020</td>\n",
       "      <td>98.0</td>\n",
       "      <td>(38.576070349663496, -77.41301955655217, 98.0)</td>\n",
       "      <td>0.001237</td>\n",
       "    </tr>\n",
       "  </tbody>\n",
       "</table>\n",
       "</div>"
      ],
      "text/plain": [
       "                       time   latitude  longitude  elevation  \\\n",
       "0 2021-12-04 11:31:03+00:00  38.576125 -77.412980       98.0   \n",
       "1 2021-12-04 11:31:04+00:00  38.576111 -77.412989       98.0   \n",
       "2 2021-12-04 11:31:05+00:00  38.576098 -77.412999       98.0   \n",
       "3 2021-12-04 11:31:06+00:00  38.576086 -77.413008       98.0   \n",
       "4 2021-12-04 11:31:07+00:00  38.576070 -77.413020       98.0   \n",
       "\n",
       "                                         pointxyz  euc_dist  \n",
       "0  (38.576125083491206, -77.41298032924533, 98.0)  0.000000  \n",
       "1  (38.576110918074846, -77.41298879496753, 98.0)  0.001079  \n",
       "2   (38.576098177582026, -77.4129987694323, 98.0)  0.001031  \n",
       "3     (38.5760856885463, -77.4130077380687, 98.0)  0.000989  \n",
       "4  (38.576070349663496, -77.41301955655217, 98.0)  0.001237  "
      ]
     },
     "execution_count": 228,
     "metadata": {},
     "output_type": "execute_result"
    }
   ],
   "source": [
    "# Get Step distance, i.e. distance between points.\n",
    "euc_dist = [0]\n",
    "# fl_dist =[0]\n",
    "\n",
    "for i in range(len(df)-1):\n",
    "    \n",
    "    b_latlon = df['pointxyz'][i+1][:2]\n",
    "    a_latlon = df['pointxyz'][i][:2]\n",
    "\n",
    "    # OG elevation in meters (1000m = .6 miles)  so change meters into km and then convert to miles\n",
    "    b_elv = df['pointxyz'][i+1][2]/1000*.6\n",
    "    a_elv = df['pointxyz'][i][2]/1000*.6\n",
    "    eldiff = b_elv-a_elv\n",
    "\n",
    "    flat_distance =geodesic(a_latlon,b_latlon).miles\n",
    "    # fl_dist.append(flat_distance)\n",
    "\n",
    "    euc_distance = math.sqrt(flat_distance**2 + eldiff**2)\n",
    "    euc_dist.append(euc_distance)\n",
    "\n",
    "df['euc_dist'] = pd.Series(euc_dist)\n",
    "# df['flat_dist'] = pd.Series(fl_dist)\n",
    "\n",
    "df.head()\n"
   ]
  },
  {
   "cell_type": "markdown",
   "metadata": {},
   "source": [
    "## Haversine\n"
   ]
  },
  {
   "cell_type": "code",
   "execution_count": 229,
   "metadata": {},
   "outputs": [],
   "source": [
    "def haversine_distance(lat1, lon1, lat2, lon2) -> float:\n",
    "    distance = hs.haversine(\n",
    "        point1=(lat1,lon1),\n",
    "        point2=(lat2,lon2),\n",
    "        unit=hs.Unit.MILES\n",
    "    )\n",
    "    return np.round(distance,8)"
   ]
  },
  {
   "cell_type": "code",
   "execution_count": 230,
   "metadata": {},
   "outputs": [
    {
     "data": {
      "text/plain": [
       "0.00108029"
      ]
     },
     "execution_count": 230,
     "metadata": {},
     "output_type": "execute_result"
    }
   ],
   "source": [
    "haversine_distance(\n",
    "    lat1=df.iloc[0]['latitude'],\n",
    "    lon1=df.iloc[0]['longitude'],\n",
    "    lat2=df.iloc[1]['latitude'],\n",
    "    lon2=df.iloc[1]['longitude']\n",
    ")"
   ]
  },
  {
   "cell_type": "code",
   "execution_count": 231,
   "metadata": {},
   "outputs": [],
   "source": [
    "distances = [np.nan]\n",
    "cap_mph = 10\n",
    "distance_cap = 1/(60/cap_mph*60)\n",
    "\n",
    "for i in range(len(df)):\n",
    "    if i == 0:\n",
    "        continue\n",
    "    else:\n",
    "        unit_dist = haversine_distance(\n",
    "            lat1=df.iloc[i - 1]['latitude'],\n",
    "            lon1=df.iloc[i - 1]['longitude'],\n",
    "            lat2=df.iloc[i]['latitude'],\n",
    "            lon2=df.iloc[i]['longitude']\n",
    "        )\n",
    "        if unit_dist > distance_cap:\n",
    "            distances.append(np.nan)\n",
    "        else:\n",
    "            distances.append(unit_dist)\n",
    "\n",
    "df['distance'] = distances\n"
   ]
  },
  {
   "cell_type": "code",
   "execution_count": 232,
   "metadata": {},
   "outputs": [
    {
     "data": {
      "text/plain": [
       "14.666666666666668"
      ]
     },
     "execution_count": 232,
     "metadata": {},
     "output_type": "execute_result"
    }
   ],
   "source": [
    "cap_mph = 10\n",
    "distance_capft = 1/(60/cap_mph*60)*5280\n",
    "distance_capft"
   ]
  },
  {
   "cell_type": "code",
   "execution_count": 233,
   "metadata": {},
   "outputs": [
    {
     "data": {
      "text/plain": [
       "740    0.000570\n",
       "741    0.000629\n",
       "742         NaN\n",
       "743    0.000728\n",
       "744    0.002583\n",
       "Name: distance, dtype: float64"
      ]
     },
     "execution_count": 233,
     "metadata": {},
     "output_type": "execute_result"
    }
   ],
   "source": [
    "df['distance'].sum()\n",
    "# df.distance.describe()\n",
    "df['distance'][740:745]"
   ]
  },
  {
   "cell_type": "code",
   "execution_count": 234,
   "metadata": {},
   "outputs": [],
   "source": [
    "df['distance'] = df['distance'].interpolate().fillna(0)"
   ]
  },
  {
   "cell_type": "markdown",
   "metadata": {},
   "source": [
    "#### Speed Calc\n"
   ]
  },
  {
   "cell_type": "code",
   "execution_count": 236,
   "metadata": {},
   "outputs": [],
   "source": [
    "# 1 sec is 1/60th of minute and a minute is 1/60th of an hour so \n",
    "\n",
    "speed = []\n",
    "\n",
    "for i in range(len(df)):\n",
    "    mph = df['distance'][i]/(1/60/60)\n",
    "    speed.append(mph)\n",
    "\n",
    "df['mph'] = pd.Series(speed)\n",
    "\n"
   ]
  },
  {
   "cell_type": "code",
   "execution_count": 237,
   "metadata": {},
   "outputs": [
    {
     "data": {
      "text/plain": [
       "740    2.053368\n",
       "741    2.265048\n",
       "742    2.442384\n",
       "743    2.619720\n",
       "744    9.298548\n",
       "Name: mph, dtype: float64"
      ]
     },
     "execution_count": 237,
     "metadata": {},
     "output_type": "execute_result"
    }
   ],
   "source": [
    "df['mph'].describe()\n",
    "df[df['mph'].isna()]\n",
    "df['mph'][740:745]"
   ]
  },
  {
   "cell_type": "markdown",
   "metadata": {},
   "source": [
    "#### Elevation Change, Cum Elevation, and Cum Distance\n"
   ]
  },
  {
   "cell_type": "code",
   "execution_count": 238,
   "metadata": {},
   "outputs": [
    {
     "data": {
      "text/html": [
       "<div>\n",
       "<style scoped>\n",
       "    .dataframe tbody tr th:only-of-type {\n",
       "        vertical-align: middle;\n",
       "    }\n",
       "\n",
       "    .dataframe tbody tr th {\n",
       "        vertical-align: top;\n",
       "    }\n",
       "\n",
       "    .dataframe thead th {\n",
       "        text-align: right;\n",
       "    }\n",
       "</style>\n",
       "<table border=\"1\" class=\"dataframe\">\n",
       "  <thead>\n",
       "    <tr style=\"text-align: right;\">\n",
       "      <th></th>\n",
       "      <th>time</th>\n",
       "      <th>latitude</th>\n",
       "      <th>longitude</th>\n",
       "      <th>elevation</th>\n",
       "      <th>pointxyz</th>\n",
       "      <th>euc_dist</th>\n",
       "      <th>distance</th>\n",
       "      <th>mph</th>\n",
       "      <th>elevation_change</th>\n",
       "      <th>cum_elevation</th>\n",
       "      <th>cum_distance</th>\n",
       "    </tr>\n",
       "  </thead>\n",
       "  <tbody>\n",
       "    <tr>\n",
       "      <th>0</th>\n",
       "      <td>2021-12-04 11:31:03+00:00</td>\n",
       "      <td>38.576125</td>\n",
       "      <td>-77.412980</td>\n",
       "      <td>98.0</td>\n",
       "      <td>(38.576125083491206, -77.41298032924533, 98.0)</td>\n",
       "      <td>0.000000</td>\n",
       "      <td>0.000000</td>\n",
       "      <td>0.000000</td>\n",
       "      <td>0.0</td>\n",
       "      <td>0.0</td>\n",
       "      <td>0.000000</td>\n",
       "    </tr>\n",
       "    <tr>\n",
       "      <th>1</th>\n",
       "      <td>2021-12-04 11:31:04+00:00</td>\n",
       "      <td>38.576111</td>\n",
       "      <td>-77.412989</td>\n",
       "      <td>98.0</td>\n",
       "      <td>(38.576110918074846, -77.41298879496753, 98.0)</td>\n",
       "      <td>0.001079</td>\n",
       "      <td>0.001080</td>\n",
       "      <td>3.889044</td>\n",
       "      <td>0.0</td>\n",
       "      <td>0.0</td>\n",
       "      <td>0.001080</td>\n",
       "    </tr>\n",
       "    <tr>\n",
       "      <th>2</th>\n",
       "      <td>2021-12-04 11:31:05+00:00</td>\n",
       "      <td>38.576098</td>\n",
       "      <td>-77.412999</td>\n",
       "      <td>98.0</td>\n",
       "      <td>(38.576098177582026, -77.4129987694323, 98.0)</td>\n",
       "      <td>0.001031</td>\n",
       "      <td>0.001032</td>\n",
       "      <td>3.715488</td>\n",
       "      <td>0.0</td>\n",
       "      <td>0.0</td>\n",
       "      <td>0.002112</td>\n",
       "    </tr>\n",
       "    <tr>\n",
       "      <th>3</th>\n",
       "      <td>2021-12-04 11:31:06+00:00</td>\n",
       "      <td>38.576086</td>\n",
       "      <td>-77.413008</td>\n",
       "      <td>98.0</td>\n",
       "      <td>(38.5760856885463, -77.4130077380687, 98.0)</td>\n",
       "      <td>0.000989</td>\n",
       "      <td>0.000990</td>\n",
       "      <td>3.562560</td>\n",
       "      <td>0.0</td>\n",
       "      <td>0.0</td>\n",
       "      <td>0.003102</td>\n",
       "    </tr>\n",
       "    <tr>\n",
       "      <th>4</th>\n",
       "      <td>2021-12-04 11:31:07+00:00</td>\n",
       "      <td>38.576070</td>\n",
       "      <td>-77.413020</td>\n",
       "      <td>98.0</td>\n",
       "      <td>(38.576070349663496, -77.41301955655217, 98.0)</td>\n",
       "      <td>0.001237</td>\n",
       "      <td>0.001237</td>\n",
       "      <td>4.454028</td>\n",
       "      <td>0.0</td>\n",
       "      <td>0.0</td>\n",
       "      <td>0.004339</td>\n",
       "    </tr>\n",
       "  </tbody>\n",
       "</table>\n",
       "</div>"
      ],
      "text/plain": [
       "                       time   latitude  longitude  elevation  \\\n",
       "0 2021-12-04 11:31:03+00:00  38.576125 -77.412980       98.0   \n",
       "1 2021-12-04 11:31:04+00:00  38.576111 -77.412989       98.0   \n",
       "2 2021-12-04 11:31:05+00:00  38.576098 -77.412999       98.0   \n",
       "3 2021-12-04 11:31:06+00:00  38.576086 -77.413008       98.0   \n",
       "4 2021-12-04 11:31:07+00:00  38.576070 -77.413020       98.0   \n",
       "\n",
       "                                         pointxyz  euc_dist  distance  \\\n",
       "0  (38.576125083491206, -77.41298032924533, 98.0)  0.000000  0.000000   \n",
       "1  (38.576110918074846, -77.41298879496753, 98.0)  0.001079  0.001080   \n",
       "2   (38.576098177582026, -77.4129987694323, 98.0)  0.001031  0.001032   \n",
       "3     (38.5760856885463, -77.4130077380687, 98.0)  0.000989  0.000990   \n",
       "4  (38.576070349663496, -77.41301955655217, 98.0)  0.001237  0.001237   \n",
       "\n",
       "        mph  elevation_change  cum_elevation  cum_distance  \n",
       "0  0.000000               0.0            0.0      0.000000  \n",
       "1  3.889044               0.0            0.0      0.001080  \n",
       "2  3.715488               0.0            0.0      0.002112  \n",
       "3  3.562560               0.0            0.0      0.003102  \n",
       "4  4.454028               0.0            0.0      0.004339  "
      ]
     },
     "execution_count": 238,
     "metadata": {},
     "output_type": "execute_result"
    }
   ],
   "source": [
    "df['elevation_change'] = df['elevation'].diff()\n",
    "df['cum_elevation'] = df['elevation_change'].cumsum()\n",
    "df['cum_distance'] = df['distance'].cumsum()\n",
    "df = df.fillna(0)\n",
    "df.head()\n"
   ]
  },
  {
   "cell_type": "code",
   "execution_count": 239,
   "metadata": {},
   "outputs": [
    {
     "data": {
      "text/html": [
       "<div>\n",
       "<style scoped>\n",
       "    .dataframe tbody tr th:only-of-type {\n",
       "        vertical-align: middle;\n",
       "    }\n",
       "\n",
       "    .dataframe tbody tr th {\n",
       "        vertical-align: top;\n",
       "    }\n",
       "\n",
       "    .dataframe thead th {\n",
       "        text-align: right;\n",
       "    }\n",
       "</style>\n",
       "<table border=\"1\" class=\"dataframe\">\n",
       "  <thead>\n",
       "    <tr style=\"text-align: right;\">\n",
       "      <th></th>\n",
       "      <th>latitude</th>\n",
       "      <th>longitude</th>\n",
       "      <th>elevation</th>\n",
       "      <th>euc_dist</th>\n",
       "      <th>distance</th>\n",
       "      <th>mph</th>\n",
       "      <th>elevation_change</th>\n",
       "      <th>cum_elevation</th>\n",
       "      <th>cum_distance</th>\n",
       "    </tr>\n",
       "  </thead>\n",
       "  <tbody>\n",
       "    <tr>\n",
       "      <th>count</th>\n",
       "      <td>59640.000000</td>\n",
       "      <td>59640.000000</td>\n",
       "      <td>59640.000000</td>\n",
       "      <td>59640.000000</td>\n",
       "      <td>59640.000000</td>\n",
       "      <td>59640.000000</td>\n",
       "      <td>59640.000000</td>\n",
       "      <td>59640.000000</td>\n",
       "      <td>59640.000000</td>\n",
       "    </tr>\n",
       "    <tr>\n",
       "      <th>mean</th>\n",
       "      <td>38.580718</td>\n",
       "      <td>-77.379950</td>\n",
       "      <td>45.231207</td>\n",
       "      <td>0.001130</td>\n",
       "      <td>0.001103</td>\n",
       "      <td>3.972317</td>\n",
       "      <td>-0.000999</td>\n",
       "      <td>-52.768793</td>\n",
       "      <td>34.999681</td>\n",
       "    </tr>\n",
       "    <tr>\n",
       "      <th>std</th>\n",
       "      <td>0.012729</td>\n",
       "      <td>0.025952</td>\n",
       "      <td>36.452463</td>\n",
       "      <td>0.000702</td>\n",
       "      <td>0.000458</td>\n",
       "      <td>1.649963</td>\n",
       "      <td>0.165107</td>\n",
       "      <td>36.452463</td>\n",
       "      <td>18.875987</td>\n",
       "    </tr>\n",
       "    <tr>\n",
       "      <th>min</th>\n",
       "      <td>38.557794</td>\n",
       "      <td>-77.424799</td>\n",
       "      <td>-27.200001</td>\n",
       "      <td>0.000000</td>\n",
       "      <td>0.000000</td>\n",
       "      <td>0.000000</td>\n",
       "      <td>-1.199997</td>\n",
       "      <td>-125.200001</td>\n",
       "      <td>0.000000</td>\n",
       "    </tr>\n",
       "    <tr>\n",
       "      <th>25%</th>\n",
       "      <td>38.571374</td>\n",
       "      <td>-77.406517</td>\n",
       "      <td>19.400000</td>\n",
       "      <td>0.000807</td>\n",
       "      <td>0.000800</td>\n",
       "      <td>2.878974</td>\n",
       "      <td>0.000000</td>\n",
       "      <td>-78.600000</td>\n",
       "      <td>19.706789</td>\n",
       "    </tr>\n",
       "    <tr>\n",
       "      <th>50%</th>\n",
       "      <td>38.576993</td>\n",
       "      <td>-77.375818</td>\n",
       "      <td>43.400002</td>\n",
       "      <td>0.001093</td>\n",
       "      <td>0.001087</td>\n",
       "      <td>3.912318</td>\n",
       "      <td>0.000000</td>\n",
       "      <td>-54.599998</td>\n",
       "      <td>35.982171</td>\n",
       "    </tr>\n",
       "    <tr>\n",
       "      <th>75%</th>\n",
       "      <td>38.592803</td>\n",
       "      <td>-77.354579</td>\n",
       "      <td>74.800003</td>\n",
       "      <td>0.001399</td>\n",
       "      <td>0.001391</td>\n",
       "      <td>5.009040</td>\n",
       "      <td>0.000000</td>\n",
       "      <td>-23.199997</td>\n",
       "      <td>51.289284</td>\n",
       "    </tr>\n",
       "    <tr>\n",
       "      <th>max</th>\n",
       "      <td>38.608468</td>\n",
       "      <td>-77.342196</td>\n",
       "      <td>123.800003</td>\n",
       "      <td>0.061611</td>\n",
       "      <td>0.002777</td>\n",
       "      <td>9.996084</td>\n",
       "      <td>2.599998</td>\n",
       "      <td>25.800003</td>\n",
       "      <td>65.808048</td>\n",
       "    </tr>\n",
       "  </tbody>\n",
       "</table>\n",
       "</div>"
      ],
      "text/plain": [
       "           latitude     longitude     elevation      euc_dist      distance  \\\n",
       "count  59640.000000  59640.000000  59640.000000  59640.000000  59640.000000   \n",
       "mean      38.580718    -77.379950     45.231207      0.001130      0.001103   \n",
       "std        0.012729      0.025952     36.452463      0.000702      0.000458   \n",
       "min       38.557794    -77.424799    -27.200001      0.000000      0.000000   \n",
       "25%       38.571374    -77.406517     19.400000      0.000807      0.000800   \n",
       "50%       38.576993    -77.375818     43.400002      0.001093      0.001087   \n",
       "75%       38.592803    -77.354579     74.800003      0.001399      0.001391   \n",
       "max       38.608468    -77.342196    123.800003      0.061611      0.002777   \n",
       "\n",
       "                mph  elevation_change  cum_elevation  cum_distance  \n",
       "count  59640.000000      59640.000000   59640.000000  59640.000000  \n",
       "mean       3.972317         -0.000999     -52.768793     34.999681  \n",
       "std        1.649963          0.165107      36.452463     18.875987  \n",
       "min        0.000000         -1.199997    -125.200001      0.000000  \n",
       "25%        2.878974          0.000000     -78.600000     19.706789  \n",
       "50%        3.912318          0.000000     -54.599998     35.982171  \n",
       "75%        5.009040          0.000000     -23.199997     51.289284  \n",
       "max        9.996084          2.599998      25.800003     65.808048  "
      ]
     },
     "execution_count": 239,
     "metadata": {},
     "output_type": "execute_result"
    }
   ],
   "source": [
    "# range of elevation \n",
    "df.describe()"
   ]
  },
  {
   "cell_type": "code",
   "execution_count": 240,
   "metadata": {},
   "outputs": [
    {
     "data": {
      "image/png": "[encoded data removed]",
      "text/plain": [
       "<Figure size 1296x432 with 1 Axes>"
      ]
     },
     "metadata": {
      "needs_background": "light"
     },
     "output_type": "display_data"
    }
   ],
   "source": [
    "plt.figure(figsize=(18,6))\n",
    "plt.plot(df['cum_distance'], df['cum_elevation'], color='#101010', lw=3)\n",
    "plt.title('Route elevation profile', size=20)\n",
    "plt.xlabel('Distance in miles', size=14)\n",
    "plt.ylabel('Elevation in meters', size=14);"
   ]
  },
  {
   "cell_type": "code",
   "execution_count": 241,
   "metadata": {},
   "outputs": [],
   "source": [
    "# df['5sec_rolling_elv'] = df['elevation_change'].rolling(5).mean()\n",
    "df['second'] = df.index\n",
    "# df[10:15]"
   ]
  },
  {
   "cell_type": "code",
   "execution_count": 242,
   "metadata": {},
   "outputs": [
    {
     "data": {
      "text/plain": [
       "'1:05:05'"
      ]
     },
     "execution_count": 242,
     "metadata": {},
     "output_type": "execute_result"
    }
   ],
   "source": [
    "# seconds to time\n",
    "def sec_2_time(seconds):\n",
    "    str_time = str(datetime.timedelta(seconds=seconds))\n",
    "    return str_time\n",
    "sec_2_time(3905)"
   ]
  },
  {
   "cell_type": "code",
   "execution_count": 243,
   "metadata": {},
   "outputs": [
    {
     "data": {
      "text/html": [
       "<div>\n",
       "<style scoped>\n",
       "    .dataframe tbody tr th:only-of-type {\n",
       "        vertical-align: middle;\n",
       "    }\n",
       "\n",
       "    .dataframe tbody tr th {\n",
       "        vertical-align: top;\n",
       "    }\n",
       "\n",
       "    .dataframe thead th {\n",
       "        text-align: right;\n",
       "    }\n",
       "</style>\n",
       "<table border=\"1\" class=\"dataframe\">\n",
       "  <thead>\n",
       "    <tr style=\"text-align: right;\">\n",
       "      <th></th>\n",
       "      <th>time</th>\n",
       "      <th>latitude</th>\n",
       "      <th>longitude</th>\n",
       "      <th>elevation</th>\n",
       "      <th>pointxyz</th>\n",
       "      <th>euc_dist</th>\n",
       "      <th>distance</th>\n",
       "      <th>mph</th>\n",
       "      <th>elevation_change</th>\n",
       "      <th>cum_elevation</th>\n",
       "      <th>cum_distance</th>\n",
       "      <th>second</th>\n",
       "      <th>elapsed_time</th>\n",
       "      <th>step_feet</th>\n",
       "    </tr>\n",
       "  </thead>\n",
       "  <tbody>\n",
       "    <tr>\n",
       "      <th>0</th>\n",
       "      <td>2021-12-04 11:31:03+00:00</td>\n",
       "      <td>38.576125</td>\n",
       "      <td>-77.412980</td>\n",
       "      <td>98.0</td>\n",
       "      <td>(38.576125083491206, -77.41298032924533, 98.0)</td>\n",
       "      <td>0.000000</td>\n",
       "      <td>0.000000</td>\n",
       "      <td>0.000000</td>\n",
       "      <td>0.0</td>\n",
       "      <td>0.0</td>\n",
       "      <td>0.000000</td>\n",
       "      <td>0</td>\n",
       "      <td>0:00:00</td>\n",
       "      <td>0.000000</td>\n",
       "    </tr>\n",
       "    <tr>\n",
       "      <th>1</th>\n",
       "      <td>2021-12-04 11:31:04+00:00</td>\n",
       "      <td>38.576111</td>\n",
       "      <td>-77.412989</td>\n",
       "      <td>98.0</td>\n",
       "      <td>(38.576110918074846, -77.41298879496753, 98.0)</td>\n",
       "      <td>0.001079</td>\n",
       "      <td>0.001080</td>\n",
       "      <td>3.889044</td>\n",
       "      <td>0.0</td>\n",
       "      <td>0.0</td>\n",
       "      <td>0.001080</td>\n",
       "      <td>1</td>\n",
       "      <td>0:00:01</td>\n",
       "      <td>5.703931</td>\n",
       "    </tr>\n",
       "    <tr>\n",
       "      <th>2</th>\n",
       "      <td>2021-12-04 11:31:05+00:00</td>\n",
       "      <td>38.576098</td>\n",
       "      <td>-77.412999</td>\n",
       "      <td>98.0</td>\n",
       "      <td>(38.576098177582026, -77.4129987694323, 98.0)</td>\n",
       "      <td>0.001031</td>\n",
       "      <td>0.001032</td>\n",
       "      <td>3.715488</td>\n",
       "      <td>0.0</td>\n",
       "      <td>0.0</td>\n",
       "      <td>0.002112</td>\n",
       "      <td>2</td>\n",
       "      <td>0:00:02</td>\n",
       "      <td>5.449382</td>\n",
       "    </tr>\n",
       "    <tr>\n",
       "      <th>3</th>\n",
       "      <td>2021-12-04 11:31:06+00:00</td>\n",
       "      <td>38.576086</td>\n",
       "      <td>-77.413008</td>\n",
       "      <td>98.0</td>\n",
       "      <td>(38.5760856885463, -77.4130077380687, 98.0)</td>\n",
       "      <td>0.000989</td>\n",
       "      <td>0.000990</td>\n",
       "      <td>3.562560</td>\n",
       "      <td>0.0</td>\n",
       "      <td>0.0</td>\n",
       "      <td>0.003102</td>\n",
       "      <td>3</td>\n",
       "      <td>0:00:03</td>\n",
       "      <td>5.225088</td>\n",
       "    </tr>\n",
       "    <tr>\n",
       "      <th>4</th>\n",
       "      <td>2021-12-04 11:31:07+00:00</td>\n",
       "      <td>38.576070</td>\n",
       "      <td>-77.413020</td>\n",
       "      <td>98.0</td>\n",
       "      <td>(38.576070349663496, -77.41301955655217, 98.0)</td>\n",
       "      <td>0.001237</td>\n",
       "      <td>0.001237</td>\n",
       "      <td>4.454028</td>\n",
       "      <td>0.0</td>\n",
       "      <td>0.0</td>\n",
       "      <td>0.004339</td>\n",
       "      <td>4</td>\n",
       "      <td>0:00:04</td>\n",
       "      <td>6.532574</td>\n",
       "    </tr>\n",
       "  </tbody>\n",
       "</table>\n",
       "</div>"
      ],
      "text/plain": [
       "                       time   latitude  longitude  elevation  \\\n",
       "0 2021-12-04 11:31:03+00:00  38.576125 -77.412980       98.0   \n",
       "1 2021-12-04 11:31:04+00:00  38.576111 -77.412989       98.0   \n",
       "2 2021-12-04 11:31:05+00:00  38.576098 -77.412999       98.0   \n",
       "3 2021-12-04 11:31:06+00:00  38.576086 -77.413008       98.0   \n",
       "4 2021-12-04 11:31:07+00:00  38.576070 -77.413020       98.0   \n",
       "\n",
       "                                         pointxyz  euc_dist  distance  \\\n",
       "0  (38.576125083491206, -77.41298032924533, 98.0)  0.000000  0.000000   \n",
       "1  (38.576110918074846, -77.41298879496753, 98.0)  0.001079  0.001080   \n",
       "2   (38.576098177582026, -77.4129987694323, 98.0)  0.001031  0.001032   \n",
       "3     (38.5760856885463, -77.4130077380687, 98.0)  0.000989  0.000990   \n",
       "4  (38.576070349663496, -77.41301955655217, 98.0)  0.001237  0.001237   \n",
       "\n",
       "        mph  elevation_change  cum_elevation  cum_distance  second  \\\n",
       "0  0.000000               0.0            0.0      0.000000       0   \n",
       "1  3.889044               0.0            0.0      0.001080       1   \n",
       "2  3.715488               0.0            0.0      0.002112       2   \n",
       "3  3.562560               0.0            0.0      0.003102       3   \n",
       "4  4.454028               0.0            0.0      0.004339       4   \n",
       "\n",
       "  elapsed_time  step_feet  \n",
       "0      0:00:00   0.000000  \n",
       "1      0:00:01   5.703931  \n",
       "2      0:00:02   5.449382  \n",
       "3      0:00:03   5.225088  \n",
       "4      0:00:04   6.532574  "
      ]
     },
     "execution_count": 243,
     "metadata": {},
     "output_type": "execute_result"
    }
   ],
   "source": [
    "# Adding Elapsed Time\n",
    "def elapsed_time(row):\n",
    "    time = str(datetime.timedelta(seconds=row['second']))\n",
    "    return time\n",
    "\n",
    "df['elapsed_time']= df.apply(elapsed_time, axis=1)\n",
    "\n",
    "# Adding steps/distance in feet\n",
    "df['step_feet'] = df['distance'] * 5280\n",
    "df.head()\n"
   ]
  },
  {
   "cell_type": "code",
   "execution_count": 244,
   "metadata": {},
   "outputs": [],
   "source": [
    "# Identify times when runner is stopped or moving very slowly\n",
    "def find_stops(row):\n",
    "    if row['mph'] < 1:\n",
    "        return 0\n",
    "    return 1\n",
    "\n",
    "df['moving_time'] = df.apply(find_stops, axis=1)"
   ]
  },
  {
   "cell_type": "code",
   "execution_count": 245,
   "metadata": {},
   "outputs": [
    {
     "data": {
      "text/plain": [
       "count    59640.000000\n",
       "mean         5.826065\n",
       "std          2.419945\n",
       "min          0.000000\n",
       "25%          4.222495\n",
       "50%          5.738066\n",
       "75%          7.346592\n",
       "max         14.660923\n",
       "Name: step_feet, dtype: float64"
      ]
     },
     "execution_count": 245,
     "metadata": {},
     "output_type": "execute_result"
    }
   ],
   "source": [
    "df.step_feet.describe()"
   ]
  },
  {
   "cell_type": "code",
   "execution_count": 246,
   "metadata": {},
   "outputs": [
    {
     "data": {
      "text/plain": [
       "65.80804768"
      ]
     },
     "execution_count": 246,
     "metadata": {},
     "output_type": "execute_result"
    }
   ],
   "source": [
    "df['distance'].sum()"
   ]
  },
  {
   "cell_type": "code",
   "execution_count": 247,
   "metadata": {},
   "outputs": [
    {
     "data": {
      "text/plain": [
       "'00:11:06'"
      ]
     },
     "execution_count": 247,
     "metadata": {},
     "output_type": "execute_result"
    }
   ],
   "source": [
    "\n",
    "strftime(\"%H:%M:%S\", gmtime(3905))\n",
    "'00:11:06'"
   ]
  },
  {
   "cell_type": "code",
   "execution_count": 205,
   "metadata": {},
   "outputs": [],
   "source": [
    "# levels of gradient\n",
    "# flat = 0\n",
    "# slight up = \n",
    "# slight down <\n",
    "# steep up > 0.5\n",
    "# steep down < 0.5\n",
    "labels = ['SteepD','SlightD','Flat','SlightU','SteepU']\n",
    "custom_cut =[-100, -0.5, -0.25, 0.25, 0.5, 100]\n",
    "\n",
    "#  do it over a set length of distance... not every step."
   ]
  },
  {
   "cell_type": "code",
   "execution_count": 206,
   "metadata": {},
   "outputs": [],
   "source": [
    "df.to_csv('data/df_add.csv', index=False)"
   ]
  },
  {
   "cell_type": "code",
   "execution_count": null,
   "metadata": {},
   "outputs": [],
   "source": []
  }
 ],
 "metadata": {
  "interpreter": {
   "hash": "aa1e2d50254fee92e21ded0f4366ee792dda71ab2204fc3422a666dc6db7b43d"
  },
  "kernelspec": {
   "display_name": "Python 3.6.13 64-bit ('geopandas_env': conda)",
   "language": "python",
   "name": "python3"
  },
  "language_info": {
   "codemirror_mode": {
    "name": "ipython",
    "version": 3
   },
   "file_extension": ".py",
   "mimetype": "text/x-python",
   "name": "python",
   "nbconvert_exporter": "python",
   "pygments_lexer": "ipython3",
   "version": "3.10.0"
  },
  "orig_nbformat": 4
 },
 "nbformat": 4,
 "nbformat_minor": 2
}
