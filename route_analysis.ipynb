{
 "cells": [
  {
   "cell_type": "markdown",
   "metadata": {},
   "source": [
    "# Installing Dependancies"
   ]
  },
  {
   "cell_type": "code",
   "execution_count": 141,
   "metadata": {},
   "outputs": [],
   "source": [
    "import gpxpy\n",
    "import gpxpy.gpx\n",
    "\n",
    "import pandas as pd\n",
    "import matplotlib.pyplot as plt\n",
    "from matplotlib import colors\n",
    "from matplotlib.ticker import PercentFormatter\n",
    "\n",
    "from geopy.distance import distance\n",
    "from geopy.distance import geodesic\n",
    "from geopy import distance\n",
    "import math\n",
    "\n",
    "import haversine as hs\n",
    "import numpy as np\n",
    "\n",
    "import datetime\n",
    "\n",
    "\n",
    "\n",
    "plt.rcParams['axes.spines.top'] = False\n",
    "plt.rcParams['axes.spines.right'] = False"
   ]
  },
  {
   "cell_type": "code",
   "execution_count": 142,
   "metadata": {},
   "outputs": [],
   "source": [
    "\n",
    "with open('Routes/DD100K_2021.gpx', 'r') as gpx_file:\n",
    "    DDgpx = gpxpy.parse(gpx_file)"
   ]
  },
  {
   "cell_type": "code",
   "execution_count": 143,
   "metadata": {},
   "outputs": [
    {
     "data": {
      "text/plain": [
       "GPX(tracks=[GPXTrack(name='Prince William County Trail Running', segments=[GPXTrackSegment(points=[...])])])"
      ]
     },
     "execution_count": 143,
     "metadata": {},
     "output_type": "execute_result"
    }
   ],
   "source": [
    "DDgpx"
   ]
  },
  {
   "cell_type": "code",
   "execution_count": 144,
   "metadata": {},
   "outputs": [
    {
     "data": {
      "text/plain": [
       "59640"
      ]
     },
     "execution_count": 144,
     "metadata": {},
     "output_type": "execute_result"
    }
   ],
   "source": [
    "DDgpx.get_track_points_no()"
   ]
  },
  {
   "cell_type": "markdown",
   "metadata": {},
   "source": [
    "# Loading a GPX file"
   ]
  },
  {
   "cell_type": "code",
   "execution_count": 145,
   "metadata": {},
   "outputs": [],
   "source": [
    "# Loading a GPX file\n",
    "with open('Routes/2-loop_mtvernon.gpx', 'r') as gpx_file:\n",
    "    loop2gpx = gpxpy.parse(gpx_file)"
   ]
  },
  {
   "cell_type": "code",
   "execution_count": 146,
   "metadata": {},
   "outputs": [
    {
     "name": "stdout",
     "output_type": "stream",
     "text": [
      "4304\n",
      "MinimumMaximum(minimum=-27.200000762939453, maximum=28.399999618530273)\n",
      "UphillDownhill(uphill=284.19998838156533, downhill=302.59998800009583)\n",
      "# of tracks -  1\n",
      "# of segments -  1\n"
     ]
    }
   ],
   "source": [
    "\n",
    "print(loop2gpx.get_track_points_no())\n",
    "print(loop2gpx.get_elevation_extremes())\n",
    "print(loop2gpx.get_uphill_downhill())\n",
    "print('# of tracks - ',len(loop2gpx.tracks))\n",
    "print('# of segments - ',len(loop2gpx.tracks[0].segments))"
   ]
  },
  {
   "cell_type": "code",
   "execution_count": 147,
   "metadata": {},
   "outputs": [
    {
     "data": {
      "text/plain": [
       "[GPXTrackPoint(38.79649353213608, -77.04552322626114, elevation=-3.0, time=datetime.datetime(2021, 11, 19, 14, 52, 53, tzinfo=SimpleTZ(\"Z\"))),\n",
       " GPXTrackPoint(38.79648883827031, -77.04551886767149, elevation=-3.0, time=datetime.datetime(2021, 11, 19, 14, 52, 54, tzinfo=SimpleTZ(\"Z\"))),\n",
       " GPXTrackPoint(38.796473080292344, -77.04550998285413, elevation=-3.0, time=datetime.datetime(2021, 11, 19, 14, 52, 55, tzinfo=SimpleTZ(\"Z\"))),\n",
       " GPXTrackPoint(38.79645690321922, -77.04550285823643, elevation=-3.0, time=datetime.datetime(2021, 11, 19, 14, 52, 56, tzinfo=SimpleTZ(\"Z\")))]"
      ]
     },
     "execution_count": 147,
     "metadata": {},
     "output_type": "execute_result"
    }
   ],
   "source": [
    "loop2gpx.tracks[0].segments[0].points[:4]"
   ]
  },
  {
   "cell_type": "code",
   "execution_count": 148,
   "metadata": {},
   "outputs": [
    {
     "data": {
      "text/plain": [
       "[{'time': datetime.datetime(2021, 11, 19, 14, 52, 53, tzinfo=SimpleTZ(\"Z\")),\n",
       "  'latitude': 38.79649353213608,\n",
       "  'longitude': -77.04552322626114,\n",
       "  'elevation': -3.0},\n",
       " {'time': datetime.datetime(2021, 11, 19, 14, 52, 54, tzinfo=SimpleTZ(\"Z\")),\n",
       "  'latitude': 38.79648883827031,\n",
       "  'longitude': -77.04551886767149,\n",
       "  'elevation': -3.0},\n",
       " {'time': datetime.datetime(2021, 11, 19, 14, 52, 55, tzinfo=SimpleTZ(\"Z\")),\n",
       "  'latitude': 38.796473080292344,\n",
       "  'longitude': -77.04550998285413,\n",
       "  'elevation': -3.0}]"
      ]
     },
     "execution_count": 148,
     "metadata": {},
     "output_type": "execute_result"
    }
   ],
   "source": [
    "# making a dictionary that can be converted to Pandas Dataframe\n",
    "route_info=[]\n",
    "\n",
    "for track in loop2gpx.tracks:\n",
    "    for segment in track.segments:\n",
    "        for point in segment.points:\n",
    "            route_info.append({\n",
    "                'time': point.time,\n",
    "                'latitude': point.latitude,\n",
    "                'longitude':point.longitude,\n",
    "                'elevation': point.elevation\n",
    "            })\n",
    "\n",
    "route_info[:3]"
   ]
  },
  {
   "cell_type": "code",
   "execution_count": 149,
   "metadata": {},
   "outputs": [
    {
     "data": {
      "text/html": [
       "<div>\n",
       "<style scoped>\n",
       "    .dataframe tbody tr th:only-of-type {\n",
       "        vertical-align: middle;\n",
       "    }\n",
       "\n",
       "    .dataframe tbody tr th {\n",
       "        vertical-align: top;\n",
       "    }\n",
       "\n",
       "    .dataframe thead th {\n",
       "        text-align: right;\n",
       "    }\n",
       "</style>\n",
       "<table border=\"1\" class=\"dataframe\">\n",
       "  <thead>\n",
       "    <tr style=\"text-align: right;\">\n",
       "      <th></th>\n",
       "      <th>time</th>\n",
       "      <th>latitude</th>\n",
       "      <th>longitude</th>\n",
       "      <th>elevation</th>\n",
       "    </tr>\n",
       "  </thead>\n",
       "  <tbody>\n",
       "    <tr>\n",
       "      <th>0</th>\n",
       "      <td>2021-11-19 14:52:53+00:00</td>\n",
       "      <td>38.796494</td>\n",
       "      <td>-77.045523</td>\n",
       "      <td>-3.0</td>\n",
       "    </tr>\n",
       "    <tr>\n",
       "      <th>1</th>\n",
       "      <td>2021-11-19 14:52:54+00:00</td>\n",
       "      <td>38.796489</td>\n",
       "      <td>-77.045519</td>\n",
       "      <td>-3.0</td>\n",
       "    </tr>\n",
       "    <tr>\n",
       "      <th>2</th>\n",
       "      <td>2021-11-19 14:52:55+00:00</td>\n",
       "      <td>38.796473</td>\n",
       "      <td>-77.045510</td>\n",
       "      <td>-3.0</td>\n",
       "    </tr>\n",
       "    <tr>\n",
       "      <th>3</th>\n",
       "      <td>2021-11-19 14:52:56+00:00</td>\n",
       "      <td>38.796457</td>\n",
       "      <td>-77.045503</td>\n",
       "      <td>-3.0</td>\n",
       "    </tr>\n",
       "    <tr>\n",
       "      <th>4</th>\n",
       "      <td>2021-11-19 14:52:57+00:00</td>\n",
       "      <td>38.796427</td>\n",
       "      <td>-77.045499</td>\n",
       "      <td>-2.8</td>\n",
       "    </tr>\n",
       "  </tbody>\n",
       "</table>\n",
       "</div>"
      ],
      "text/plain": [
       "                       time   latitude  longitude  elevation\n",
       "0 2021-11-19 14:52:53+00:00  38.796494 -77.045523       -3.0\n",
       "1 2021-11-19 14:52:54+00:00  38.796489 -77.045519       -3.0\n",
       "2 2021-11-19 14:52:55+00:00  38.796473 -77.045510       -3.0\n",
       "3 2021-11-19 14:52:56+00:00  38.796457 -77.045503       -3.0\n",
       "4 2021-11-19 14:52:57+00:00  38.796427 -77.045499       -2.8"
      ]
     },
     "execution_count": 149,
     "metadata": {},
     "output_type": "execute_result"
    }
   ],
   "source": [
    "df = pd.DataFrame(route_info)\n",
    "df.head()"
   ]
  },
  {
   "cell_type": "markdown",
   "metadata": {},
   "source": [
    "# Create Simple BASE CSV file"
   ]
  },
  {
   "cell_type": "code",
   "execution_count": 150,
   "metadata": {},
   "outputs": [],
   "source": [
    "\n",
    "df.to_csv('data/df.csv', index=False)"
   ]
  },
  {
   "cell_type": "markdown",
   "metadata": {},
   "source": [
    "# Simple plots"
   ]
  },
  {
   "cell_type": "markdown",
   "metadata": {},
   "source": [
    "## Plot the Route"
   ]
  },
  {
   "cell_type": "code",
   "execution_count": 151,
   "metadata": {},
   "outputs": [
    {
     "data": {
      "image/png": "[encoded data removed]",
      "text/plain": [
       "<Figure size 576x1008 with 1 Axes>"
      ]
     },
     "metadata": {
      "needs_background": "light"
     },
     "output_type": "display_data"
    }
   ],
   "source": [
    "plt.figure(figsize=(8, 14))\n",
    "plt.scatter(df['longitude'], df['latitude'], color='#101010')\n",
    "plt.title('Route latitude and longitude points', size=20);"
   ]
  },
  {
   "cell_type": "markdown",
   "metadata": {},
   "source": [
    "## Plot the Elevation"
   ]
  },
  {
   "cell_type": "code",
   "execution_count": 152,
   "metadata": {},
   "outputs": [
    {
     "data": {
      "image/png": "[encoded data removed]",
      "text/plain": [
       "<Figure size 1296x432 with 1 Axes>"
      ]
     },
     "metadata": {
      "needs_background": "light"
     },
     "output_type": "display_data"
    }
   ],
   "source": [
    "plt.figure(figsize=(18,6))\n",
    "plt.scatter(df.index, df['elevation'], color='#101010')\n",
    "plt.title('Route elevation over time points', size=20);"
   ]
  },
  {
   "cell_type": "code",
   "execution_count": 153,
   "metadata": {},
   "outputs": [
    {
     "data": {
      "text/html": [
       "<div>\n",
       "<style scoped>\n",
       "    .dataframe tbody tr th:only-of-type {\n",
       "        vertical-align: middle;\n",
       "    }\n",
       "\n",
       "    .dataframe tbody tr th {\n",
       "        vertical-align: top;\n",
       "    }\n",
       "\n",
       "    .dataframe thead th {\n",
       "        text-align: right;\n",
       "    }\n",
       "</style>\n",
       "<table border=\"1\" class=\"dataframe\">\n",
       "  <thead>\n",
       "    <tr style=\"text-align: right;\">\n",
       "      <th></th>\n",
       "      <th>time</th>\n",
       "      <th>latitude</th>\n",
       "      <th>longitude</th>\n",
       "      <th>elevation</th>\n",
       "    </tr>\n",
       "  </thead>\n",
       "  <tbody>\n",
       "    <tr>\n",
       "      <th>0</th>\n",
       "      <td>2021-11-19 14:52:53+00:00</td>\n",
       "      <td>38.796494</td>\n",
       "      <td>-77.045523</td>\n",
       "      <td>-3.0</td>\n",
       "    </tr>\n",
       "    <tr>\n",
       "      <th>1</th>\n",
       "      <td>2021-11-19 14:52:54+00:00</td>\n",
       "      <td>38.796489</td>\n",
       "      <td>-77.045519</td>\n",
       "      <td>-3.0</td>\n",
       "    </tr>\n",
       "    <tr>\n",
       "      <th>2</th>\n",
       "      <td>2021-11-19 14:52:55+00:00</td>\n",
       "      <td>38.796473</td>\n",
       "      <td>-77.045510</td>\n",
       "      <td>-3.0</td>\n",
       "    </tr>\n",
       "    <tr>\n",
       "      <th>3</th>\n",
       "      <td>2021-11-19 14:52:56+00:00</td>\n",
       "      <td>38.796457</td>\n",
       "      <td>-77.045503</td>\n",
       "      <td>-3.0</td>\n",
       "    </tr>\n",
       "    <tr>\n",
       "      <th>4</th>\n",
       "      <td>2021-11-19 14:52:57+00:00</td>\n",
       "      <td>38.796427</td>\n",
       "      <td>-77.045499</td>\n",
       "      <td>-2.8</td>\n",
       "    </tr>\n",
       "  </tbody>\n",
       "</table>\n",
       "</div>"
      ],
      "text/plain": [
       "                       time   latitude  longitude  elevation\n",
       "0 2021-11-19 14:52:53+00:00  38.796494 -77.045523       -3.0\n",
       "1 2021-11-19 14:52:54+00:00  38.796489 -77.045519       -3.0\n",
       "2 2021-11-19 14:52:55+00:00  38.796473 -77.045510       -3.0\n",
       "3 2021-11-19 14:52:56+00:00  38.796457 -77.045503       -3.0\n",
       "4 2021-11-19 14:52:57+00:00  38.796427 -77.045499       -2.8"
      ]
     },
     "execution_count": 153,
     "metadata": {},
     "output_type": "execute_result"
    }
   ],
   "source": [
    "df.head()"
   ]
  },
  {
   "cell_type": "code",
   "execution_count": 154,
   "metadata": {},
   "outputs": [
    {
     "data": {
      "text/plain": [
       "(38.79649353213608, -77.04552322626114, -3.0)"
      ]
     },
     "execution_count": 154,
     "metadata": {},
     "output_type": "execute_result"
    }
   ],
   "source": [
    "pointxyz = []\n",
    "for i in range(0,len(df)):\n",
    "    pointxyz.append((df['latitude'][i], df['longitude'][i], df['elevation'][i]))\n",
    "\n",
    "pointxyz[0]"
   ]
  },
  {
   "cell_type": "code",
   "execution_count": 155,
   "metadata": {},
   "outputs": [
    {
     "data": {
      "text/html": [
       "<div>\n",
       "<style scoped>\n",
       "    .dataframe tbody tr th:only-of-type {\n",
       "        vertical-align: middle;\n",
       "    }\n",
       "\n",
       "    .dataframe tbody tr th {\n",
       "        vertical-align: top;\n",
       "    }\n",
       "\n",
       "    .dataframe thead th {\n",
       "        text-align: right;\n",
       "    }\n",
       "</style>\n",
       "<table border=\"1\" class=\"dataframe\">\n",
       "  <thead>\n",
       "    <tr style=\"text-align: right;\">\n",
       "      <th></th>\n",
       "      <th>time</th>\n",
       "      <th>latitude</th>\n",
       "      <th>longitude</th>\n",
       "      <th>elevation</th>\n",
       "      <th>pointxyz</th>\n",
       "    </tr>\n",
       "  </thead>\n",
       "  <tbody>\n",
       "    <tr>\n",
       "      <th>0</th>\n",
       "      <td>2021-11-19 14:52:53+00:00</td>\n",
       "      <td>38.796494</td>\n",
       "      <td>-77.045523</td>\n",
       "      <td>-3.0</td>\n",
       "      <td>(38.79649353213608, -77.04552322626114, -3.0)</td>\n",
       "    </tr>\n",
       "    <tr>\n",
       "      <th>1</th>\n",
       "      <td>2021-11-19 14:52:54+00:00</td>\n",
       "      <td>38.796489</td>\n",
       "      <td>-77.045519</td>\n",
       "      <td>-3.0</td>\n",
       "      <td>(38.79648883827031, -77.04551886767149, -3.0)</td>\n",
       "    </tr>\n",
       "    <tr>\n",
       "      <th>2</th>\n",
       "      <td>2021-11-19 14:52:55+00:00</td>\n",
       "      <td>38.796473</td>\n",
       "      <td>-77.045510</td>\n",
       "      <td>-3.0</td>\n",
       "      <td>(38.796473080292344, -77.04550998285413, -3.0)</td>\n",
       "    </tr>\n",
       "    <tr>\n",
       "      <th>3</th>\n",
       "      <td>2021-11-19 14:52:56+00:00</td>\n",
       "      <td>38.796457</td>\n",
       "      <td>-77.045503</td>\n",
       "      <td>-3.0</td>\n",
       "      <td>(38.79645690321922, -77.04550285823643, -3.0)</td>\n",
       "    </tr>\n",
       "    <tr>\n",
       "      <th>4</th>\n",
       "      <td>2021-11-19 14:52:57+00:00</td>\n",
       "      <td>38.796427</td>\n",
       "      <td>-77.045499</td>\n",
       "      <td>-2.8</td>\n",
       "      <td>(38.796427231281996, -77.04549883492291, -2.79...</td>\n",
       "    </tr>\n",
       "  </tbody>\n",
       "</table>\n",
       "</div>"
      ],
      "text/plain": [
       "                       time   latitude  longitude  elevation  \\\n",
       "0 2021-11-19 14:52:53+00:00  38.796494 -77.045523       -3.0   \n",
       "1 2021-11-19 14:52:54+00:00  38.796489 -77.045519       -3.0   \n",
       "2 2021-11-19 14:52:55+00:00  38.796473 -77.045510       -3.0   \n",
       "3 2021-11-19 14:52:56+00:00  38.796457 -77.045503       -3.0   \n",
       "4 2021-11-19 14:52:57+00:00  38.796427 -77.045499       -2.8   \n",
       "\n",
       "                                            pointxyz  \n",
       "0      (38.79649353213608, -77.04552322626114, -3.0)  \n",
       "1      (38.79648883827031, -77.04551886767149, -3.0)  \n",
       "2     (38.796473080292344, -77.04550998285413, -3.0)  \n",
       "3      (38.79645690321922, -77.04550285823643, -3.0)  \n",
       "4  (38.796427231281996, -77.04549883492291, -2.79...  "
      ]
     },
     "execution_count": 155,
     "metadata": {},
     "output_type": "execute_result"
    }
   ],
   "source": [
    "df['pointxyz']= pd.Series(pointxyz)\n",
    "df.head()"
   ]
  },
  {
   "cell_type": "markdown",
   "metadata": {},
   "source": [
    "# Distance Calcs"
   ]
  },
  {
   "cell_type": "markdown",
   "metadata": {},
   "source": [
    "## Geodesic"
   ]
  },
  {
   "cell_type": "code",
   "execution_count": 156,
   "metadata": {},
   "outputs": [
    {
     "name": "stdout",
     "output_type": "stream",
     "text": [
      "(38.796473080292344, -77.04550998285413) (38.79648883827031, -77.04551886767149)\n",
      "0.0011880841825531274\n"
     ]
    }
   ],
   "source": [
    "b_latlon = df['pointxyz'][1+1][:2]\n",
    "a_latlon = df['pointxyz'][1][:2]\n",
    "print(b_latlon,a_latlon)\n",
    "print(geodesic(a_latlon,b_latlon).miles)"
   ]
  },
  {
   "cell_type": "code",
   "execution_count": 157,
   "metadata": {},
   "outputs": [
    {
     "data": {
      "text/html": [
       "<div>\n",
       "<style scoped>\n",
       "    .dataframe tbody tr th:only-of-type {\n",
       "        vertical-align: middle;\n",
       "    }\n",
       "\n",
       "    .dataframe tbody tr th {\n",
       "        vertical-align: top;\n",
       "    }\n",
       "\n",
       "    .dataframe thead th {\n",
       "        text-align: right;\n",
       "    }\n",
       "</style>\n",
       "<table border=\"1\" class=\"dataframe\">\n",
       "  <thead>\n",
       "    <tr style=\"text-align: right;\">\n",
       "      <th></th>\n",
       "      <th>time</th>\n",
       "      <th>latitude</th>\n",
       "      <th>longitude</th>\n",
       "      <th>elevation</th>\n",
       "      <th>pointxyz</th>\n",
       "      <th>euc_dist</th>\n",
       "    </tr>\n",
       "  </thead>\n",
       "  <tbody>\n",
       "    <tr>\n",
       "      <th>0</th>\n",
       "      <td>2021-11-19 14:52:53+00:00</td>\n",
       "      <td>38.796494</td>\n",
       "      <td>-77.045523</td>\n",
       "      <td>-3.0</td>\n",
       "      <td>(38.79649353213608, -77.04552322626114, -3.0)</td>\n",
       "      <td>0.000000</td>\n",
       "    </tr>\n",
       "    <tr>\n",
       "      <th>1</th>\n",
       "      <td>2021-11-19 14:52:54+00:00</td>\n",
       "      <td>38.796489</td>\n",
       "      <td>-77.045519</td>\n",
       "      <td>-3.0</td>\n",
       "      <td>(38.79648883827031, -77.04551886767149, -3.0)</td>\n",
       "      <td>0.000400</td>\n",
       "    </tr>\n",
       "    <tr>\n",
       "      <th>2</th>\n",
       "      <td>2021-11-19 14:52:55+00:00</td>\n",
       "      <td>38.796473</td>\n",
       "      <td>-77.045510</td>\n",
       "      <td>-3.0</td>\n",
       "      <td>(38.796473080292344, -77.04550998285413, -3.0)</td>\n",
       "      <td>0.001188</td>\n",
       "    </tr>\n",
       "    <tr>\n",
       "      <th>3</th>\n",
       "      <td>2021-11-19 14:52:56+00:00</td>\n",
       "      <td>38.796457</td>\n",
       "      <td>-77.045503</td>\n",
       "      <td>-3.0</td>\n",
       "      <td>(38.79645690321922, -77.04550285823643, -3.0)</td>\n",
       "      <td>0.001180</td>\n",
       "    </tr>\n",
       "    <tr>\n",
       "      <th>4</th>\n",
       "      <td>2021-11-19 14:52:57+00:00</td>\n",
       "      <td>38.796427</td>\n",
       "      <td>-77.045499</td>\n",
       "      <td>-2.8</td>\n",
       "      <td>(38.796427231281996, -77.04549883492291, -2.79...</td>\n",
       "      <td>0.002062</td>\n",
       "    </tr>\n",
       "  </tbody>\n",
       "</table>\n",
       "</div>"
      ],
      "text/plain": [
       "                       time   latitude  longitude  elevation  \\\n",
       "0 2021-11-19 14:52:53+00:00  38.796494 -77.045523       -3.0   \n",
       "1 2021-11-19 14:52:54+00:00  38.796489 -77.045519       -3.0   \n",
       "2 2021-11-19 14:52:55+00:00  38.796473 -77.045510       -3.0   \n",
       "3 2021-11-19 14:52:56+00:00  38.796457 -77.045503       -3.0   \n",
       "4 2021-11-19 14:52:57+00:00  38.796427 -77.045499       -2.8   \n",
       "\n",
       "                                            pointxyz  euc_dist  \n",
       "0      (38.79649353213608, -77.04552322626114, -3.0)  0.000000  \n",
       "1      (38.79648883827031, -77.04551886767149, -3.0)  0.000400  \n",
       "2     (38.796473080292344, -77.04550998285413, -3.0)  0.001188  \n",
       "3      (38.79645690321922, -77.04550285823643, -3.0)  0.001180  \n",
       "4  (38.796427231281996, -77.04549883492291, -2.79...  0.002062  "
      ]
     },
     "execution_count": 157,
     "metadata": {},
     "output_type": "execute_result"
    }
   ],
   "source": [
    "# Get Step distance, i.e. distance between points.\n",
    "euc_dist = [0]\n",
    "# fl_dist =[0]\n",
    "\n",
    "for i in range(len(df)-1):\n",
    "    \n",
    "    b_latlon = df['pointxyz'][i+1][:2]\n",
    "    a_latlon = df['pointxyz'][i][:2]\n",
    "\n",
    "    # OG elevation in meters (1000m = .6 miles)  so change meters into km and then convert to miles\n",
    "    b_elv = df['pointxyz'][i+1][2]/1000*.6\n",
    "    a_elv = df['pointxyz'][i][2]/1000*.6\n",
    "    eldiff = b_elv-a_elv\n",
    "\n",
    "    flat_distance =geodesic(a_latlon,b_latlon).miles\n",
    "    # fl_dist.append(flat_distance)\n",
    "\n",
    "    euc_distance = math.sqrt(flat_distance**2 + eldiff**2)\n",
    "    euc_dist.append(euc_distance)\n",
    "\n",
    "df['euc_dist'] = pd.Series(euc_dist)\n",
    "# df['flat_dist'] = pd.Series(fl_dist)\n",
    "\n",
    "df.head()\n"
   ]
  },
  {
   "cell_type": "markdown",
   "metadata": {},
   "source": [
    "## Haversine"
   ]
  },
  {
   "cell_type": "code",
   "execution_count": 158,
   "metadata": {},
   "outputs": [],
   "source": [
    "def haversine_distance(lat1, lon1, lat2, lon2) -> float:\n",
    "    distance = hs.haversine(\n",
    "        point1=(lat1,lon1),\n",
    "        point2=(lat2,lon2),\n",
    "        unit=hs.Unit.MILES\n",
    "    )\n",
    "    return np.round(distance,8)"
   ]
  },
  {
   "cell_type": "code",
   "execution_count": 159,
   "metadata": {},
   "outputs": [
    {
     "data": {
      "text/plain": [
       "0.00040034"
      ]
     },
     "execution_count": 159,
     "metadata": {},
     "output_type": "execute_result"
    }
   ],
   "source": [
    "haversine_distance(\n",
    "    lat1=df.iloc[0]['latitude'],\n",
    "    lon1=df.iloc[0]['longitude'],\n",
    "    lat2=df.iloc[1]['latitude'],\n",
    "    lon2=df.iloc[1]['longitude']\n",
    ")"
   ]
  },
  {
   "cell_type": "code",
   "execution_count": 160,
   "metadata": {},
   "outputs": [
    {
     "data": {
      "text/html": [
       "<div>\n",
       "<style scoped>\n",
       "    .dataframe tbody tr th:only-of-type {\n",
       "        vertical-align: middle;\n",
       "    }\n",
       "\n",
       "    .dataframe tbody tr th {\n",
       "        vertical-align: top;\n",
       "    }\n",
       "\n",
       "    .dataframe thead th {\n",
       "        text-align: right;\n",
       "    }\n",
       "</style>\n",
       "<table border=\"1\" class=\"dataframe\">\n",
       "  <thead>\n",
       "    <tr style=\"text-align: right;\">\n",
       "      <th></th>\n",
       "      <th>time</th>\n",
       "      <th>latitude</th>\n",
       "      <th>longitude</th>\n",
       "      <th>elevation</th>\n",
       "      <th>pointxyz</th>\n",
       "      <th>euc_dist</th>\n",
       "      <th>distance</th>\n",
       "    </tr>\n",
       "  </thead>\n",
       "  <tbody>\n",
       "    <tr>\n",
       "      <th>0</th>\n",
       "      <td>2021-11-19 14:52:53+00:00</td>\n",
       "      <td>38.796494</td>\n",
       "      <td>-77.045523</td>\n",
       "      <td>-3.0</td>\n",
       "      <td>(38.79649353213608, -77.04552322626114, -3.0)</td>\n",
       "      <td>0.000000</td>\n",
       "      <td>NaN</td>\n",
       "    </tr>\n",
       "    <tr>\n",
       "      <th>1</th>\n",
       "      <td>2021-11-19 14:52:54+00:00</td>\n",
       "      <td>38.796489</td>\n",
       "      <td>-77.045519</td>\n",
       "      <td>-3.0</td>\n",
       "      <td>(38.79648883827031, -77.04551886767149, -3.0)</td>\n",
       "      <td>0.000400</td>\n",
       "      <td>0.000400</td>\n",
       "    </tr>\n",
       "    <tr>\n",
       "      <th>2</th>\n",
       "      <td>2021-11-19 14:52:55+00:00</td>\n",
       "      <td>38.796473</td>\n",
       "      <td>-77.045510</td>\n",
       "      <td>-3.0</td>\n",
       "      <td>(38.796473080292344, -77.04550998285413, -3.0)</td>\n",
       "      <td>0.001188</td>\n",
       "      <td>0.001189</td>\n",
       "    </tr>\n",
       "    <tr>\n",
       "      <th>3</th>\n",
       "      <td>2021-11-19 14:52:56+00:00</td>\n",
       "      <td>38.796457</td>\n",
       "      <td>-77.045503</td>\n",
       "      <td>-3.0</td>\n",
       "      <td>(38.79645690321922, -77.04550285823643, -3.0)</td>\n",
       "      <td>0.001180</td>\n",
       "      <td>0.001182</td>\n",
       "    </tr>\n",
       "    <tr>\n",
       "      <th>4</th>\n",
       "      <td>2021-11-19 14:52:57+00:00</td>\n",
       "      <td>38.796427</td>\n",
       "      <td>-77.045499</td>\n",
       "      <td>-2.8</td>\n",
       "      <td>(38.796427231281996, -77.04549883492291, -2.79...</td>\n",
       "      <td>0.002062</td>\n",
       "      <td>0.002062</td>\n",
       "    </tr>\n",
       "  </tbody>\n",
       "</table>\n",
       "</div>"
      ],
      "text/plain": [
       "                       time   latitude  longitude  elevation  \\\n",
       "0 2021-11-19 14:52:53+00:00  38.796494 -77.045523       -3.0   \n",
       "1 2021-11-19 14:52:54+00:00  38.796489 -77.045519       -3.0   \n",
       "2 2021-11-19 14:52:55+00:00  38.796473 -77.045510       -3.0   \n",
       "3 2021-11-19 14:52:56+00:00  38.796457 -77.045503       -3.0   \n",
       "4 2021-11-19 14:52:57+00:00  38.796427 -77.045499       -2.8   \n",
       "\n",
       "                                            pointxyz  euc_dist  distance  \n",
       "0      (38.79649353213608, -77.04552322626114, -3.0)  0.000000       NaN  \n",
       "1      (38.79648883827031, -77.04551886767149, -3.0)  0.000400  0.000400  \n",
       "2     (38.796473080292344, -77.04550998285413, -3.0)  0.001188  0.001189  \n",
       "3      (38.79645690321922, -77.04550285823643, -3.0)  0.001180  0.001182  \n",
       "4  (38.796427231281996, -77.04549883492291, -2.79...  0.002062  0.002062  "
      ]
     },
     "execution_count": 160,
     "metadata": {},
     "output_type": "execute_result"
    }
   ],
   "source": [
    "distances = [np.nan]\n",
    "\n",
    "for i in range(len(df)):\n",
    "    if i == 0:\n",
    "        continue\n",
    "    else:\n",
    "        distances.append(haversine_distance(\n",
    "            lat1=df.iloc[i - 1]['latitude'],\n",
    "            lon1=df.iloc[i - 1]['longitude'],\n",
    "            lat2=df.iloc[i]['latitude'],\n",
    "            lon2=df.iloc[i]['longitude']\n",
    "        ))\n",
    "\n",
    "df['distance'] = distances\n",
    "df.head()"
   ]
  },
  {
   "cell_type": "code",
   "execution_count": 161,
   "metadata": {},
   "outputs": [
    {
     "data": {
      "text/plain": [
       "8.406340969999999"
      ]
     },
     "execution_count": 161,
     "metadata": {},
     "output_type": "execute_result"
    }
   ],
   "source": [
    "df['distance'].sum()"
   ]
  },
  {
   "cell_type": "markdown",
   "metadata": {},
   "source": [
    "#### Speed Calc"
   ]
  },
  {
   "cell_type": "code",
   "execution_count": 162,
   "metadata": {},
   "outputs": [],
   "source": [
    "# 1 sec is 1/60th of minute and a minute is 1/60th of an hour so \n",
    "\n",
    "euc_speed = []\n",
    "\n",
    "for i in range(len(df)):\n",
    "    euc_mph = df['euc_dist'][i]/(1/60/60)\n",
    "    euc_speed.append(euc_mph)\n",
    "\n",
    "df['euc_mph'] = pd.Series(euc_speed)\n",
    "\n"
   ]
  },
  {
   "cell_type": "markdown",
   "metadata": {},
   "source": [
    "#### Elevation Change, Cum Elevation, and Cum Distance"
   ]
  },
  {
   "cell_type": "code",
   "execution_count": 163,
   "metadata": {},
   "outputs": [
    {
     "data": {
      "text/html": [
       "<div>\n",
       "<style scoped>\n",
       "    .dataframe tbody tr th:only-of-type {\n",
       "        vertical-align: middle;\n",
       "    }\n",
       "\n",
       "    .dataframe tbody tr th {\n",
       "        vertical-align: top;\n",
       "    }\n",
       "\n",
       "    .dataframe thead th {\n",
       "        text-align: right;\n",
       "    }\n",
       "</style>\n",
       "<table border=\"1\" class=\"dataframe\">\n",
       "  <thead>\n",
       "    <tr style=\"text-align: right;\">\n",
       "      <th></th>\n",
       "      <th>time</th>\n",
       "      <th>latitude</th>\n",
       "      <th>longitude</th>\n",
       "      <th>elevation</th>\n",
       "      <th>pointxyz</th>\n",
       "      <th>euc_dist</th>\n",
       "      <th>distance</th>\n",
       "      <th>euc_mph</th>\n",
       "      <th>elevation_change</th>\n",
       "      <th>cum_elevation</th>\n",
       "      <th>cum_distance</th>\n",
       "    </tr>\n",
       "  </thead>\n",
       "  <tbody>\n",
       "    <tr>\n",
       "      <th>0</th>\n",
       "      <td>2021-11-19 14:52:53+00:00</td>\n",
       "      <td>38.796494</td>\n",
       "      <td>-77.045523</td>\n",
       "      <td>-3.0</td>\n",
       "      <td>(38.79649353213608, -77.04552322626114, -3.0)</td>\n",
       "      <td>0.000000</td>\n",
       "      <td>0.000000</td>\n",
       "      <td>0.000000</td>\n",
       "      <td>0.0</td>\n",
       "      <td>0.0</td>\n",
       "      <td>0.000000</td>\n",
       "    </tr>\n",
       "    <tr>\n",
       "      <th>1</th>\n",
       "      <td>2021-11-19 14:52:54+00:00</td>\n",
       "      <td>38.796489</td>\n",
       "      <td>-77.045519</td>\n",
       "      <td>-3.0</td>\n",
       "      <td>(38.79648883827031, -77.04551886767149, -3.0)</td>\n",
       "      <td>0.000400</td>\n",
       "      <td>0.000400</td>\n",
       "      <td>1.440858</td>\n",
       "      <td>0.0</td>\n",
       "      <td>0.0</td>\n",
       "      <td>0.000400</td>\n",
       "    </tr>\n",
       "    <tr>\n",
       "      <th>2</th>\n",
       "      <td>2021-11-19 14:52:55+00:00</td>\n",
       "      <td>38.796473</td>\n",
       "      <td>-77.045510</td>\n",
       "      <td>-3.0</td>\n",
       "      <td>(38.796473080292344, -77.04550998285413, -3.0)</td>\n",
       "      <td>0.001188</td>\n",
       "      <td>0.001189</td>\n",
       "      <td>4.277103</td>\n",
       "      <td>0.0</td>\n",
       "      <td>0.0</td>\n",
       "      <td>0.001590</td>\n",
       "    </tr>\n",
       "    <tr>\n",
       "      <th>3</th>\n",
       "      <td>2021-11-19 14:52:56+00:00</td>\n",
       "      <td>38.796457</td>\n",
       "      <td>-77.045503</td>\n",
       "      <td>-3.0</td>\n",
       "      <td>(38.79645690321922, -77.04550285823643, -3.0)</td>\n",
       "      <td>0.001180</td>\n",
       "      <td>0.001182</td>\n",
       "      <td>4.249086</td>\n",
       "      <td>0.0</td>\n",
       "      <td>0.0</td>\n",
       "      <td>0.002771</td>\n",
       "    </tr>\n",
       "    <tr>\n",
       "      <th>4</th>\n",
       "      <td>2021-11-19 14:52:57+00:00</td>\n",
       "      <td>38.796427</td>\n",
       "      <td>-77.045499</td>\n",
       "      <td>-2.8</td>\n",
       "      <td>(38.796427231281996, -77.04549883492291, -2.79...</td>\n",
       "      <td>0.002062</td>\n",
       "      <td>0.002062</td>\n",
       "      <td>7.422258</td>\n",
       "      <td>0.2</td>\n",
       "      <td>0.2</td>\n",
       "      <td>0.004833</td>\n",
       "    </tr>\n",
       "  </tbody>\n",
       "</table>\n",
       "</div>"
      ],
      "text/plain": [
       "                       time   latitude  longitude  elevation  \\\n",
       "0 2021-11-19 14:52:53+00:00  38.796494 -77.045523       -3.0   \n",
       "1 2021-11-19 14:52:54+00:00  38.796489 -77.045519       -3.0   \n",
       "2 2021-11-19 14:52:55+00:00  38.796473 -77.045510       -3.0   \n",
       "3 2021-11-19 14:52:56+00:00  38.796457 -77.045503       -3.0   \n",
       "4 2021-11-19 14:52:57+00:00  38.796427 -77.045499       -2.8   \n",
       "\n",
       "                                            pointxyz  euc_dist  distance  \\\n",
       "0      (38.79649353213608, -77.04552322626114, -3.0)  0.000000  0.000000   \n",
       "1      (38.79648883827031, -77.04551886767149, -3.0)  0.000400  0.000400   \n",
       "2     (38.796473080292344, -77.04550998285413, -3.0)  0.001188  0.001189   \n",
       "3      (38.79645690321922, -77.04550285823643, -3.0)  0.001180  0.001182   \n",
       "4  (38.796427231281996, -77.04549883492291, -2.79...  0.002062  0.002062   \n",
       "\n",
       "    euc_mph  elevation_change  cum_elevation  cum_distance  \n",
       "0  0.000000               0.0            0.0      0.000000  \n",
       "1  1.440858               0.0            0.0      0.000400  \n",
       "2  4.277103               0.0            0.0      0.001590  \n",
       "3  4.249086               0.0            0.0      0.002771  \n",
       "4  7.422258               0.2            0.2      0.004833  "
      ]
     },
     "execution_count": 163,
     "metadata": {},
     "output_type": "execute_result"
    }
   ],
   "source": [
    "df['elevation_change'] = df['elevation'].diff()\n",
    "df['cum_elevation'] = df['elevation_change'].cumsum()\n",
    "df['cum_distance'] = df['distance'].cumsum()\n",
    "df = df.fillna(0)\n",
    "df.head()\n"
   ]
  },
  {
   "cell_type": "code",
   "execution_count": 164,
   "metadata": {},
   "outputs": [
    {
     "data": {
      "text/html": [
       "<div>\n",
       "<style scoped>\n",
       "    .dataframe tbody tr th:only-of-type {\n",
       "        vertical-align: middle;\n",
       "    }\n",
       "\n",
       "    .dataframe tbody tr th {\n",
       "        vertical-align: top;\n",
       "    }\n",
       "\n",
       "    .dataframe thead th {\n",
       "        text-align: right;\n",
       "    }\n",
       "</style>\n",
       "<table border=\"1\" class=\"dataframe\">\n",
       "  <thead>\n",
       "    <tr style=\"text-align: right;\">\n",
       "      <th></th>\n",
       "      <th>latitude</th>\n",
       "      <th>longitude</th>\n",
       "      <th>elevation</th>\n",
       "      <th>euc_dist</th>\n",
       "      <th>distance</th>\n",
       "      <th>euc_mph</th>\n",
       "      <th>elevation_change</th>\n",
       "      <th>cum_elevation</th>\n",
       "      <th>cum_distance</th>\n",
       "    </tr>\n",
       "  </thead>\n",
       "  <tbody>\n",
       "    <tr>\n",
       "      <th>count</th>\n",
       "      <td>4304.000000</td>\n",
       "      <td>4304.000000</td>\n",
       "      <td>4304.000000</td>\n",
       "      <td>4304.000000</td>\n",
       "      <td>4304.000000</td>\n",
       "      <td>4304.000000</td>\n",
       "      <td>4304.000000</td>\n",
       "      <td>4304.000000</td>\n",
       "      <td>4304.000000</td>\n",
       "    </tr>\n",
       "    <tr>\n",
       "      <th>mean</th>\n",
       "      <td>38.776891</td>\n",
       "      <td>-77.057857</td>\n",
       "      <td>-3.665892</td>\n",
       "      <td>0.001958</td>\n",
       "      <td>0.001953</td>\n",
       "      <td>7.050208</td>\n",
       "      <td>-0.004275</td>\n",
       "      <td>-0.665892</td>\n",
       "      <td>4.215165</td>\n",
       "    </tr>\n",
       "    <tr>\n",
       "      <th>std</th>\n",
       "      <td>0.008550</td>\n",
       "      <td>0.006189</td>\n",
       "      <td>17.281843</td>\n",
       "      <td>0.000503</td>\n",
       "      <td>0.000505</td>\n",
       "      <td>1.809371</td>\n",
       "      <td>0.222090</td>\n",
       "      <td>17.281843</td>\n",
       "      <td>2.329235</td>\n",
       "    </tr>\n",
       "    <tr>\n",
       "      <th>min</th>\n",
       "      <td>38.766160</td>\n",
       "      <td>-77.065959</td>\n",
       "      <td>-27.200001</td>\n",
       "      <td>0.000000</td>\n",
       "      <td>0.000000</td>\n",
       "      <td>0.000000</td>\n",
       "      <td>-1.200000</td>\n",
       "      <td>-24.200001</td>\n",
       "      <td>0.000000</td>\n",
       "    </tr>\n",
       "    <tr>\n",
       "      <th>25%</th>\n",
       "      <td>38.770136</td>\n",
       "      <td>-77.063445</td>\n",
       "      <td>-18.600000</td>\n",
       "      <td>0.001687</td>\n",
       "      <td>0.001679</td>\n",
       "      <td>6.073177</td>\n",
       "      <td>-0.199999</td>\n",
       "      <td>-15.600000</td>\n",
       "      <td>2.355975</td>\n",
       "    </tr>\n",
       "    <tr>\n",
       "      <th>50%</th>\n",
       "      <td>38.774916</td>\n",
       "      <td>-77.060646</td>\n",
       "      <td>-6.600000</td>\n",
       "      <td>0.002035</td>\n",
       "      <td>0.002029</td>\n",
       "      <td>7.324486</td>\n",
       "      <td>0.000000</td>\n",
       "      <td>-3.600000</td>\n",
       "      <td>4.206025</td>\n",
       "    </tr>\n",
       "    <tr>\n",
       "      <th>75%</th>\n",
       "      <td>38.782989</td>\n",
       "      <td>-77.052164</td>\n",
       "      <td>12.800000</td>\n",
       "      <td>0.002244</td>\n",
       "      <td>0.002239</td>\n",
       "      <td>8.077030</td>\n",
       "      <td>0.199999</td>\n",
       "      <td>15.800000</td>\n",
       "      <td>6.135807</td>\n",
       "    </tr>\n",
       "    <tr>\n",
       "      <th>max</th>\n",
       "      <td>38.796494</td>\n",
       "      <td>-77.045499</td>\n",
       "      <td>28.400000</td>\n",
       "      <td>0.010075</td>\n",
       "      <td>0.010084</td>\n",
       "      <td>36.270216</td>\n",
       "      <td>2.000000</td>\n",
       "      <td>31.400000</td>\n",
       "      <td>8.406341</td>\n",
       "    </tr>\n",
       "  </tbody>\n",
       "</table>\n",
       "</div>"
      ],
      "text/plain": [
       "          latitude    longitude    elevation     euc_dist     distance  \\\n",
       "count  4304.000000  4304.000000  4304.000000  4304.000000  4304.000000   \n",
       "mean     38.776891   -77.057857    -3.665892     0.001958     0.001953   \n",
       "std       0.008550     0.006189    17.281843     0.000503     0.000505   \n",
       "min      38.766160   -77.065959   -27.200001     0.000000     0.000000   \n",
       "25%      38.770136   -77.063445   -18.600000     0.001687     0.001679   \n",
       "50%      38.774916   -77.060646    -6.600000     0.002035     0.002029   \n",
       "75%      38.782989   -77.052164    12.800000     0.002244     0.002239   \n",
       "max      38.796494   -77.045499    28.400000     0.010075     0.010084   \n",
       "\n",
       "           euc_mph  elevation_change  cum_elevation  cum_distance  \n",
       "count  4304.000000       4304.000000    4304.000000   4304.000000  \n",
       "mean      7.050208         -0.004275      -0.665892      4.215165  \n",
       "std       1.809371          0.222090      17.281843      2.329235  \n",
       "min       0.000000         -1.200000     -24.200001      0.000000  \n",
       "25%       6.073177         -0.199999     -15.600000      2.355975  \n",
       "50%       7.324486          0.000000      -3.600000      4.206025  \n",
       "75%       8.077030          0.199999      15.800000      6.135807  \n",
       "max      36.270216          2.000000      31.400000      8.406341  "
      ]
     },
     "execution_count": 164,
     "metadata": {},
     "output_type": "execute_result"
    }
   ],
   "source": [
    "# rnage of elevation \n",
    "df.describe()"
   ]
  },
  {
   "cell_type": "code",
   "execution_count": 165,
   "metadata": {},
   "outputs": [
    {
     "data": {
      "image/png": "[encoded data removed]",
      "text/plain": [
       "<Figure size 1296x432 with 1 Axes>"
      ]
     },
     "metadata": {
      "needs_background": "light"
     },
     "output_type": "display_data"
    }
   ],
   "source": [
    "plt.figure(figsize=(18,6))\n",
    "plt.plot(df['cum_distance'], df['cum_elevation'], color='#101010', lw=3)\n",
    "plt.title('Route elevation profile', size=20)\n",
    "plt.xlabel('Distance in miles', size=14)\n",
    "plt.ylabel('Elevation in meters', size=14);"
   ]
  },
  {
   "cell_type": "code",
   "execution_count": 166,
   "metadata": {},
   "outputs": [
    {
     "data": {
      "text/html": [
       "<div>\n",
       "<style scoped>\n",
       "    .dataframe tbody tr th:only-of-type {\n",
       "        vertical-align: middle;\n",
       "    }\n",
       "\n",
       "    .dataframe tbody tr th {\n",
       "        vertical-align: top;\n",
       "    }\n",
       "\n",
       "    .dataframe thead th {\n",
       "        text-align: right;\n",
       "    }\n",
       "</style>\n",
       "<table border=\"1\" class=\"dataframe\">\n",
       "  <thead>\n",
       "    <tr style=\"text-align: right;\">\n",
       "      <th></th>\n",
       "      <th>time</th>\n",
       "      <th>latitude</th>\n",
       "      <th>longitude</th>\n",
       "      <th>elevation</th>\n",
       "      <th>pointxyz</th>\n",
       "      <th>euc_dist</th>\n",
       "      <th>distance</th>\n",
       "      <th>euc_mph</th>\n",
       "      <th>elevation_change</th>\n",
       "      <th>cum_elevation</th>\n",
       "      <th>cum_distance</th>\n",
       "      <th>5sec_rolling_elv</th>\n",
       "      <th>second</th>\n",
       "    </tr>\n",
       "  </thead>\n",
       "  <tbody>\n",
       "    <tr>\n",
       "      <th>10</th>\n",
       "      <td>2021-11-19 14:53:03+00:00</td>\n",
       "      <td>38.796248</td>\n",
       "      <td>-77.045531</td>\n",
       "      <td>-2.2</td>\n",
       "      <td>(38.79624827764928, -77.04553068615496, -2.200...</td>\n",
       "      <td>0.002283</td>\n",
       "      <td>0.002283</td>\n",
       "      <td>8.219338</td>\n",
       "      <td>-0.2</td>\n",
       "      <td>0.8</td>\n",
       "      <td>0.017339</td>\n",
       "      <td>0.04</td>\n",
       "      <td>10</td>\n",
       "    </tr>\n",
       "    <tr>\n",
       "      <th>11</th>\n",
       "      <td>2021-11-19 14:53:04+00:00</td>\n",
       "      <td>38.796213</td>\n",
       "      <td>-77.045538</td>\n",
       "      <td>-2.4</td>\n",
       "      <td>(38.79621349275112, -77.04553806222975, -2.400...</td>\n",
       "      <td>0.002435</td>\n",
       "      <td>0.002436</td>\n",
       "      <td>8.766764</td>\n",
       "      <td>-0.2</td>\n",
       "      <td>0.6</td>\n",
       "      <td>0.019775</td>\n",
       "      <td>-0.08</td>\n",
       "      <td>11</td>\n",
       "    </tr>\n",
       "    <tr>\n",
       "      <th>12</th>\n",
       "      <td>2021-11-19 14:53:05+00:00</td>\n",
       "      <td>38.796177</td>\n",
       "      <td>-77.045542</td>\n",
       "      <td>-2.4</td>\n",
       "      <td>(38.79617736674845, -77.0455424208194, -2.4000...</td>\n",
       "      <td>0.002503</td>\n",
       "      <td>0.002507</td>\n",
       "      <td>9.010918</td>\n",
       "      <td>0.0</td>\n",
       "      <td>0.6</td>\n",
       "      <td>0.022282</td>\n",
       "      <td>-0.08</td>\n",
       "      <td>12</td>\n",
       "    </tr>\n",
       "    <tr>\n",
       "      <th>13</th>\n",
       "      <td>2021-11-19 14:53:06+00:00</td>\n",
       "      <td>38.796144</td>\n",
       "      <td>-77.045550</td>\n",
       "      <td>-2.6</td>\n",
       "      <td>(38.79614409059286, -77.04554996453226, -2.599...</td>\n",
       "      <td>0.002334</td>\n",
       "      <td>0.002335</td>\n",
       "      <td>8.403474</td>\n",
       "      <td>-0.2</td>\n",
       "      <td>0.4</td>\n",
       "      <td>0.024617</td>\n",
       "      <td>-0.12</td>\n",
       "      <td>13</td>\n",
       "    </tr>\n",
       "    <tr>\n",
       "      <th>14</th>\n",
       "      <td>2021-11-19 14:53:07+00:00</td>\n",
       "      <td>38.796116</td>\n",
       "      <td>-77.045559</td>\n",
       "      <td>-2.6</td>\n",
       "      <td>(38.79611584357917, -77.04555943608284, -2.599...</td>\n",
       "      <td>0.002014</td>\n",
       "      <td>0.002017</td>\n",
       "      <td>7.251940</td>\n",
       "      <td>0.0</td>\n",
       "      <td>0.4</td>\n",
       "      <td>0.026634</td>\n",
       "      <td>-0.12</td>\n",
       "      <td>14</td>\n",
       "    </tr>\n",
       "  </tbody>\n",
       "</table>\n",
       "</div>"
      ],
      "text/plain": [
       "                        time   latitude  longitude  elevation  \\\n",
       "10 2021-11-19 14:53:03+00:00  38.796248 -77.045531       -2.2   \n",
       "11 2021-11-19 14:53:04+00:00  38.796213 -77.045538       -2.4   \n",
       "12 2021-11-19 14:53:05+00:00  38.796177 -77.045542       -2.4   \n",
       "13 2021-11-19 14:53:06+00:00  38.796144 -77.045550       -2.6   \n",
       "14 2021-11-19 14:53:07+00:00  38.796116 -77.045559       -2.6   \n",
       "\n",
       "                                             pointxyz  euc_dist  distance  \\\n",
       "10  (38.79624827764928, -77.04553068615496, -2.200...  0.002283  0.002283   \n",
       "11  (38.79621349275112, -77.04553806222975, -2.400...  0.002435  0.002436   \n",
       "12  (38.79617736674845, -77.0455424208194, -2.4000...  0.002503  0.002507   \n",
       "13  (38.79614409059286, -77.04554996453226, -2.599...  0.002334  0.002335   \n",
       "14  (38.79611584357917, -77.04555943608284, -2.599...  0.002014  0.002017   \n",
       "\n",
       "     euc_mph  elevation_change  cum_elevation  cum_distance  5sec_rolling_elv  \\\n",
       "10  8.219338              -0.2            0.8      0.017339              0.04   \n",
       "11  8.766764              -0.2            0.6      0.019775             -0.08   \n",
       "12  9.010918               0.0            0.6      0.022282             -0.08   \n",
       "13  8.403474              -0.2            0.4      0.024617             -0.12   \n",
       "14  7.251940               0.0            0.4      0.026634             -0.12   \n",
       "\n",
       "    second  \n",
       "10      10  \n",
       "11      11  \n",
       "12      12  \n",
       "13      13  \n",
       "14      14  "
      ]
     },
     "execution_count": 166,
     "metadata": {},
     "output_type": "execute_result"
    }
   ],
   "source": [
    "df['5sec_rolling_elv'] = df['elevation_change'].rolling(5).mean()\n",
    "df['second'] = df.index\n",
    "df[10:15]"
   ]
  },
  {
   "cell_type": "code",
   "execution_count": 167,
   "metadata": {},
   "outputs": [],
   "source": [
    "el_change_distribution = pd.Series(df['elevation_change']).copy()\n",
    "# el_change_distribution.sort()"
   ]
  },
  {
   "cell_type": "code",
   "execution_count": 168,
   "metadata": {},
   "outputs": [],
   "source": [
    "# n_bins = 20\n",
    "\n",
    "# # Generate two normal distributions\n",
    "# dist1 = el_change_distribution\n",
    "\n",
    "# mu = dist1.mean()[0]  # mean of distribution\n",
    "# sigma = dist1.std()[0]  # standard deviation of distribution\n",
    "\n",
    "# fig, ax = plt.subplots()\n",
    "\n",
    "# # We can set the number of bins with the *bins* keyword argument.\n",
    "# n, bins, patches = ax.hist(dist1, bins=n_bins, density=True)\n",
    "\n",
    "# # # add a 'best fit' line\n",
    "# y = ((1 / (np.sqrt(2 * np.pi) * sigma)) *\n",
    "#      np.exp(-0.5 * (1 / sigma * (bins - mu))**2))\n",
    "\n",
    "# ax.plot(bins, y, '--')\n",
    "# ax.set_xlabel('Elevation Change')\n",
    "# ax.set_ylabel('Probability density')\n",
    "# ax.set_title(r'Histogram of Elevation Change: $\\mu=.0043$, $\\sigma=.222$')\n",
    "\n",
    "# # # # Tweak spacing to prevent clipping of ylabel\n",
    "# fig.tight_layout()\n",
    "# plt.show()"
   ]
  },
  {
   "cell_type": "code",
   "execution_count": 169,
   "metadata": {},
   "outputs": [
    {
     "data": {
      "text/plain": [
       "'1:05:05'"
      ]
     },
     "execution_count": 169,
     "metadata": {},
     "output_type": "execute_result"
    }
   ],
   "source": [
    "# seconds to time\n",
    "def sec_2_time(seconds):\n",
    "    str_time = str(datetime.timedelta(seconds=seconds))\n",
    "    return str_time\n",
    "sec_2_time(3905)"
   ]
  },
  {
   "cell_type": "code",
   "execution_count": 170,
   "metadata": {},
   "outputs": [
    {
     "data": {
      "text/html": [
       "<div>\n",
       "<style scoped>\n",
       "    .dataframe tbody tr th:only-of-type {\n",
       "        vertical-align: middle;\n",
       "    }\n",
       "\n",
       "    .dataframe tbody tr th {\n",
       "        vertical-align: top;\n",
       "    }\n",
       "\n",
       "    .dataframe thead th {\n",
       "        text-align: right;\n",
       "    }\n",
       "</style>\n",
       "<table border=\"1\" class=\"dataframe\">\n",
       "  <thead>\n",
       "    <tr style=\"text-align: right;\">\n",
       "      <th></th>\n",
       "      <th>time</th>\n",
       "      <th>latitude</th>\n",
       "      <th>longitude</th>\n",
       "      <th>elevation</th>\n",
       "      <th>pointxyz</th>\n",
       "      <th>euc_dist</th>\n",
       "      <th>distance</th>\n",
       "      <th>euc_mph</th>\n",
       "      <th>elevation_change</th>\n",
       "      <th>cum_elevation</th>\n",
       "      <th>cum_distance</th>\n",
       "      <th>5sec_rolling_elv</th>\n",
       "      <th>second</th>\n",
       "      <th>elapsed_time</th>\n",
       "      <th>step_feet</th>\n",
       "    </tr>\n",
       "  </thead>\n",
       "  <tbody>\n",
       "    <tr>\n",
       "      <th>0</th>\n",
       "      <td>2021-11-19 14:52:53+00:00</td>\n",
       "      <td>38.796494</td>\n",
       "      <td>-77.045523</td>\n",
       "      <td>-3.0</td>\n",
       "      <td>(38.79649353213608, -77.04552322626114, -3.0)</td>\n",
       "      <td>0.000000</td>\n",
       "      <td>0.000000</td>\n",
       "      <td>0.000000</td>\n",
       "      <td>0.0</td>\n",
       "      <td>0.0</td>\n",
       "      <td>0.000000</td>\n",
       "      <td>NaN</td>\n",
       "      <td>0</td>\n",
       "      <td>0:00:00</td>\n",
       "      <td>0.000000</td>\n",
       "    </tr>\n",
       "    <tr>\n",
       "      <th>1</th>\n",
       "      <td>2021-11-19 14:52:54+00:00</td>\n",
       "      <td>38.796489</td>\n",
       "      <td>-77.045519</td>\n",
       "      <td>-3.0</td>\n",
       "      <td>(38.79648883827031, -77.04551886767149, -3.0)</td>\n",
       "      <td>0.000400</td>\n",
       "      <td>0.000400</td>\n",
       "      <td>1.440858</td>\n",
       "      <td>0.0</td>\n",
       "      <td>0.0</td>\n",
       "      <td>0.000400</td>\n",
       "      <td>NaN</td>\n",
       "      <td>1</td>\n",
       "      <td>0:00:01</td>\n",
       "      <td>2.113258</td>\n",
       "    </tr>\n",
       "    <tr>\n",
       "      <th>2</th>\n",
       "      <td>2021-11-19 14:52:55+00:00</td>\n",
       "      <td>38.796473</td>\n",
       "      <td>-77.045510</td>\n",
       "      <td>-3.0</td>\n",
       "      <td>(38.796473080292344, -77.04550998285413, -3.0)</td>\n",
       "      <td>0.001188</td>\n",
       "      <td>0.001189</td>\n",
       "      <td>4.277103</td>\n",
       "      <td>0.0</td>\n",
       "      <td>0.0</td>\n",
       "      <td>0.001590</td>\n",
       "      <td>NaN</td>\n",
       "      <td>2</td>\n",
       "      <td>0:00:02</td>\n",
       "      <td>6.273084</td>\n",
       "    </tr>\n",
       "    <tr>\n",
       "      <th>3</th>\n",
       "      <td>2021-11-19 14:52:56+00:00</td>\n",
       "      <td>38.796457</td>\n",
       "      <td>-77.045503</td>\n",
       "      <td>-3.0</td>\n",
       "      <td>(38.79645690321922, -77.04550285823643, -3.0)</td>\n",
       "      <td>0.001180</td>\n",
       "      <td>0.001182</td>\n",
       "      <td>4.249086</td>\n",
       "      <td>0.0</td>\n",
       "      <td>0.0</td>\n",
       "      <td>0.002771</td>\n",
       "      <td>NaN</td>\n",
       "      <td>3</td>\n",
       "      <td>0:00:03</td>\n",
       "      <td>6.231993</td>\n",
       "    </tr>\n",
       "    <tr>\n",
       "      <th>4</th>\n",
       "      <td>2021-11-19 14:52:57+00:00</td>\n",
       "      <td>38.796427</td>\n",
       "      <td>-77.045499</td>\n",
       "      <td>-2.8</td>\n",
       "      <td>(38.796427231281996, -77.04549883492291, -2.79...</td>\n",
       "      <td>0.002062</td>\n",
       "      <td>0.002062</td>\n",
       "      <td>7.422258</td>\n",
       "      <td>0.2</td>\n",
       "      <td>0.2</td>\n",
       "      <td>0.004833</td>\n",
       "      <td>0.04</td>\n",
       "      <td>4</td>\n",
       "      <td>0:00:04</td>\n",
       "      <td>10.885979</td>\n",
       "    </tr>\n",
       "  </tbody>\n",
       "</table>\n",
       "</div>"
      ],
      "text/plain": [
       "                       time   latitude  longitude  elevation  \\\n",
       "0 2021-11-19 14:52:53+00:00  38.796494 -77.045523       -3.0   \n",
       "1 2021-11-19 14:52:54+00:00  38.796489 -77.045519       -3.0   \n",
       "2 2021-11-19 14:52:55+00:00  38.796473 -77.045510       -3.0   \n",
       "3 2021-11-19 14:52:56+00:00  38.796457 -77.045503       -3.0   \n",
       "4 2021-11-19 14:52:57+00:00  38.796427 -77.045499       -2.8   \n",
       "\n",
       "                                            pointxyz  euc_dist  distance  \\\n",
       "0      (38.79649353213608, -77.04552322626114, -3.0)  0.000000  0.000000   \n",
       "1      (38.79648883827031, -77.04551886767149, -3.0)  0.000400  0.000400   \n",
       "2     (38.796473080292344, -77.04550998285413, -3.0)  0.001188  0.001189   \n",
       "3      (38.79645690321922, -77.04550285823643, -3.0)  0.001180  0.001182   \n",
       "4  (38.796427231281996, -77.04549883492291, -2.79...  0.002062  0.002062   \n",
       "\n",
       "    euc_mph  elevation_change  cum_elevation  cum_distance  5sec_rolling_elv  \\\n",
       "0  0.000000               0.0            0.0      0.000000               NaN   \n",
       "1  1.440858               0.0            0.0      0.000400               NaN   \n",
       "2  4.277103               0.0            0.0      0.001590               NaN   \n",
       "3  4.249086               0.0            0.0      0.002771               NaN   \n",
       "4  7.422258               0.2            0.2      0.004833              0.04   \n",
       "\n",
       "   second elapsed_time  step_feet  \n",
       "0       0      0:00:00   0.000000  \n",
       "1       1      0:00:01   2.113258  \n",
       "2       2      0:00:02   6.273084  \n",
       "3       3      0:00:03   6.231993  \n",
       "4       4      0:00:04  10.885979  "
      ]
     },
     "execution_count": 170,
     "metadata": {},
     "output_type": "execute_result"
    }
   ],
   "source": [
    "# Adding Elapsed Time\n",
    "def elapsed_time(row):\n",
    "    time = str(datetime.timedelta(seconds=row['second']))\n",
    "    return time\n",
    "\n",
    "df['elapsed_time']= df.apply(elapsed_time, axis=1)\n",
    "\n",
    "# Adding steps/distance in feet\n",
    "df['step_feet'] = df['euc_dist'] * 5280\n",
    "df.head()\n",
    "\n",
    "# Adding mile identifiers\n",
    "\n",
    "\n",
    "df.head()"
   ]
  },
  {
   "cell_type": "code",
   "execution_count": 171,
   "metadata": {},
   "outputs": [],
   "source": [
    "# Identify times when runner is stopped or moving very slowly\n",
    "def find_stops(row):\n",
    "    if row['euc_mph'] < 1:\n",
    "        return 0\n",
    "    return 1\n",
    "\n",
    "df['moving_time'] = df.apply(find_stops, axis=1)"
   ]
  },
  {
   "cell_type": "code",
   "execution_count": 172,
   "metadata": {},
   "outputs": [
    {
     "data": {
      "text/html": [
       "<div>\n",
       "<style scoped>\n",
       "    .dataframe tbody tr th:only-of-type {\n",
       "        vertical-align: middle;\n",
       "    }\n",
       "\n",
       "    .dataframe tbody tr th {\n",
       "        vertical-align: top;\n",
       "    }\n",
       "\n",
       "    .dataframe thead th {\n",
       "        text-align: right;\n",
       "    }\n",
       "</style>\n",
       "<table border=\"1\" class=\"dataframe\">\n",
       "  <thead>\n",
       "    <tr style=\"text-align: right;\">\n",
       "      <th></th>\n",
       "      <th>time</th>\n",
       "      <th>latitude</th>\n",
       "      <th>longitude</th>\n",
       "      <th>elevation</th>\n",
       "      <th>pointxyz</th>\n",
       "      <th>euc_dist</th>\n",
       "      <th>distance</th>\n",
       "      <th>euc_mph</th>\n",
       "      <th>elevation_change</th>\n",
       "      <th>cum_elevation</th>\n",
       "      <th>cum_distance</th>\n",
       "      <th>5sec_rolling_elv</th>\n",
       "      <th>second</th>\n",
       "      <th>elapsed_time</th>\n",
       "      <th>step_feet</th>\n",
       "      <th>moving_time</th>\n",
       "    </tr>\n",
       "  </thead>\n",
       "  <tbody>\n",
       "    <tr>\n",
       "      <th>4299</th>\n",
       "      <td>2021-11-19 16:04:32+00:00</td>\n",
       "      <td>38.795236</td>\n",
       "      <td>-77.045685</td>\n",
       "      <td>-21.6</td>\n",
       "      <td>(38.7952355761081, -77.04568499699235, -21.600...</td>\n",
       "      <td>0.002134</td>\n",
       "      <td>0.002137</td>\n",
       "      <td>7.682124</td>\n",
       "      <td>0.000000</td>\n",
       "      <td>-18.6</td>\n",
       "      <td>8.398387</td>\n",
       "      <td>-0.04</td>\n",
       "      <td>4299</td>\n",
       "      <td>1:11:39</td>\n",
       "      <td>11.267115</td>\n",
       "      <td>1</td>\n",
       "    </tr>\n",
       "    <tr>\n",
       "      <th>4300</th>\n",
       "      <td>2021-11-19 16:04:33+00:00</td>\n",
       "      <td>38.795267</td>\n",
       "      <td>-77.045679</td>\n",
       "      <td>-21.6</td>\n",
       "      <td>(38.79526692442596, -77.04567896202207, -21.60...</td>\n",
       "      <td>0.002187</td>\n",
       "      <td>0.002190</td>\n",
       "      <td>7.872447</td>\n",
       "      <td>0.000000</td>\n",
       "      <td>-18.6</td>\n",
       "      <td>8.400577</td>\n",
       "      <td>0.00</td>\n",
       "      <td>4300</td>\n",
       "      <td>1:11:40</td>\n",
       "      <td>11.546256</td>\n",
       "      <td>1</td>\n",
       "    </tr>\n",
       "    <tr>\n",
       "      <th>4301</th>\n",
       "      <td>2021-11-19 16:04:34+00:00</td>\n",
       "      <td>38.795301</td>\n",
       "      <td>-77.045674</td>\n",
       "      <td>-21.6</td>\n",
       "      <td>(38.79530120640993, -77.04567359760404, -21.60...</td>\n",
       "      <td>0.002382</td>\n",
       "      <td>0.002386</td>\n",
       "      <td>8.576695</td>\n",
       "      <td>0.000000</td>\n",
       "      <td>-18.6</td>\n",
       "      <td>8.402964</td>\n",
       "      <td>0.00</td>\n",
       "      <td>4301</td>\n",
       "      <td>1:11:41</td>\n",
       "      <td>12.579153</td>\n",
       "      <td>1</td>\n",
       "    </tr>\n",
       "    <tr>\n",
       "      <th>4302</th>\n",
       "      <td>2021-11-19 16:04:35+00:00</td>\n",
       "      <td>38.795327</td>\n",
       "      <td>-77.045666</td>\n",
       "      <td>-21.6</td>\n",
       "      <td>(38.79532660357654, -77.04566630534828, -21.60...</td>\n",
       "      <td>0.001796</td>\n",
       "      <td>0.001798</td>\n",
       "      <td>6.464028</td>\n",
       "      <td>0.000000</td>\n",
       "      <td>-18.6</td>\n",
       "      <td>8.404762</td>\n",
       "      <td>0.00</td>\n",
       "      <td>4302</td>\n",
       "      <td>1:11:42</td>\n",
       "      <td>9.480575</td>\n",
       "      <td>1</td>\n",
       "    </tr>\n",
       "    <tr>\n",
       "      <th>4303</th>\n",
       "      <td>2021-11-19 16:04:36+00:00</td>\n",
       "      <td>38.795349</td>\n",
       "      <td>-77.045664</td>\n",
       "      <td>-21.4</td>\n",
       "      <td>(38.79534940235317, -77.04566420987248, -21.39...</td>\n",
       "      <td>0.001581</td>\n",
       "      <td>0.001579</td>\n",
       "      <td>5.692567</td>\n",
       "      <td>0.200001</td>\n",
       "      <td>-18.4</td>\n",
       "      <td>8.406341</td>\n",
       "      <td>0.04</td>\n",
       "      <td>4303</td>\n",
       "      <td>1:11:43</td>\n",
       "      <td>8.349099</td>\n",
       "      <td>1</td>\n",
       "    </tr>\n",
       "  </tbody>\n",
       "</table>\n",
       "</div>"
      ],
      "text/plain": [
       "                          time   latitude  longitude  elevation  \\\n",
       "4299 2021-11-19 16:04:32+00:00  38.795236 -77.045685      -21.6   \n",
       "4300 2021-11-19 16:04:33+00:00  38.795267 -77.045679      -21.6   \n",
       "4301 2021-11-19 16:04:34+00:00  38.795301 -77.045674      -21.6   \n",
       "4302 2021-11-19 16:04:35+00:00  38.795327 -77.045666      -21.6   \n",
       "4303 2021-11-19 16:04:36+00:00  38.795349 -77.045664      -21.4   \n",
       "\n",
       "                                               pointxyz  euc_dist  distance  \\\n",
       "4299  (38.7952355761081, -77.04568499699235, -21.600...  0.002134  0.002137   \n",
       "4300  (38.79526692442596, -77.04567896202207, -21.60...  0.002187  0.002190   \n",
       "4301  (38.79530120640993, -77.04567359760404, -21.60...  0.002382  0.002386   \n",
       "4302  (38.79532660357654, -77.04566630534828, -21.60...  0.001796  0.001798   \n",
       "4303  (38.79534940235317, -77.04566420987248, -21.39...  0.001581  0.001579   \n",
       "\n",
       "       euc_mph  elevation_change  cum_elevation  cum_distance  \\\n",
       "4299  7.682124          0.000000          -18.6      8.398387   \n",
       "4300  7.872447          0.000000          -18.6      8.400577   \n",
       "4301  8.576695          0.000000          -18.6      8.402964   \n",
       "4302  6.464028          0.000000          -18.6      8.404762   \n",
       "4303  5.692567          0.200001          -18.4      8.406341   \n",
       "\n",
       "      5sec_rolling_elv  second elapsed_time  step_feet  moving_time  \n",
       "4299             -0.04    4299      1:11:39  11.267115            1  \n",
       "4300              0.00    4300      1:11:40  11.546256            1  \n",
       "4301              0.00    4301      1:11:41  12.579153            1  \n",
       "4302              0.00    4302      1:11:42   9.480575            1  \n",
       "4303              0.04    4303      1:11:43   8.349099            1  "
      ]
     },
     "execution_count": 172,
     "metadata": {},
     "output_type": "execute_result"
    }
   ],
   "source": [
    "df.tail()\n"
   ]
  },
  {
   "cell_type": "code",
   "execution_count": 173,
   "metadata": {},
   "outputs": [
    {
     "data": {
      "text/plain": [
       "8.428915447615363"
      ]
     },
     "execution_count": 173,
     "metadata": {},
     "output_type": "execute_result"
    }
   ],
   "source": [
    "df['euc_dist'].sum()"
   ]
  },
  {
   "cell_type": "code",
   "execution_count": 174,
   "metadata": {},
   "outputs": [
    {
     "data": {
      "text/plain": [
       "'00:11:06'"
      ]
     },
     "execution_count": 174,
     "metadata": {},
     "output_type": "execute_result"
    }
   ],
   "source": [
    "from time import strftime\n",
    "from time import gmtime\n",
    "\n",
    "strftime(\"%H:%M:%S\", gmtime(3905))\n",
    "'00:11:06'"
   ]
  },
  {
   "cell_type": "code",
   "execution_count": 175,
   "metadata": {},
   "outputs": [],
   "source": [
    "# levels of elevation change\n",
    "# flat = 0\n",
    "# slight up = \n",
    "# slight down <\n",
    "# steep up > 0.5\n",
    "# steep down < 0.5\n",
    "labels = ['SteepD','SlightD','Flat','SlightU','SteepU']\n",
    "custom_cut =[-100, -0.5, -0.25, 0.25, 0.5, 100]\n",
    "\n",
    "#  do it over a set length of distance... not every step."
   ]
  },
  {
   "cell_type": "code",
   "execution_count": 132,
   "metadata": {},
   "outputs": [],
   "source": [
    "df.to_csv('data/df_add.csv', index=False)"
   ]
  },
  {
   "cell_type": "code",
   "execution_count": null,
   "metadata": {},
   "outputs": [],
   "source": []
  }
 ],
 "metadata": {
  "interpreter": {
   "hash": "aa1e2d50254fee92e21ded0f4366ee792dda71ab2204fc3422a666dc6db7b43d"
  },
  "kernelspec": {
   "display_name": "Python 3.6.13 64-bit ('geopandas_env': conda)",
   "language": "python",
   "name": "python3"
  },
  "language_info": {
   "codemirror_mode": {
    "name": "ipython",
    "version": 3
   },
   "file_extension": ".py",
   "mimetype": "text/x-python",
   "name": "python",
   "nbconvert_exporter": "python",
   "pygments_lexer": "ipython3",
   "version": "3.10.0"
  },
  "orig_nbformat": 4
 },
 "nbformat": 4,
 "nbformat_minor": 2
}
