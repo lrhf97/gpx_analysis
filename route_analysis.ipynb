{
 "cells": [
  {
   "cell_type": "markdown",
   "metadata": {},
   "source": [
    "# Installing Dependancies"
   ]
  },
  {
   "cell_type": "code",
   "execution_count": 86,
   "metadata": {},
   "outputs": [],
   "source": [
    "import gpxpy\n",
    "import gpxpy.gpx\n",
    "\n",
    "import pandas as pd\n",
    "import matplotlib.pyplot as plt\n",
    "from matplotlib import colors\n",
    "from matplotlib.ticker import PercentFormatter\n",
    "\n",
    "from geopy.distance import distance\n",
    "from geopy.distance import geodesic\n",
    "from geopy import distance\n",
    "import math\n",
    "\n",
    "import haversine as hs\n",
    "import numpy as np\n",
    "\n",
    "import datetime\n",
    "from time import strftime\n",
    "from time import gmtime\n",
    "\n",
    "\n",
    "\n",
    "plt.rcParams['axes.spines.top'] = False\n",
    "plt.rcParams['axes.spines.right'] = False"
   ]
  },
  {
   "cell_type": "code",
   "execution_count": 87,
   "metadata": {},
   "outputs": [],
   "source": [
    "\n",
    "with open('Routes/DD100K_2021.gpx', 'r') as gpx_file:\n",
    "    DDgpx = gpxpy.parse(gpx_file)"
   ]
  },
  {
   "cell_type": "code",
   "execution_count": 88,
   "metadata": {},
   "outputs": [
    {
     "data": {
      "text/plain": [
       "GPX(tracks=[GPXTrack(name='Prince William County Trail Running', segments=[GPXTrackSegment(points=[...])])])"
      ]
     },
     "execution_count": 88,
     "metadata": {},
     "output_type": "execute_result"
    }
   ],
   "source": [
    "DDgpx"
   ]
  },
  {
   "cell_type": "code",
   "execution_count": 89,
   "metadata": {},
   "outputs": [
    {
     "data": {
      "text/plain": [
       "59640"
      ]
     },
     "execution_count": 89,
     "metadata": {},
     "output_type": "execute_result"
    }
   ],
   "source": [
    "DDgpx.get_track_points_no()"
   ]
  },
  {
   "cell_type": "markdown",
   "metadata": {},
   "source": [
    "# Loading a GPX file"
   ]
  },
  {
   "cell_type": "code",
   "execution_count": 90,
   "metadata": {},
   "outputs": [],
   "source": [
    "# Loading a GPX file\n",
    "with open('Routes/2-loop_mtvernon.gpx', 'r') as gpx_file:\n",
    "    loop2gpx = gpxpy.parse(gpx_file)"
   ]
  },
  {
   "cell_type": "code",
   "execution_count": 91,
   "metadata": {},
   "outputs": [
    {
     "name": "stdout",
     "output_type": "stream",
     "text": [
      "4304\n",
      "MinimumMaximum(minimum=-27.200000762939453, maximum=28.399999618530273)\n",
      "UphillDownhill(uphill=284.19998838156533, downhill=302.59998800009583)\n",
      "# of tracks -  1\n",
      "# of segments -  1\n"
     ]
    }
   ],
   "source": [
    "\n",
    "print(loop2gpx.get_track_points_no())\n",
    "print(loop2gpx.get_elevation_extremes())\n",
    "print(loop2gpx.get_uphill_downhill())\n",
    "print('# of tracks - ',len(loop2gpx.tracks))\n",
    "print('# of segments - ',len(loop2gpx.tracks[0].segments))"
   ]
  },
  {
   "cell_type": "code",
   "execution_count": 92,
   "metadata": {},
   "outputs": [
    {
     "data": {
      "text/plain": [
       "[GPXTrackPoint(38.79649353213608, -77.04552322626114, elevation=-3.0, time=datetime.datetime(2021, 11, 19, 14, 52, 53, tzinfo=SimpleTZ(\"Z\"))),\n",
       " GPXTrackPoint(38.79648883827031, -77.04551886767149, elevation=-3.0, time=datetime.datetime(2021, 11, 19, 14, 52, 54, tzinfo=SimpleTZ(\"Z\"))),\n",
       " GPXTrackPoint(38.796473080292344, -77.04550998285413, elevation=-3.0, time=datetime.datetime(2021, 11, 19, 14, 52, 55, tzinfo=SimpleTZ(\"Z\"))),\n",
       " GPXTrackPoint(38.79645690321922, -77.04550285823643, elevation=-3.0, time=datetime.datetime(2021, 11, 19, 14, 52, 56, tzinfo=SimpleTZ(\"Z\")))]"
      ]
     },
     "execution_count": 92,
     "metadata": {},
     "output_type": "execute_result"
    }
   ],
   "source": [
    "loop2gpx.tracks[0].segments[0].points[:4]"
   ]
  },
  {
   "cell_type": "code",
   "execution_count": 93,
   "metadata": {},
   "outputs": [
    {
     "data": {
      "text/plain": [
       "[{'time': datetime.datetime(2021, 12, 4, 11, 31, 3, tzinfo=SimpleTZ(\"Z\")),\n",
       "  'latitude': 38.576125083491206,\n",
       "  'longitude': -77.41298032924533,\n",
       "  'elevation': 98.0},\n",
       " {'time': datetime.datetime(2021, 12, 4, 11, 31, 4, tzinfo=SimpleTZ(\"Z\")),\n",
       "  'latitude': 38.576110918074846,\n",
       "  'longitude': -77.41298879496753,\n",
       "  'elevation': 98.0},\n",
       " {'time': datetime.datetime(2021, 12, 4, 11, 31, 5, tzinfo=SimpleTZ(\"Z\")),\n",
       "  'latitude': 38.576098177582026,\n",
       "  'longitude': -77.4129987694323,\n",
       "  'elevation': 98.0}]"
      ]
     },
     "execution_count": 93,
     "metadata": {},
     "output_type": "execute_result"
    }
   ],
   "source": [
    "# making a dictionary that can be converted to Pandas Dataframe\n",
    "route_info=[]\n",
    "\n",
    "for track in DDgpx.tracks:\n",
    "    for segment in track.segments:\n",
    "        for point in segment.points:\n",
    "            route_info.append({\n",
    "                'time': point.time,\n",
    "                'latitude': point.latitude,\n",
    "                'longitude':point.longitude,\n",
    "                'elevation': point.elevation\n",
    "            })\n",
    "\n",
    "route_info[:3]"
   ]
  },
  {
   "cell_type": "code",
   "execution_count": 94,
   "metadata": {},
   "outputs": [
    {
     "data": {
      "text/html": [
       "<div>\n",
       "<style scoped>\n",
       "    .dataframe tbody tr th:only-of-type {\n",
       "        vertical-align: middle;\n",
       "    }\n",
       "\n",
       "    .dataframe tbody tr th {\n",
       "        vertical-align: top;\n",
       "    }\n",
       "\n",
       "    .dataframe thead th {\n",
       "        text-align: right;\n",
       "    }\n",
       "</style>\n",
       "<table border=\"1\" class=\"dataframe\">\n",
       "  <thead>\n",
       "    <tr style=\"text-align: right;\">\n",
       "      <th></th>\n",
       "      <th>time</th>\n",
       "      <th>latitude</th>\n",
       "      <th>longitude</th>\n",
       "      <th>elevation</th>\n",
       "    </tr>\n",
       "  </thead>\n",
       "  <tbody>\n",
       "    <tr>\n",
       "      <th>0</th>\n",
       "      <td>2021-12-04 11:31:03+00:00</td>\n",
       "      <td>38.576125</td>\n",
       "      <td>-77.412980</td>\n",
       "      <td>98.0</td>\n",
       "    </tr>\n",
       "    <tr>\n",
       "      <th>1</th>\n",
       "      <td>2021-12-04 11:31:04+00:00</td>\n",
       "      <td>38.576111</td>\n",
       "      <td>-77.412989</td>\n",
       "      <td>98.0</td>\n",
       "    </tr>\n",
       "    <tr>\n",
       "      <th>2</th>\n",
       "      <td>2021-12-04 11:31:05+00:00</td>\n",
       "      <td>38.576098</td>\n",
       "      <td>-77.412999</td>\n",
       "      <td>98.0</td>\n",
       "    </tr>\n",
       "    <tr>\n",
       "      <th>3</th>\n",
       "      <td>2021-12-04 11:31:06+00:00</td>\n",
       "      <td>38.576086</td>\n",
       "      <td>-77.413008</td>\n",
       "      <td>98.0</td>\n",
       "    </tr>\n",
       "    <tr>\n",
       "      <th>4</th>\n",
       "      <td>2021-12-04 11:31:07+00:00</td>\n",
       "      <td>38.576070</td>\n",
       "      <td>-77.413020</td>\n",
       "      <td>98.0</td>\n",
       "    </tr>\n",
       "  </tbody>\n",
       "</table>\n",
       "</div>"
      ],
      "text/plain": [
       "                       time   latitude  longitude  elevation\n",
       "0 2021-12-04 11:31:03+00:00  38.576125 -77.412980       98.0\n",
       "1 2021-12-04 11:31:04+00:00  38.576111 -77.412989       98.0\n",
       "2 2021-12-04 11:31:05+00:00  38.576098 -77.412999       98.0\n",
       "3 2021-12-04 11:31:06+00:00  38.576086 -77.413008       98.0\n",
       "4 2021-12-04 11:31:07+00:00  38.576070 -77.413020       98.0"
      ]
     },
     "execution_count": 94,
     "metadata": {},
     "output_type": "execute_result"
    }
   ],
   "source": [
    "df = pd.DataFrame(route_info)\n",
    "df.head()"
   ]
  },
  {
   "cell_type": "markdown",
   "metadata": {},
   "source": [
    "# Create Simple BASE CSV file"
   ]
  },
  {
   "cell_type": "code",
   "execution_count": 95,
   "metadata": {},
   "outputs": [],
   "source": [
    "\n",
    "df.to_csv('data/df.csv', index=False)"
   ]
  },
  {
   "cell_type": "markdown",
   "metadata": {},
   "source": [
    "# Simple plots"
   ]
  },
  {
   "cell_type": "markdown",
   "metadata": {},
   "source": [
    "## Plot the Route"
   ]
  },
  {
   "cell_type": "code",
   "execution_count": 96,
   "metadata": {},
   "outputs": [
    {
     "data": {
      "image/png": "[encoded data removed]",
      "text/plain": [
       "<Figure size 576x1008 with 1 Axes>"
      ]
     },
     "metadata": {
      "needs_background": "light"
     },
     "output_type": "display_data"
    }
   ],
   "source": [
    "plt.figure(figsize=(8, 14))\n",
    "plt.scatter(df['longitude'], df['latitude'], color='#101010')\n",
    "plt.title('Route latitude and longitude points', size=20);"
   ]
  },
  {
   "cell_type": "markdown",
   "metadata": {},
   "source": [
    "## Plot the Elevation"
   ]
  },
  {
   "cell_type": "code",
   "execution_count": 97,
   "metadata": {},
   "outputs": [
    {
     "data": {
      "image/png": "[encoded data removed]",
      "text/plain": [
       "<Figure size 1296x432 with 1 Axes>"
      ]
     },
     "metadata": {
      "needs_background": "light"
     },
     "output_type": "display_data"
    }
   ],
   "source": [
    "plt.figure(figsize=(18,6))\n",
    "plt.scatter(df.index, df['elevation'], color='#101010')\n",
    "plt.title('Route elevation over time points', size=20);"
   ]
  },
  {
   "cell_type": "code",
   "execution_count": 98,
   "metadata": {},
   "outputs": [
    {
     "data": {
      "text/html": [
       "<div>\n",
       "<style scoped>\n",
       "    .dataframe tbody tr th:only-of-type {\n",
       "        vertical-align: middle;\n",
       "    }\n",
       "\n",
       "    .dataframe tbody tr th {\n",
       "        vertical-align: top;\n",
       "    }\n",
       "\n",
       "    .dataframe thead th {\n",
       "        text-align: right;\n",
       "    }\n",
       "</style>\n",
       "<table border=\"1\" class=\"dataframe\">\n",
       "  <thead>\n",
       "    <tr style=\"text-align: right;\">\n",
       "      <th></th>\n",
       "      <th>time</th>\n",
       "      <th>latitude</th>\n",
       "      <th>longitude</th>\n",
       "      <th>elevation</th>\n",
       "    </tr>\n",
       "  </thead>\n",
       "  <tbody>\n",
       "    <tr>\n",
       "      <th>0</th>\n",
       "      <td>2021-12-04 11:31:03+00:00</td>\n",
       "      <td>38.576125</td>\n",
       "      <td>-77.412980</td>\n",
       "      <td>98.0</td>\n",
       "    </tr>\n",
       "    <tr>\n",
       "      <th>1</th>\n",
       "      <td>2021-12-04 11:31:04+00:00</td>\n",
       "      <td>38.576111</td>\n",
       "      <td>-77.412989</td>\n",
       "      <td>98.0</td>\n",
       "    </tr>\n",
       "    <tr>\n",
       "      <th>2</th>\n",
       "      <td>2021-12-04 11:31:05+00:00</td>\n",
       "      <td>38.576098</td>\n",
       "      <td>-77.412999</td>\n",
       "      <td>98.0</td>\n",
       "    </tr>\n",
       "    <tr>\n",
       "      <th>3</th>\n",
       "      <td>2021-12-04 11:31:06+00:00</td>\n",
       "      <td>38.576086</td>\n",
       "      <td>-77.413008</td>\n",
       "      <td>98.0</td>\n",
       "    </tr>\n",
       "    <tr>\n",
       "      <th>4</th>\n",
       "      <td>2021-12-04 11:31:07+00:00</td>\n",
       "      <td>38.576070</td>\n",
       "      <td>-77.413020</td>\n",
       "      <td>98.0</td>\n",
       "    </tr>\n",
       "  </tbody>\n",
       "</table>\n",
       "</div>"
      ],
      "text/plain": [
       "                       time   latitude  longitude  elevation\n",
       "0 2021-12-04 11:31:03+00:00  38.576125 -77.412980       98.0\n",
       "1 2021-12-04 11:31:04+00:00  38.576111 -77.412989       98.0\n",
       "2 2021-12-04 11:31:05+00:00  38.576098 -77.412999       98.0\n",
       "3 2021-12-04 11:31:06+00:00  38.576086 -77.413008       98.0\n",
       "4 2021-12-04 11:31:07+00:00  38.576070 -77.413020       98.0"
      ]
     },
     "execution_count": 98,
     "metadata": {},
     "output_type": "execute_result"
    }
   ],
   "source": [
    "df.head()"
   ]
  },
  {
   "cell_type": "code",
   "execution_count": 99,
   "metadata": {},
   "outputs": [
    {
     "data": {
      "text/plain": [
       "(38.576125083491206, -77.41298032924533, 98.0)"
      ]
     },
     "execution_count": 99,
     "metadata": {},
     "output_type": "execute_result"
    }
   ],
   "source": [
    "pointxyz = []\n",
    "for i in range(0,len(df)):\n",
    "    pointxyz.append((df['latitude'][i], df['longitude'][i], df['elevation'][i]))\n",
    "\n",
    "pointxyz[0]"
   ]
  },
  {
   "cell_type": "code",
   "execution_count": 100,
   "metadata": {},
   "outputs": [
    {
     "data": {
      "text/html": [
       "<div>\n",
       "<style scoped>\n",
       "    .dataframe tbody tr th:only-of-type {\n",
       "        vertical-align: middle;\n",
       "    }\n",
       "\n",
       "    .dataframe tbody tr th {\n",
       "        vertical-align: top;\n",
       "    }\n",
       "\n",
       "    .dataframe thead th {\n",
       "        text-align: right;\n",
       "    }\n",
       "</style>\n",
       "<table border=\"1\" class=\"dataframe\">\n",
       "  <thead>\n",
       "    <tr style=\"text-align: right;\">\n",
       "      <th></th>\n",
       "      <th>time</th>\n",
       "      <th>latitude</th>\n",
       "      <th>longitude</th>\n",
       "      <th>elevation</th>\n",
       "      <th>pointxyz</th>\n",
       "    </tr>\n",
       "  </thead>\n",
       "  <tbody>\n",
       "    <tr>\n",
       "      <th>0</th>\n",
       "      <td>2021-12-04 11:31:03+00:00</td>\n",
       "      <td>38.576125</td>\n",
       "      <td>-77.412980</td>\n",
       "      <td>98.0</td>\n",
       "      <td>(38.576125083491206, -77.41298032924533, 98.0)</td>\n",
       "    </tr>\n",
       "    <tr>\n",
       "      <th>1</th>\n",
       "      <td>2021-12-04 11:31:04+00:00</td>\n",
       "      <td>38.576111</td>\n",
       "      <td>-77.412989</td>\n",
       "      <td>98.0</td>\n",
       "      <td>(38.576110918074846, -77.41298879496753, 98.0)</td>\n",
       "    </tr>\n",
       "    <tr>\n",
       "      <th>2</th>\n",
       "      <td>2021-12-04 11:31:05+00:00</td>\n",
       "      <td>38.576098</td>\n",
       "      <td>-77.412999</td>\n",
       "      <td>98.0</td>\n",
       "      <td>(38.576098177582026, -77.4129987694323, 98.0)</td>\n",
       "    </tr>\n",
       "    <tr>\n",
       "      <th>3</th>\n",
       "      <td>2021-12-04 11:31:06+00:00</td>\n",
       "      <td>38.576086</td>\n",
       "      <td>-77.413008</td>\n",
       "      <td>98.0</td>\n",
       "      <td>(38.5760856885463, -77.4130077380687, 98.0)</td>\n",
       "    </tr>\n",
       "    <tr>\n",
       "      <th>4</th>\n",
       "      <td>2021-12-04 11:31:07+00:00</td>\n",
       "      <td>38.576070</td>\n",
       "      <td>-77.413020</td>\n",
       "      <td>98.0</td>\n",
       "      <td>(38.576070349663496, -77.41301955655217, 98.0)</td>\n",
       "    </tr>\n",
       "  </tbody>\n",
       "</table>\n",
       "</div>"
      ],
      "text/plain": [
       "                       time   latitude  longitude  elevation  \\\n",
       "0 2021-12-04 11:31:03+00:00  38.576125 -77.412980       98.0   \n",
       "1 2021-12-04 11:31:04+00:00  38.576111 -77.412989       98.0   \n",
       "2 2021-12-04 11:31:05+00:00  38.576098 -77.412999       98.0   \n",
       "3 2021-12-04 11:31:06+00:00  38.576086 -77.413008       98.0   \n",
       "4 2021-12-04 11:31:07+00:00  38.576070 -77.413020       98.0   \n",
       "\n",
       "                                         pointxyz  \n",
       "0  (38.576125083491206, -77.41298032924533, 98.0)  \n",
       "1  (38.576110918074846, -77.41298879496753, 98.0)  \n",
       "2   (38.576098177582026, -77.4129987694323, 98.0)  \n",
       "3     (38.5760856885463, -77.4130077380687, 98.0)  \n",
       "4  (38.576070349663496, -77.41301955655217, 98.0)  "
      ]
     },
     "execution_count": 100,
     "metadata": {},
     "output_type": "execute_result"
    }
   ],
   "source": [
    "df['pointxyz']= pd.Series(pointxyz)\n",
    "df.head()"
   ]
  },
  {
   "cell_type": "markdown",
   "metadata": {},
   "source": [
    "# Distance Calcs"
   ]
  },
  {
   "cell_type": "markdown",
   "metadata": {},
   "source": [
    "## Geodesic"
   ]
  },
  {
   "cell_type": "code",
   "execution_count": 101,
   "metadata": {},
   "outputs": [
    {
     "name": "stdout",
     "output_type": "stream",
     "text": [
      "(38.576098177582026, -77.4129987694323) (38.576110918074846, -77.41298879496753)\n",
      "0.0010314937920102975\n"
     ]
    }
   ],
   "source": [
    "b_latlon = df['pointxyz'][1+1][:2]\n",
    "a_latlon = df['pointxyz'][1][:2]\n",
    "print(b_latlon,a_latlon)\n",
    "print(geodesic(a_latlon,b_latlon).miles)"
   ]
  },
  {
   "cell_type": "code",
   "execution_count": 102,
   "metadata": {},
   "outputs": [
    {
     "data": {
      "text/html": [
       "<div>\n",
       "<style scoped>\n",
       "    .dataframe tbody tr th:only-of-type {\n",
       "        vertical-align: middle;\n",
       "    }\n",
       "\n",
       "    .dataframe tbody tr th {\n",
       "        vertical-align: top;\n",
       "    }\n",
       "\n",
       "    .dataframe thead th {\n",
       "        text-align: right;\n",
       "    }\n",
       "</style>\n",
       "<table border=\"1\" class=\"dataframe\">\n",
       "  <thead>\n",
       "    <tr style=\"text-align: right;\">\n",
       "      <th></th>\n",
       "      <th>time</th>\n",
       "      <th>latitude</th>\n",
       "      <th>longitude</th>\n",
       "      <th>elevation</th>\n",
       "      <th>pointxyz</th>\n",
       "      <th>euc_dist</th>\n",
       "    </tr>\n",
       "  </thead>\n",
       "  <tbody>\n",
       "    <tr>\n",
       "      <th>0</th>\n",
       "      <td>2021-12-04 11:31:03+00:00</td>\n",
       "      <td>38.576125</td>\n",
       "      <td>-77.412980</td>\n",
       "      <td>98.0</td>\n",
       "      <td>(38.576125083491206, -77.41298032924533, 98.0)</td>\n",
       "      <td>0.000000</td>\n",
       "    </tr>\n",
       "    <tr>\n",
       "      <th>1</th>\n",
       "      <td>2021-12-04 11:31:04+00:00</td>\n",
       "      <td>38.576111</td>\n",
       "      <td>-77.412989</td>\n",
       "      <td>98.0</td>\n",
       "      <td>(38.576110918074846, -77.41298879496753, 98.0)</td>\n",
       "      <td>0.001079</td>\n",
       "    </tr>\n",
       "    <tr>\n",
       "      <th>2</th>\n",
       "      <td>2021-12-04 11:31:05+00:00</td>\n",
       "      <td>38.576098</td>\n",
       "      <td>-77.412999</td>\n",
       "      <td>98.0</td>\n",
       "      <td>(38.576098177582026, -77.4129987694323, 98.0)</td>\n",
       "      <td>0.001031</td>\n",
       "    </tr>\n",
       "    <tr>\n",
       "      <th>3</th>\n",
       "      <td>2021-12-04 11:31:06+00:00</td>\n",
       "      <td>38.576086</td>\n",
       "      <td>-77.413008</td>\n",
       "      <td>98.0</td>\n",
       "      <td>(38.5760856885463, -77.4130077380687, 98.0)</td>\n",
       "      <td>0.000989</td>\n",
       "    </tr>\n",
       "    <tr>\n",
       "      <th>4</th>\n",
       "      <td>2021-12-04 11:31:07+00:00</td>\n",
       "      <td>38.576070</td>\n",
       "      <td>-77.413020</td>\n",
       "      <td>98.0</td>\n",
       "      <td>(38.576070349663496, -77.41301955655217, 98.0)</td>\n",
       "      <td>0.001237</td>\n",
       "    </tr>\n",
       "  </tbody>\n",
       "</table>\n",
       "</div>"
      ],
      "text/plain": [
       "                       time   latitude  longitude  elevation  \\\n",
       "0 2021-12-04 11:31:03+00:00  38.576125 -77.412980       98.0   \n",
       "1 2021-12-04 11:31:04+00:00  38.576111 -77.412989       98.0   \n",
       "2 2021-12-04 11:31:05+00:00  38.576098 -77.412999       98.0   \n",
       "3 2021-12-04 11:31:06+00:00  38.576086 -77.413008       98.0   \n",
       "4 2021-12-04 11:31:07+00:00  38.576070 -77.413020       98.0   \n",
       "\n",
       "                                         pointxyz  euc_dist  \n",
       "0  (38.576125083491206, -77.41298032924533, 98.0)  0.000000  \n",
       "1  (38.576110918074846, -77.41298879496753, 98.0)  0.001079  \n",
       "2   (38.576098177582026, -77.4129987694323, 98.0)  0.001031  \n",
       "3     (38.5760856885463, -77.4130077380687, 98.0)  0.000989  \n",
       "4  (38.576070349663496, -77.41301955655217, 98.0)  0.001237  "
      ]
     },
     "execution_count": 102,
     "metadata": {},
     "output_type": "execute_result"
    }
   ],
   "source": [
    "# Get Step distance, i.e. distance between points.\n",
    "euc_dist = [0]\n",
    "# fl_dist =[0]\n",
    "\n",
    "for i in range(len(df)-1):\n",
    "    \n",
    "    b_latlon = df['pointxyz'][i+1][:2]\n",
    "    a_latlon = df['pointxyz'][i][:2]\n",
    "\n",
    "    # OG elevation in meters (1000m = .6 miles)  so change meters into km and then convert to miles\n",
    "    b_elv = df['pointxyz'][i+1][2]/1000*.6\n",
    "    a_elv = df['pointxyz'][i][2]/1000*.6\n",
    "    eldiff = b_elv-a_elv\n",
    "\n",
    "    flat_distance =geodesic(a_latlon,b_latlon).miles\n",
    "    # fl_dist.append(flat_distance)\n",
    "\n",
    "    euc_distance = math.sqrt(flat_distance**2 + eldiff**2)\n",
    "    euc_dist.append(euc_distance)\n",
    "\n",
    "df['euc_dist'] = pd.Series(euc_dist)\n",
    "# df['flat_dist'] = pd.Series(fl_dist)\n",
    "\n",
    "df.head()\n"
   ]
  },
  {
   "cell_type": "markdown",
   "metadata": {},
   "source": [
    "## Haversine"
   ]
  },
  {
   "cell_type": "code",
   "execution_count": 103,
   "metadata": {},
   "outputs": [],
   "source": [
    "def haversine_distance(lat1, lon1, lat2, lon2) -> float:\n",
    "    distance = hs.haversine(\n",
    "        point1=(lat1,lon1),\n",
    "        point2=(lat2,lon2),\n",
    "        unit=hs.Unit.MILES\n",
    "    )\n",
    "    return np.round(distance,8)"
   ]
  },
  {
   "cell_type": "code",
   "execution_count": 104,
   "metadata": {},
   "outputs": [
    {
     "data": {
      "text/plain": [
       "0.00108029"
      ]
     },
     "execution_count": 104,
     "metadata": {},
     "output_type": "execute_result"
    }
   ],
   "source": [
    "haversine_distance(\n",
    "    lat1=df.iloc[0]['latitude'],\n",
    "    lon1=df.iloc[0]['longitude'],\n",
    "    lat2=df.iloc[1]['latitude'],\n",
    "    lon2=df.iloc[1]['longitude']\n",
    ")"
   ]
  },
  {
   "cell_type": "code",
   "execution_count": 105,
   "metadata": {},
   "outputs": [
    {
     "data": {
      "text/html": [
       "<div>\n",
       "<style scoped>\n",
       "    .dataframe tbody tr th:only-of-type {\n",
       "        vertical-align: middle;\n",
       "    }\n",
       "\n",
       "    .dataframe tbody tr th {\n",
       "        vertical-align: top;\n",
       "    }\n",
       "\n",
       "    .dataframe thead th {\n",
       "        text-align: right;\n",
       "    }\n",
       "</style>\n",
       "<table border=\"1\" class=\"dataframe\">\n",
       "  <thead>\n",
       "    <tr style=\"text-align: right;\">\n",
       "      <th></th>\n",
       "      <th>time</th>\n",
       "      <th>latitude</th>\n",
       "      <th>longitude</th>\n",
       "      <th>elevation</th>\n",
       "      <th>pointxyz</th>\n",
       "      <th>euc_dist</th>\n",
       "      <th>distance</th>\n",
       "    </tr>\n",
       "  </thead>\n",
       "  <tbody>\n",
       "    <tr>\n",
       "      <th>0</th>\n",
       "      <td>2021-12-04 11:31:03+00:00</td>\n",
       "      <td>38.576125</td>\n",
       "      <td>-77.412980</td>\n",
       "      <td>98.0</td>\n",
       "      <td>(38.576125083491206, -77.41298032924533, 98.0)</td>\n",
       "      <td>0.000000</td>\n",
       "      <td>NaN</td>\n",
       "    </tr>\n",
       "    <tr>\n",
       "      <th>1</th>\n",
       "      <td>2021-12-04 11:31:04+00:00</td>\n",
       "      <td>38.576111</td>\n",
       "      <td>-77.412989</td>\n",
       "      <td>98.0</td>\n",
       "      <td>(38.576110918074846, -77.41298879496753, 98.0)</td>\n",
       "      <td>0.001079</td>\n",
       "      <td>0.001080</td>\n",
       "    </tr>\n",
       "    <tr>\n",
       "      <th>2</th>\n",
       "      <td>2021-12-04 11:31:05+00:00</td>\n",
       "      <td>38.576098</td>\n",
       "      <td>-77.412999</td>\n",
       "      <td>98.0</td>\n",
       "      <td>(38.576098177582026, -77.4129987694323, 98.0)</td>\n",
       "      <td>0.001031</td>\n",
       "      <td>0.001032</td>\n",
       "    </tr>\n",
       "    <tr>\n",
       "      <th>3</th>\n",
       "      <td>2021-12-04 11:31:06+00:00</td>\n",
       "      <td>38.576086</td>\n",
       "      <td>-77.413008</td>\n",
       "      <td>98.0</td>\n",
       "      <td>(38.5760856885463, -77.4130077380687, 98.0)</td>\n",
       "      <td>0.000989</td>\n",
       "      <td>0.000990</td>\n",
       "    </tr>\n",
       "    <tr>\n",
       "      <th>4</th>\n",
       "      <td>2021-12-04 11:31:07+00:00</td>\n",
       "      <td>38.576070</td>\n",
       "      <td>-77.413020</td>\n",
       "      <td>98.0</td>\n",
       "      <td>(38.576070349663496, -77.41301955655217, 98.0)</td>\n",
       "      <td>0.001237</td>\n",
       "      <td>0.001237</td>\n",
       "    </tr>\n",
       "  </tbody>\n",
       "</table>\n",
       "</div>"
      ],
      "text/plain": [
       "                       time   latitude  longitude  elevation  \\\n",
       "0 2021-12-04 11:31:03+00:00  38.576125 -77.412980       98.0   \n",
       "1 2021-12-04 11:31:04+00:00  38.576111 -77.412989       98.0   \n",
       "2 2021-12-04 11:31:05+00:00  38.576098 -77.412999       98.0   \n",
       "3 2021-12-04 11:31:06+00:00  38.576086 -77.413008       98.0   \n",
       "4 2021-12-04 11:31:07+00:00  38.576070 -77.413020       98.0   \n",
       "\n",
       "                                         pointxyz  euc_dist  distance  \n",
       "0  (38.576125083491206, -77.41298032924533, 98.0)  0.000000       NaN  \n",
       "1  (38.576110918074846, -77.41298879496753, 98.0)  0.001079  0.001080  \n",
       "2   (38.576098177582026, -77.4129987694323, 98.0)  0.001031  0.001032  \n",
       "3     (38.5760856885463, -77.4130077380687, 98.0)  0.000989  0.000990  \n",
       "4  (38.576070349663496, -77.41301955655217, 98.0)  0.001237  0.001237  "
      ]
     },
     "execution_count": 105,
     "metadata": {},
     "output_type": "execute_result"
    }
   ],
   "source": [
    "distances = [np.nan]\n",
    "\n",
    "for i in range(len(df)):\n",
    "    if i == 0:\n",
    "        continue\n",
    "    else:\n",
    "        distances.append(haversine_distance(\n",
    "            lat1=df.iloc[i - 1]['latitude'],\n",
    "            lon1=df.iloc[i - 1]['longitude'],\n",
    "            lat2=df.iloc[i]['latitude'],\n",
    "            lon2=df.iloc[i]['longitude']\n",
    "        ))\n",
    "\n",
    "df['distance'] = distances\n",
    "df.head()"
   ]
  },
  {
   "cell_type": "code",
   "execution_count": 106,
   "metadata": {},
   "outputs": [
    {
     "data": {
      "text/plain": [
       "67.02088915"
      ]
     },
     "execution_count": 106,
     "metadata": {},
     "output_type": "execute_result"
    }
   ],
   "source": [
    "df['distance'].sum()"
   ]
  },
  {
   "cell_type": "markdown",
   "metadata": {},
   "source": [
    "#### Speed Calc"
   ]
  },
  {
   "cell_type": "code",
   "execution_count": 107,
   "metadata": {},
   "outputs": [],
   "source": [
    "# 1 sec is 1/60th of minute and a minute is 1/60th of an hour so \n",
    "\n",
    "euc_speed = []\n",
    "\n",
    "for i in range(len(df)):\n",
    "    euc_mph = df['euc_dist'][i]/(1/60/60)\n",
    "    euc_speed.append(euc_mph)\n",
    "\n",
    "df['euc_mph'] = pd.Series(euc_speed)\n",
    "\n"
   ]
  },
  {
   "cell_type": "code",
   "execution_count": 108,
   "metadata": {},
   "outputs": [
    {
     "data": {
      "text/plain": [
       "count    59640.000000\n",
       "mean         4.066316\n",
       "std          2.525913\n",
       "min          0.000000\n",
       "25%          2.906327\n",
       "50%          3.935959\n",
       "75%          5.036651\n",
       "max        221.798116\n",
       "Name: euc_mph, dtype: float64"
      ]
     },
     "execution_count": 108,
     "metadata": {},
     "output_type": "execute_result"
    }
   ],
   "source": [
    "df['euc_mph'].describe()"
   ]
  },
  {
   "cell_type": "code",
   "execution_count": 109,
   "metadata": {},
   "outputs": [
    {
     "data": {
      "text/html": [
       "<div>\n",
       "<style scoped>\n",
       "    .dataframe tbody tr th:only-of-type {\n",
       "        vertical-align: middle;\n",
       "    }\n",
       "\n",
       "    .dataframe tbody tr th {\n",
       "        vertical-align: top;\n",
       "    }\n",
       "\n",
       "    .dataframe thead th {\n",
       "        text-align: right;\n",
       "    }\n",
       "</style>\n",
       "<table border=\"1\" class=\"dataframe\">\n",
       "  <thead>\n",
       "    <tr style=\"text-align: right;\">\n",
       "      <th></th>\n",
       "      <th>time</th>\n",
       "      <th>latitude</th>\n",
       "      <th>longitude</th>\n",
       "      <th>elevation</th>\n",
       "      <th>pointxyz</th>\n",
       "      <th>euc_dist</th>\n",
       "      <th>distance</th>\n",
       "      <th>euc_mph</th>\n",
       "    </tr>\n",
       "  </thead>\n",
       "  <tbody>\n",
       "    <tr>\n",
       "      <th>2014</th>\n",
       "      <td>2021-12-04 12:04:37+00:00</td>\n",
       "      <td>38.589663</td>\n",
       "      <td>-77.423445</td>\n",
       "      <td>83.000000</td>\n",
       "      <td>(38.589662946760654, -77.42344530299306, 83.0)</td>\n",
       "      <td>0.015828</td>\n",
       "      <td>0.015810</td>\n",
       "      <td>56.981684</td>\n",
       "    </tr>\n",
       "    <tr>\n",
       "      <th>2079</th>\n",
       "      <td>2021-12-04 12:05:42+00:00</td>\n",
       "      <td>38.590674</td>\n",
       "      <td>-77.423715</td>\n",
       "      <td>86.400002</td>\n",
       "      <td>(38.59067405574024, -77.42371503263712, 86.400...</td>\n",
       "      <td>0.008251</td>\n",
       "      <td>0.008265</td>\n",
       "      <td>29.704942</td>\n",
       "    </tr>\n",
       "    <tr>\n",
       "      <th>3185</th>\n",
       "      <td>2021-12-04 12:24:08+00:00</td>\n",
       "      <td>38.604708</td>\n",
       "      <td>-77.411836</td>\n",
       "      <td>103.000000</td>\n",
       "      <td>(38.60470804385841, -77.41183645091951, 103.0)</td>\n",
       "      <td>0.004250</td>\n",
       "      <td>0.004257</td>\n",
       "      <td>15.298533</td>\n",
       "    </tr>\n",
       "    <tr>\n",
       "      <th>5968</th>\n",
       "      <td>2021-12-04 13:10:31+00:00</td>\n",
       "      <td>38.595406</td>\n",
       "      <td>-77.394945</td>\n",
       "      <td>83.199997</td>\n",
       "      <td>(38.5954057238996, -77.39494532346725, 83.1999...</td>\n",
       "      <td>0.004406</td>\n",
       "      <td>0.004403</td>\n",
       "      <td>15.862408</td>\n",
       "    </tr>\n",
       "    <tr>\n",
       "      <th>8269</th>\n",
       "      <td>2021-12-04 13:48:52+00:00</td>\n",
       "      <td>38.595706</td>\n",
       "      <td>-77.361531</td>\n",
       "      <td>39.400002</td>\n",
       "      <td>(38.59570596367121, -77.36153061501682, 39.400...</td>\n",
       "      <td>0.005333</td>\n",
       "      <td>0.005320</td>\n",
       "      <td>19.199237</td>\n",
       "    </tr>\n",
       "    <tr>\n",
       "      <th>...</th>\n",
       "      <td>...</td>\n",
       "      <td>...</td>\n",
       "      <td>...</td>\n",
       "      <td>...</td>\n",
       "      <td>...</td>\n",
       "      <td>...</td>\n",
       "      <td>...</td>\n",
       "      <td>...</td>\n",
       "    </tr>\n",
       "    <tr>\n",
       "      <th>51566</th>\n",
       "      <td>2021-12-05 01:52:30+00:00</td>\n",
       "      <td>38.561092</td>\n",
       "      <td>-77.345754</td>\n",
       "      <td>12.200000</td>\n",
       "      <td>(38.56109205633402, -77.34575394541025, 12.199...</td>\n",
       "      <td>0.004567</td>\n",
       "      <td>0.004568</td>\n",
       "      <td>16.442286</td>\n",
       "    </tr>\n",
       "    <tr>\n",
       "      <th>52316</th>\n",
       "      <td>2021-12-05 02:05:00+00:00</td>\n",
       "      <td>38.558427</td>\n",
       "      <td>-77.342832</td>\n",
       "      <td>21.799999</td>\n",
       "      <td>(38.558426946401596, -77.34283184632659, 21.79...</td>\n",
       "      <td>0.004973</td>\n",
       "      <td>0.004981</td>\n",
       "      <td>17.901839</td>\n",
       "    </tr>\n",
       "    <tr>\n",
       "      <th>54427</th>\n",
       "      <td>2021-12-05 02:40:26+00:00</td>\n",
       "      <td>38.568706</td>\n",
       "      <td>-77.361238</td>\n",
       "      <td>-15.400000</td>\n",
       "      <td>(38.56870559044182, -77.36123791895807, -15.39...</td>\n",
       "      <td>0.018753</td>\n",
       "      <td>0.018750</td>\n",
       "      <td>67.510987</td>\n",
       "    </tr>\n",
       "    <tr>\n",
       "      <th>54428</th>\n",
       "      <td>2021-12-05 02:40:27+00:00</td>\n",
       "      <td>38.568874</td>\n",
       "      <td>-77.361348</td>\n",
       "      <td>-15.000000</td>\n",
       "      <td>(38.568873731419444, -77.36134780570865, -15.0)</td>\n",
       "      <td>0.013038</td>\n",
       "      <td>0.013046</td>\n",
       "      <td>46.935053</td>\n",
       "    </tr>\n",
       "    <tr>\n",
       "      <th>54430</th>\n",
       "      <td>2021-12-05 02:40:29+00:00</td>\n",
       "      <td>38.568803</td>\n",
       "      <td>-77.361226</td>\n",
       "      <td>-14.600000</td>\n",
       "      <td>(38.56880349107087, -77.36122568137944, -14.60...</td>\n",
       "      <td>0.006580</td>\n",
       "      <td>0.006573</td>\n",
       "      <td>23.689696</td>\n",
       "    </tr>\n",
       "  </tbody>\n",
       "</table>\n",
       "<p>87 rows × 8 columns</p>\n",
       "</div>"
      ],
      "text/plain": [
       "                           time   latitude  longitude   elevation  \\\n",
       "2014  2021-12-04 12:04:37+00:00  38.589663 -77.423445   83.000000   \n",
       "2079  2021-12-04 12:05:42+00:00  38.590674 -77.423715   86.400002   \n",
       "3185  2021-12-04 12:24:08+00:00  38.604708 -77.411836  103.000000   \n",
       "5968  2021-12-04 13:10:31+00:00  38.595406 -77.394945   83.199997   \n",
       "8269  2021-12-04 13:48:52+00:00  38.595706 -77.361531   39.400002   \n",
       "...                         ...        ...        ...         ...   \n",
       "51566 2021-12-05 01:52:30+00:00  38.561092 -77.345754   12.200000   \n",
       "52316 2021-12-05 02:05:00+00:00  38.558427 -77.342832   21.799999   \n",
       "54427 2021-12-05 02:40:26+00:00  38.568706 -77.361238  -15.400000   \n",
       "54428 2021-12-05 02:40:27+00:00  38.568874 -77.361348  -15.000000   \n",
       "54430 2021-12-05 02:40:29+00:00  38.568803 -77.361226  -14.600000   \n",
       "\n",
       "                                                pointxyz  euc_dist  distance  \\\n",
       "2014      (38.589662946760654, -77.42344530299306, 83.0)  0.015828  0.015810   \n",
       "2079   (38.59067405574024, -77.42371503263712, 86.400...  0.008251  0.008265   \n",
       "3185      (38.60470804385841, -77.41183645091951, 103.0)  0.004250  0.004257   \n",
       "5968   (38.5954057238996, -77.39494532346725, 83.1999...  0.004406  0.004403   \n",
       "8269   (38.59570596367121, -77.36153061501682, 39.400...  0.005333  0.005320   \n",
       "...                                                  ...       ...       ...   \n",
       "51566  (38.56109205633402, -77.34575394541025, 12.199...  0.004567  0.004568   \n",
       "52316  (38.558426946401596, -77.34283184632659, 21.79...  0.004973  0.004981   \n",
       "54427  (38.56870559044182, -77.36123791895807, -15.39...  0.018753  0.018750   \n",
       "54428    (38.568873731419444, -77.36134780570865, -15.0)  0.013038  0.013046   \n",
       "54430  (38.56880349107087, -77.36122568137944, -14.60...  0.006580  0.006573   \n",
       "\n",
       "         euc_mph  \n",
       "2014   56.981684  \n",
       "2079   29.704942  \n",
       "3185   15.298533  \n",
       "5968   15.862408  \n",
       "8269   19.199237  \n",
       "...          ...  \n",
       "51566  16.442286  \n",
       "52316  17.901839  \n",
       "54427  67.510987  \n",
       "54428  46.935053  \n",
       "54430  23.689696  \n",
       "\n",
       "[87 rows x 8 columns]"
      ]
     },
     "execution_count": 109,
     "metadata": {},
     "output_type": "execute_result"
    }
   ],
   "source": [
    "df[df['euc_mph'] > 15]"
   ]
  },
  {
   "cell_type": "markdown",
   "metadata": {},
   "source": [
    "#### Elevation Change, Cum Elevation, and Cum Distance"
   ]
  },
  {
   "cell_type": "code",
   "execution_count": 110,
   "metadata": {},
   "outputs": [
    {
     "data": {
      "text/html": [
       "<div>\n",
       "<style scoped>\n",
       "    .dataframe tbody tr th:only-of-type {\n",
       "        vertical-align: middle;\n",
       "    }\n",
       "\n",
       "    .dataframe tbody tr th {\n",
       "        vertical-align: top;\n",
       "    }\n",
       "\n",
       "    .dataframe thead th {\n",
       "        text-align: right;\n",
       "    }\n",
       "</style>\n",
       "<table border=\"1\" class=\"dataframe\">\n",
       "  <thead>\n",
       "    <tr style=\"text-align: right;\">\n",
       "      <th></th>\n",
       "      <th>time</th>\n",
       "      <th>latitude</th>\n",
       "      <th>longitude</th>\n",
       "      <th>elevation</th>\n",
       "      <th>pointxyz</th>\n",
       "      <th>euc_dist</th>\n",
       "      <th>distance</th>\n",
       "      <th>euc_mph</th>\n",
       "      <th>elevation_change</th>\n",
       "      <th>cum_elevation</th>\n",
       "      <th>cum_distance</th>\n",
       "    </tr>\n",
       "  </thead>\n",
       "  <tbody>\n",
       "    <tr>\n",
       "      <th>0</th>\n",
       "      <td>2021-12-04 11:31:03+00:00</td>\n",
       "      <td>38.576125</td>\n",
       "      <td>-77.412980</td>\n",
       "      <td>98.0</td>\n",
       "      <td>(38.576125083491206, -77.41298032924533, 98.0)</td>\n",
       "      <td>0.000000</td>\n",
       "      <td>0.000000</td>\n",
       "      <td>0.000000</td>\n",
       "      <td>0.0</td>\n",
       "      <td>0.0</td>\n",
       "      <td>0.000000</td>\n",
       "    </tr>\n",
       "    <tr>\n",
       "      <th>1</th>\n",
       "      <td>2021-12-04 11:31:04+00:00</td>\n",
       "      <td>38.576111</td>\n",
       "      <td>-77.412989</td>\n",
       "      <td>98.0</td>\n",
       "      <td>(38.576110918074846, -77.41298879496753, 98.0)</td>\n",
       "      <td>0.001079</td>\n",
       "      <td>0.001080</td>\n",
       "      <td>3.885364</td>\n",
       "      <td>0.0</td>\n",
       "      <td>0.0</td>\n",
       "      <td>0.001080</td>\n",
       "    </tr>\n",
       "    <tr>\n",
       "      <th>2</th>\n",
       "      <td>2021-12-04 11:31:05+00:00</td>\n",
       "      <td>38.576098</td>\n",
       "      <td>-77.412999</td>\n",
       "      <td>98.0</td>\n",
       "      <td>(38.576098177582026, -77.4129987694323, 98.0)</td>\n",
       "      <td>0.001031</td>\n",
       "      <td>0.001032</td>\n",
       "      <td>3.713378</td>\n",
       "      <td>0.0</td>\n",
       "      <td>0.0</td>\n",
       "      <td>0.002112</td>\n",
       "    </tr>\n",
       "    <tr>\n",
       "      <th>3</th>\n",
       "      <td>2021-12-04 11:31:06+00:00</td>\n",
       "      <td>38.576086</td>\n",
       "      <td>-77.413008</td>\n",
       "      <td>98.0</td>\n",
       "      <td>(38.5760856885463, -77.4130077380687, 98.0)</td>\n",
       "      <td>0.000989</td>\n",
       "      <td>0.000990</td>\n",
       "      <td>3.560057</td>\n",
       "      <td>0.0</td>\n",
       "      <td>0.0</td>\n",
       "      <td>0.003102</td>\n",
       "    </tr>\n",
       "    <tr>\n",
       "      <th>4</th>\n",
       "      <td>2021-12-04 11:31:07+00:00</td>\n",
       "      <td>38.576070</td>\n",
       "      <td>-77.413020</td>\n",
       "      <td>98.0</td>\n",
       "      <td>(38.576070349663496, -77.41301955655217, 98.0)</td>\n",
       "      <td>0.001237</td>\n",
       "      <td>0.001237</td>\n",
       "      <td>4.451406</td>\n",
       "      <td>0.0</td>\n",
       "      <td>0.0</td>\n",
       "      <td>0.004339</td>\n",
       "    </tr>\n",
       "  </tbody>\n",
       "</table>\n",
       "</div>"
      ],
      "text/plain": [
       "                       time   latitude  longitude  elevation  \\\n",
       "0 2021-12-04 11:31:03+00:00  38.576125 -77.412980       98.0   \n",
       "1 2021-12-04 11:31:04+00:00  38.576111 -77.412989       98.0   \n",
       "2 2021-12-04 11:31:05+00:00  38.576098 -77.412999       98.0   \n",
       "3 2021-12-04 11:31:06+00:00  38.576086 -77.413008       98.0   \n",
       "4 2021-12-04 11:31:07+00:00  38.576070 -77.413020       98.0   \n",
       "\n",
       "                                         pointxyz  euc_dist  distance  \\\n",
       "0  (38.576125083491206, -77.41298032924533, 98.0)  0.000000  0.000000   \n",
       "1  (38.576110918074846, -77.41298879496753, 98.0)  0.001079  0.001080   \n",
       "2   (38.576098177582026, -77.4129987694323, 98.0)  0.001031  0.001032   \n",
       "3     (38.5760856885463, -77.4130077380687, 98.0)  0.000989  0.000990   \n",
       "4  (38.576070349663496, -77.41301955655217, 98.0)  0.001237  0.001237   \n",
       "\n",
       "    euc_mph  elevation_change  cum_elevation  cum_distance  \n",
       "0  0.000000               0.0            0.0      0.000000  \n",
       "1  3.885364               0.0            0.0      0.001080  \n",
       "2  3.713378               0.0            0.0      0.002112  \n",
       "3  3.560057               0.0            0.0      0.003102  \n",
       "4  4.451406               0.0            0.0      0.004339  "
      ]
     },
     "execution_count": 110,
     "metadata": {},
     "output_type": "execute_result"
    }
   ],
   "source": [
    "df['elevation_change'] = df['elevation'].diff()\n",
    "df['cum_elevation'] = df['elevation_change'].cumsum()\n",
    "df['cum_distance'] = df['distance'].cumsum()\n",
    "df = df.fillna(0)\n",
    "df.head()\n"
   ]
  },
  {
   "cell_type": "code",
   "execution_count": 111,
   "metadata": {},
   "outputs": [
    {
     "data": {
      "text/html": [
       "<div>\n",
       "<style scoped>\n",
       "    .dataframe tbody tr th:only-of-type {\n",
       "        vertical-align: middle;\n",
       "    }\n",
       "\n",
       "    .dataframe tbody tr th {\n",
       "        vertical-align: top;\n",
       "    }\n",
       "\n",
       "    .dataframe thead th {\n",
       "        text-align: right;\n",
       "    }\n",
       "</style>\n",
       "<table border=\"1\" class=\"dataframe\">\n",
       "  <thead>\n",
       "    <tr style=\"text-align: right;\">\n",
       "      <th></th>\n",
       "      <th>latitude</th>\n",
       "      <th>longitude</th>\n",
       "      <th>elevation</th>\n",
       "      <th>euc_dist</th>\n",
       "      <th>distance</th>\n",
       "      <th>euc_mph</th>\n",
       "      <th>elevation_change</th>\n",
       "      <th>cum_elevation</th>\n",
       "      <th>cum_distance</th>\n",
       "    </tr>\n",
       "  </thead>\n",
       "  <tbody>\n",
       "    <tr>\n",
       "      <th>count</th>\n",
       "      <td>59640.000000</td>\n",
       "      <td>59640.000000</td>\n",
       "      <td>59640.000000</td>\n",
       "      <td>59640.000000</td>\n",
       "      <td>59640.000000</td>\n",
       "      <td>59640.000000</td>\n",
       "      <td>59640.000000</td>\n",
       "      <td>59640.000000</td>\n",
       "      <td>59640.000000</td>\n",
       "    </tr>\n",
       "    <tr>\n",
       "      <th>mean</th>\n",
       "      <td>38.580718</td>\n",
       "      <td>-77.379950</td>\n",
       "      <td>45.231207</td>\n",
       "      <td>0.001130</td>\n",
       "      <td>0.001124</td>\n",
       "      <td>4.066316</td>\n",
       "      <td>-0.000999</td>\n",
       "      <td>-52.768793</td>\n",
       "      <td>35.720209</td>\n",
       "    </tr>\n",
       "    <tr>\n",
       "      <th>std</th>\n",
       "      <td>0.012729</td>\n",
       "      <td>0.025952</td>\n",
       "      <td>36.452463</td>\n",
       "      <td>0.000702</td>\n",
       "      <td>0.000703</td>\n",
       "      <td>2.525913</td>\n",
       "      <td>0.165107</td>\n",
       "      <td>36.452463</td>\n",
       "      <td>19.275613</td>\n",
       "    </tr>\n",
       "    <tr>\n",
       "      <th>min</th>\n",
       "      <td>38.557794</td>\n",
       "      <td>-77.424799</td>\n",
       "      <td>-27.200001</td>\n",
       "      <td>0.000000</td>\n",
       "      <td>0.000000</td>\n",
       "      <td>0.000000</td>\n",
       "      <td>-1.199997</td>\n",
       "      <td>-125.200001</td>\n",
       "      <td>0.000000</td>\n",
       "    </tr>\n",
       "    <tr>\n",
       "      <th>25%</th>\n",
       "      <td>38.571374</td>\n",
       "      <td>-77.406517</td>\n",
       "      <td>19.400000</td>\n",
       "      <td>0.000807</td>\n",
       "      <td>0.000801</td>\n",
       "      <td>2.906327</td>\n",
       "      <td>0.000000</td>\n",
       "      <td>-78.600000</td>\n",
       "      <td>19.923717</td>\n",
       "    </tr>\n",
       "    <tr>\n",
       "      <th>50%</th>\n",
       "      <td>38.576993</td>\n",
       "      <td>-77.375818</td>\n",
       "      <td>43.400002</td>\n",
       "      <td>0.001093</td>\n",
       "      <td>0.001088</td>\n",
       "      <td>3.935959</td>\n",
       "      <td>0.000000</td>\n",
       "      <td>-54.599998</td>\n",
       "      <td>36.812835</td>\n",
       "    </tr>\n",
       "    <tr>\n",
       "      <th>75%</th>\n",
       "      <td>38.592803</td>\n",
       "      <td>-77.354579</td>\n",
       "      <td>74.800003</td>\n",
       "      <td>0.001399</td>\n",
       "      <td>0.001395</td>\n",
       "      <td>5.036651</td>\n",
       "      <td>0.000000</td>\n",
       "      <td>-23.199997</td>\n",
       "      <td>52.327903</td>\n",
       "    </tr>\n",
       "    <tr>\n",
       "      <th>max</th>\n",
       "      <td>38.608468</td>\n",
       "      <td>-77.342196</td>\n",
       "      <td>123.800003</td>\n",
       "      <td>0.061611</td>\n",
       "      <td>0.061647</td>\n",
       "      <td>221.798116</td>\n",
       "      <td>2.599998</td>\n",
       "      <td>25.800003</td>\n",
       "      <td>67.020889</td>\n",
       "    </tr>\n",
       "  </tbody>\n",
       "</table>\n",
       "</div>"
      ],
      "text/plain": [
       "           latitude     longitude     elevation      euc_dist      distance  \\\n",
       "count  59640.000000  59640.000000  59640.000000  59640.000000  59640.000000   \n",
       "mean      38.580718    -77.379950     45.231207      0.001130      0.001124   \n",
       "std        0.012729      0.025952     36.452463      0.000702      0.000703   \n",
       "min       38.557794    -77.424799    -27.200001      0.000000      0.000000   \n",
       "25%       38.571374    -77.406517     19.400000      0.000807      0.000801   \n",
       "50%       38.576993    -77.375818     43.400002      0.001093      0.001088   \n",
       "75%       38.592803    -77.354579     74.800003      0.001399      0.001395   \n",
       "max       38.608468    -77.342196    123.800003      0.061611      0.061647   \n",
       "\n",
       "            euc_mph  elevation_change  cum_elevation  cum_distance  \n",
       "count  59640.000000      59640.000000   59640.000000  59640.000000  \n",
       "mean       4.066316         -0.000999     -52.768793     35.720209  \n",
       "std        2.525913          0.165107      36.452463     19.275613  \n",
       "min        0.000000         -1.199997    -125.200001      0.000000  \n",
       "25%        2.906327          0.000000     -78.600000     19.923717  \n",
       "50%        3.935959          0.000000     -54.599998     36.812835  \n",
       "75%        5.036651          0.000000     -23.199997     52.327903  \n",
       "max      221.798116          2.599998      25.800003     67.020889  "
      ]
     },
     "execution_count": 111,
     "metadata": {},
     "output_type": "execute_result"
    }
   ],
   "source": [
    "# range of elevation \n",
    "df.describe()"
   ]
  },
  {
   "cell_type": "code",
   "execution_count": 112,
   "metadata": {},
   "outputs": [
    {
     "data": {
      "image/png": "[encoded data removed]",
      "text/plain": [
       "<Figure size 1296x432 with 1 Axes>"
      ]
     },
     "metadata": {
      "needs_background": "light"
     },
     "output_type": "display_data"
    }
   ],
   "source": [
    "plt.figure(figsize=(18,6))\n",
    "plt.plot(df['cum_distance'], df['cum_elevation'], color='#101010', lw=3)\n",
    "plt.title('Route elevation profile', size=20)\n",
    "plt.xlabel('Distance in miles', size=14)\n",
    "plt.ylabel('Elevation in meters', size=14);"
   ]
  },
  {
   "cell_type": "code",
   "execution_count": 113,
   "metadata": {},
   "outputs": [],
   "source": [
    "# df['5sec_rolling_elv'] = df['elevation_change'].rolling(5).mean()\n",
    "df['second'] = df.index\n",
    "# df[10:15]"
   ]
  },
  {
   "cell_type": "code",
   "execution_count": 114,
   "metadata": {},
   "outputs": [
    {
     "data": {
      "text/plain": [
       "'1:05:05'"
      ]
     },
     "execution_count": 114,
     "metadata": {},
     "output_type": "execute_result"
    }
   ],
   "source": [
    "# seconds to time\n",
    "def sec_2_time(seconds):\n",
    "    str_time = str(datetime.timedelta(seconds=seconds))\n",
    "    return str_time\n",
    "sec_2_time(3905)"
   ]
  },
  {
   "cell_type": "code",
   "execution_count": 115,
   "metadata": {},
   "outputs": [
    {
     "data": {
      "text/html": [
       "<div>\n",
       "<style scoped>\n",
       "    .dataframe tbody tr th:only-of-type {\n",
       "        vertical-align: middle;\n",
       "    }\n",
       "\n",
       "    .dataframe tbody tr th {\n",
       "        vertical-align: top;\n",
       "    }\n",
       "\n",
       "    .dataframe thead th {\n",
       "        text-align: right;\n",
       "    }\n",
       "</style>\n",
       "<table border=\"1\" class=\"dataframe\">\n",
       "  <thead>\n",
       "    <tr style=\"text-align: right;\">\n",
       "      <th></th>\n",
       "      <th>time</th>\n",
       "      <th>latitude</th>\n",
       "      <th>longitude</th>\n",
       "      <th>elevation</th>\n",
       "      <th>pointxyz</th>\n",
       "      <th>euc_dist</th>\n",
       "      <th>distance</th>\n",
       "      <th>euc_mph</th>\n",
       "      <th>elevation_change</th>\n",
       "      <th>cum_elevation</th>\n",
       "      <th>cum_distance</th>\n",
       "      <th>second</th>\n",
       "      <th>elapsed_time</th>\n",
       "      <th>step_feet</th>\n",
       "    </tr>\n",
       "  </thead>\n",
       "  <tbody>\n",
       "    <tr>\n",
       "      <th>0</th>\n",
       "      <td>2021-12-04 11:31:03+00:00</td>\n",
       "      <td>38.576125</td>\n",
       "      <td>-77.412980</td>\n",
       "      <td>98.0</td>\n",
       "      <td>(38.576125083491206, -77.41298032924533, 98.0)</td>\n",
       "      <td>0.000000</td>\n",
       "      <td>0.000000</td>\n",
       "      <td>0.000000</td>\n",
       "      <td>0.0</td>\n",
       "      <td>0.0</td>\n",
       "      <td>0.000000</td>\n",
       "      <td>0</td>\n",
       "      <td>0:00:00</td>\n",
       "      <td>0.000000</td>\n",
       "    </tr>\n",
       "    <tr>\n",
       "      <th>1</th>\n",
       "      <td>2021-12-04 11:31:04+00:00</td>\n",
       "      <td>38.576111</td>\n",
       "      <td>-77.412989</td>\n",
       "      <td>98.0</td>\n",
       "      <td>(38.576110918074846, -77.41298879496753, 98.0)</td>\n",
       "      <td>0.001079</td>\n",
       "      <td>0.001080</td>\n",
       "      <td>3.885364</td>\n",
       "      <td>0.0</td>\n",
       "      <td>0.0</td>\n",
       "      <td>0.001080</td>\n",
       "      <td>1</td>\n",
       "      <td>0:00:01</td>\n",
       "      <td>5.698533</td>\n",
       "    </tr>\n",
       "    <tr>\n",
       "      <th>2</th>\n",
       "      <td>2021-12-04 11:31:05+00:00</td>\n",
       "      <td>38.576098</td>\n",
       "      <td>-77.412999</td>\n",
       "      <td>98.0</td>\n",
       "      <td>(38.576098177582026, -77.4129987694323, 98.0)</td>\n",
       "      <td>0.001031</td>\n",
       "      <td>0.001032</td>\n",
       "      <td>3.713378</td>\n",
       "      <td>0.0</td>\n",
       "      <td>0.0</td>\n",
       "      <td>0.002112</td>\n",
       "      <td>2</td>\n",
       "      <td>0:00:02</td>\n",
       "      <td>5.446287</td>\n",
       "    </tr>\n",
       "    <tr>\n",
       "      <th>3</th>\n",
       "      <td>2021-12-04 11:31:06+00:00</td>\n",
       "      <td>38.576086</td>\n",
       "      <td>-77.413008</td>\n",
       "      <td>98.0</td>\n",
       "      <td>(38.5760856885463, -77.4130077380687, 98.0)</td>\n",
       "      <td>0.000989</td>\n",
       "      <td>0.000990</td>\n",
       "      <td>3.560057</td>\n",
       "      <td>0.0</td>\n",
       "      <td>0.0</td>\n",
       "      <td>0.003102</td>\n",
       "      <td>3</td>\n",
       "      <td>0:00:03</td>\n",
       "      <td>5.221417</td>\n",
       "    </tr>\n",
       "    <tr>\n",
       "      <th>4</th>\n",
       "      <td>2021-12-04 11:31:07+00:00</td>\n",
       "      <td>38.576070</td>\n",
       "      <td>-77.413020</td>\n",
       "      <td>98.0</td>\n",
       "      <td>(38.576070349663496, -77.41301955655217, 98.0)</td>\n",
       "      <td>0.001237</td>\n",
       "      <td>0.001237</td>\n",
       "      <td>4.451406</td>\n",
       "      <td>0.0</td>\n",
       "      <td>0.0</td>\n",
       "      <td>0.004339</td>\n",
       "      <td>4</td>\n",
       "      <td>0:00:04</td>\n",
       "      <td>6.528729</td>\n",
       "    </tr>\n",
       "  </tbody>\n",
       "</table>\n",
       "</div>"
      ],
      "text/plain": [
       "                       time   latitude  longitude  elevation  \\\n",
       "0 2021-12-04 11:31:03+00:00  38.576125 -77.412980       98.0   \n",
       "1 2021-12-04 11:31:04+00:00  38.576111 -77.412989       98.0   \n",
       "2 2021-12-04 11:31:05+00:00  38.576098 -77.412999       98.0   \n",
       "3 2021-12-04 11:31:06+00:00  38.576086 -77.413008       98.0   \n",
       "4 2021-12-04 11:31:07+00:00  38.576070 -77.413020       98.0   \n",
       "\n",
       "                                         pointxyz  euc_dist  distance  \\\n",
       "0  (38.576125083491206, -77.41298032924533, 98.0)  0.000000  0.000000   \n",
       "1  (38.576110918074846, -77.41298879496753, 98.0)  0.001079  0.001080   \n",
       "2   (38.576098177582026, -77.4129987694323, 98.0)  0.001031  0.001032   \n",
       "3     (38.5760856885463, -77.4130077380687, 98.0)  0.000989  0.000990   \n",
       "4  (38.576070349663496, -77.41301955655217, 98.0)  0.001237  0.001237   \n",
       "\n",
       "    euc_mph  elevation_change  cum_elevation  cum_distance  second  \\\n",
       "0  0.000000               0.0            0.0      0.000000       0   \n",
       "1  3.885364               0.0            0.0      0.001080       1   \n",
       "2  3.713378               0.0            0.0      0.002112       2   \n",
       "3  3.560057               0.0            0.0      0.003102       3   \n",
       "4  4.451406               0.0            0.0      0.004339       4   \n",
       "\n",
       "  elapsed_time  step_feet  \n",
       "0      0:00:00   0.000000  \n",
       "1      0:00:01   5.698533  \n",
       "2      0:00:02   5.446287  \n",
       "3      0:00:03   5.221417  \n",
       "4      0:00:04   6.528729  "
      ]
     },
     "execution_count": 115,
     "metadata": {},
     "output_type": "execute_result"
    }
   ],
   "source": [
    "# Adding Elapsed Time\n",
    "def elapsed_time(row):\n",
    "    time = str(datetime.timedelta(seconds=row['second']))\n",
    "    return time\n",
    "\n",
    "df['elapsed_time']= df.apply(elapsed_time, axis=1)\n",
    "\n",
    "# Adding steps/distance in feet\n",
    "df['step_feet'] = df['euc_dist'] * 5280\n",
    "df.head()\n"
   ]
  },
  {
   "cell_type": "code",
   "execution_count": 116,
   "metadata": {},
   "outputs": [],
   "source": [
    "# Identify times when runner is stopped or moving very slowly\n",
    "def find_stops(row):\n",
    "    if row['euc_mph'] < 1:\n",
    "        return 0\n",
    "    return 1\n",
    "\n",
    "df['moving_time'] = df.apply(find_stops, axis=1)"
   ]
  },
  {
   "cell_type": "code",
   "execution_count": 117,
   "metadata": {},
   "outputs": [
    {
     "data": {
      "text/plain": [
       "count    59640.000000\n",
       "mean         5.963931\n",
       "std          3.704672\n",
       "min          0.000000\n",
       "25%          4.262612\n",
       "50%          5.772740\n",
       "75%          7.387088\n",
       "max        325.303904\n",
       "Name: step_feet, dtype: float64"
      ]
     },
     "execution_count": 117,
     "metadata": {},
     "output_type": "execute_result"
    }
   ],
   "source": [
    "df.step_feet.describe()"
   ]
  },
  {
   "cell_type": "code",
   "execution_count": 118,
   "metadata": {},
   "outputs": [
    {
     "data": {
      "text/plain": [
       "67.36530907898653"
      ]
     },
     "execution_count": 118,
     "metadata": {},
     "output_type": "execute_result"
    }
   ],
   "source": [
    "df['euc_dist'].sum()"
   ]
  },
  {
   "cell_type": "code",
   "execution_count": 119,
   "metadata": {},
   "outputs": [
    {
     "data": {
      "text/plain": [
       "'00:11:06'"
      ]
     },
     "execution_count": 119,
     "metadata": {},
     "output_type": "execute_result"
    }
   ],
   "source": [
    "\n",
    "strftime(\"%H:%M:%S\", gmtime(3905))\n",
    "'00:11:06'"
   ]
  },
  {
   "cell_type": "code",
   "execution_count": 120,
   "metadata": {},
   "outputs": [],
   "source": [
    "# levels of gradient\n",
    "# flat = 0\n",
    "# slight up = \n",
    "# slight down <\n",
    "# steep up > 0.5\n",
    "# steep down < 0.5\n",
    "labels = ['SteepD','SlightD','Flat','SlightU','SteepU']\n",
    "custom_cut =[-100, -0.5, -0.25, 0.25, 0.5, 100]\n",
    "\n",
    "#  do it over a set length of distance... not every step."
   ]
  },
  {
   "cell_type": "code",
   "execution_count": 82,
   "metadata": {},
   "outputs": [],
   "source": [
    "df.to_csv('data/df_add.csv', index=False)"
   ]
  },
  {
   "cell_type": "code",
   "execution_count": null,
   "metadata": {},
   "outputs": [],
   "source": []
  }
 ],
 "metadata": {
  "interpreter": {
   "hash": "aa1e2d50254fee92e21ded0f4366ee792dda71ab2204fc3422a666dc6db7b43d"
  },
  "kernelspec": {
   "display_name": "Python 3.6.13 64-bit ('geopandas_env': conda)",
   "language": "python",
   "name": "python3"
  },
  "language_info": {
   "codemirror_mode": {
    "name": "ipython",
    "version": 3
   },
   "file_extension": ".py",
   "mimetype": "text/x-python",
   "name": "python",
   "nbconvert_exporter": "python",
   "pygments_lexer": "ipython3",
   "version": "3.10.0"
  },
  "orig_nbformat": 4
 },
 "nbformat": 4,
 "nbformat_minor": 2
}
