{
 "cells": [
  {
   "cell_type": "code",
   "execution_count": 1,
   "metadata": {},
   "outputs": [],
   "source": [
    "import gpxpy\n",
    "import gpxpy.gpx\n",
    "\n",
    "import pandas as pd\n",
    "import matplotlib.pyplot as plt\n",
    "plt.rcParams['axes.spines.top'] = False\n",
    "plt.rcParams['axes.spines.right'] = False"
   ]
  },
  {
   "cell_type": "code",
   "execution_count": 2,
   "metadata": {},
   "outputs": [],
   "source": [
    "\n",
    "with open('Routes/DD100K_2021.gpx', 'r') as gpx_file:\n",
    "    DDgpx = gpxpy.parse(gpx_file)"
   ]
  },
  {
   "cell_type": "code",
   "execution_count": 3,
   "metadata": {},
   "outputs": [
    {
     "data": {
      "text/plain": [
       "GPX(tracks=[GPXTrack(name='Prince William County Trail Running', segments=[GPXTrackSegment(points=[...])])])"
      ]
     },
     "execution_count": 3,
     "metadata": {},
     "output_type": "execute_result"
    }
   ],
   "source": [
    "DDgpx"
   ]
  },
  {
   "cell_type": "code",
   "execution_count": 4,
   "metadata": {},
   "outputs": [
    {
     "data": {
      "text/plain": [
       "59640"
      ]
     },
     "execution_count": 4,
     "metadata": {},
     "output_type": "execute_result"
    }
   ],
   "source": [
    "DDgpx.get_track_points_no()"
   ]
  },
  {
   "cell_type": "code",
   "execution_count": 5,
   "metadata": {},
   "outputs": [],
   "source": [
    "with open('Routes/2-loop_mtvernon.gpx', 'r') as gpx_file:\n",
    "    loop2gpx = gpxpy.parse(gpx_file)"
   ]
  },
  {
   "cell_type": "code",
   "execution_count": 7,
   "metadata": {},
   "outputs": [
    {
     "data": {
      "text/plain": [
       "4304"
      ]
     },
     "execution_count": 7,
     "metadata": {},
     "output_type": "execute_result"
    }
   ],
   "source": [
    "loop2gpx.get_track_points_no()"
   ]
  },
  {
   "cell_type": "code",
   "execution_count": 8,
   "metadata": {},
   "outputs": [
    {
     "data": {
      "text/plain": [
       "MinimumMaximum(minimum=-27.200000762939453, maximum=28.399999618530273)"
      ]
     },
     "execution_count": 8,
     "metadata": {},
     "output_type": "execute_result"
    }
   ],
   "source": [
    "loop2gpx.get_elevation_extremes()"
   ]
  },
  {
   "cell_type": "code",
   "execution_count": 9,
   "metadata": {},
   "outputs": [
    {
     "data": {
      "text/plain": [
       "UphillDownhill(uphill=284.19998838156533, downhill=302.59998800009583)"
      ]
     },
     "execution_count": 9,
     "metadata": {},
     "output_type": "execute_result"
    }
   ],
   "source": [
    "loop2gpx.get_uphill_downhill()"
   ]
  },
  {
   "cell_type": "code",
   "execution_count": 14,
   "metadata": {},
   "outputs": [
    {
     "name": "stdout",
     "output_type": "stream",
     "text": [
      "# of tracks -  1\n",
      "# of segments -  1\n"
     ]
    }
   ],
   "source": [
    "print('# of tracks - ',len(loop2gpx.tracks))\n",
    "print('# of segments - ',len(loop2gpx.tracks[0].segments))"
   ]
  },
  {
   "cell_type": "code",
   "execution_count": 15,
   "metadata": {},
   "outputs": [
    {
     "data": {
      "text/plain": [
       "[GPXTrackPoint(38.79649353213608, -77.04552322626114, elevation=-3.0, time=datetime.datetime(2021, 11, 19, 14, 52, 53, tzinfo=SimpleTZ(\"Z\"))),\n",
       " GPXTrackPoint(38.79648883827031, -77.04551886767149, elevation=-3.0, time=datetime.datetime(2021, 11, 19, 14, 52, 54, tzinfo=SimpleTZ(\"Z\"))),\n",
       " GPXTrackPoint(38.796473080292344, -77.04550998285413, elevation=-3.0, time=datetime.datetime(2021, 11, 19, 14, 52, 55, tzinfo=SimpleTZ(\"Z\"))),\n",
       " GPXTrackPoint(38.79645690321922, -77.04550285823643, elevation=-3.0, time=datetime.datetime(2021, 11, 19, 14, 52, 56, tzinfo=SimpleTZ(\"Z\"))),\n",
       " GPXTrackPoint(38.796427231281996, -77.04549883492291, elevation=-2.799999952316284, time=datetime.datetime(2021, 11, 19, 14, 52, 57, tzinfo=SimpleTZ(\"Z\"))),\n",
       " GPXTrackPoint(38.79639437422156, -77.04550009220839, elevation=-2.4000000953674316, time=datetime.datetime(2021, 11, 19, 14, 52, 58, tzinfo=SimpleTZ(\"Z\"))),\n",
       " GPXTrackPoint(38.796363696455956, -77.04550453461707, elevation=-2.0, time=datetime.datetime(2021, 11, 19, 14, 52, 59, tzinfo=SimpleTZ(\"Z\"))),\n",
       " GPXTrackPoint(38.79633595235646, -77.04551107250154, elevation=-2.0, time=datetime.datetime(2021, 11, 19, 14, 53, tzinfo=SimpleTZ(\"Z\"))),\n",
       " GPXTrackPoint(38.79630737006664, -77.04551576636732, elevation=-2.0, time=datetime.datetime(2021, 11, 19, 14, 53, 1, tzinfo=SimpleTZ(\"Z\"))),\n",
       " GPXTrackPoint(38.79628079943359, -77.04552314244211, elevation=-2.0, time=datetime.datetime(2021, 11, 19, 14, 53, 2, tzinfo=SimpleTZ(\"Z\")))]"
      ]
     },
     "execution_count": 15,
     "metadata": {},
     "output_type": "execute_result"
    }
   ],
   "source": [
    "loop2gpx.tracks[0].segments[0].points[:10]"
   ]
  },
  {
   "cell_type": "code",
   "execution_count": 22,
   "metadata": {},
   "outputs": [
    {
     "data": {
      "text/plain": [
       "[{'time': datetime.datetime(2021, 11, 19, 14, 52, 53, tzinfo=SimpleTZ(\"Z\")),\n",
       "  'latitude': 38.79649353213608,\n",
       "  'longitude': -77.04552322626114,\n",
       "  'elevation': -3.0},\n",
       " {'time': datetime.datetime(2021, 11, 19, 14, 52, 54, tzinfo=SimpleTZ(\"Z\")),\n",
       "  'latitude': 38.79648883827031,\n",
       "  'longitude': -77.04551886767149,\n",
       "  'elevation': -3.0},\n",
       " {'time': datetime.datetime(2021, 11, 19, 14, 52, 55, tzinfo=SimpleTZ(\"Z\")),\n",
       "  'latitude': 38.796473080292344,\n",
       "  'longitude': -77.04550998285413,\n",
       "  'elevation': -3.0}]"
      ]
     },
     "execution_count": 22,
     "metadata": {},
     "output_type": "execute_result"
    }
   ],
   "source": [
    "route_info=[]\n",
    "\n",
    "for track in loop2gpx.tracks:\n",
    "    for segment in track.segments:\n",
    "        for point in segment.points:\n",
    "            route_info.append({\n",
    "                'time': point.time,\n",
    "                'latitude': point.latitude,\n",
    "                'longitude':point.longitude,\n",
    "                'elevation': point.elevation\n",
    "            })\n",
    "\n",
    "route_info[:3]"
   ]
  },
  {
   "cell_type": "code",
   "execution_count": 23,
   "metadata": {},
   "outputs": [
    {
     "data": {
      "text/html": [
       "<div>\n",
       "<style scoped>\n",
       "    .dataframe tbody tr th:only-of-type {\n",
       "        vertical-align: middle;\n",
       "    }\n",
       "\n",
       "    .dataframe tbody tr th {\n",
       "        vertical-align: top;\n",
       "    }\n",
       "\n",
       "    .dataframe thead th {\n",
       "        text-align: right;\n",
       "    }\n",
       "</style>\n",
       "<table border=\"1\" class=\"dataframe\">\n",
       "  <thead>\n",
       "    <tr style=\"text-align: right;\">\n",
       "      <th></th>\n",
       "      <th>time</th>\n",
       "      <th>latitude</th>\n",
       "      <th>longitude</th>\n",
       "      <th>elevation</th>\n",
       "    </tr>\n",
       "  </thead>\n",
       "  <tbody>\n",
       "    <tr>\n",
       "      <th>0</th>\n",
       "      <td>2021-11-19 14:52:53+00:00</td>\n",
       "      <td>38.796494</td>\n",
       "      <td>-77.045523</td>\n",
       "      <td>-3.0</td>\n",
       "    </tr>\n",
       "    <tr>\n",
       "      <th>1</th>\n",
       "      <td>2021-11-19 14:52:54+00:00</td>\n",
       "      <td>38.796489</td>\n",
       "      <td>-77.045519</td>\n",
       "      <td>-3.0</td>\n",
       "    </tr>\n",
       "    <tr>\n",
       "      <th>2</th>\n",
       "      <td>2021-11-19 14:52:55+00:00</td>\n",
       "      <td>38.796473</td>\n",
       "      <td>-77.045510</td>\n",
       "      <td>-3.0</td>\n",
       "    </tr>\n",
       "    <tr>\n",
       "      <th>3</th>\n",
       "      <td>2021-11-19 14:52:56+00:00</td>\n",
       "      <td>38.796457</td>\n",
       "      <td>-77.045503</td>\n",
       "      <td>-3.0</td>\n",
       "    </tr>\n",
       "    <tr>\n",
       "      <th>4</th>\n",
       "      <td>2021-11-19 14:52:57+00:00</td>\n",
       "      <td>38.796427</td>\n",
       "      <td>-77.045499</td>\n",
       "      <td>-2.8</td>\n",
       "    </tr>\n",
       "  </tbody>\n",
       "</table>\n",
       "</div>"
      ],
      "text/plain": [
       "                       time   latitude  longitude  elevation\n",
       "0 2021-11-19 14:52:53+00:00  38.796494 -77.045523       -3.0\n",
       "1 2021-11-19 14:52:54+00:00  38.796489 -77.045519       -3.0\n",
       "2 2021-11-19 14:52:55+00:00  38.796473 -77.045510       -3.0\n",
       "3 2021-11-19 14:52:56+00:00  38.796457 -77.045503       -3.0\n",
       "4 2021-11-19 14:52:57+00:00  38.796427 -77.045499       -2.8"
      ]
     },
     "execution_count": 23,
     "metadata": {},
     "output_type": "execute_result"
    }
   ],
   "source": [
    "route_2loop_df = pd.DataFrame(route_info)\n",
    "route_2loop_df.head()"
   ]
  },
  {
   "cell_type": "code",
   "execution_count": 26,
   "metadata": {},
   "outputs": [],
   "source": [
    "\n",
    "route_2loop_df.to_csv('data/route_2loop_df.csv', index=False)"
   ]
  },
  {
   "cell_type": "code",
   "execution_count": 27,
   "metadata": {},
   "outputs": [
    {
     "data": {
      "image/png": "[encoded data removed]",
      "text/plain": [
       "<Figure size 576x1008 with 1 Axes>"
      ]
     },
     "metadata": {
      "needs_background": "light"
     },
     "output_type": "display_data"
    }
   ],
   "source": [
    "plt.figure(figsize=(8, 14))\n",
    "plt.scatter(route_2loop_df['longitude'], route_2loop_df['latitude'], color='#101010')\n",
    "plt.title('Route latitude and longitude points', size=20);"
   ]
  },
  {
   "cell_type": "code",
   "execution_count": 30,
   "metadata": {},
   "outputs": [
    {
     "data": {
      "image/png": "[encoded data removed]",
      "text/plain": [
       "<Figure size 1296x432 with 1 Axes>"
      ]
     },
     "metadata": {
      "needs_background": "light"
     },
     "output_type": "display_data"
    }
   ],
   "source": [
    "plt.figure(figsize=(18,6))\n",
    "plt.scatter(route_2loop_df.index, route_2loop_df['elevation'], color='#101010')\n",
    "plt.title('Route elevation over time points', size=20);"
   ]
  },
  {
   "cell_type": "code",
   "execution_count": 31,
   "metadata": {},
   "outputs": [
    {
     "data": {
      "text/html": [
       "<div>\n",
       "<style scoped>\n",
       "    .dataframe tbody tr th:only-of-type {\n",
       "        vertical-align: middle;\n",
       "    }\n",
       "\n",
       "    .dataframe tbody tr th {\n",
       "        vertical-align: top;\n",
       "    }\n",
       "\n",
       "    .dataframe thead th {\n",
       "        text-align: right;\n",
       "    }\n",
       "</style>\n",
       "<table border=\"1\" class=\"dataframe\">\n",
       "  <thead>\n",
       "    <tr style=\"text-align: right;\">\n",
       "      <th></th>\n",
       "      <th>time</th>\n",
       "      <th>latitude</th>\n",
       "      <th>longitude</th>\n",
       "      <th>elevation</th>\n",
       "    </tr>\n",
       "  </thead>\n",
       "  <tbody>\n",
       "    <tr>\n",
       "      <th>0</th>\n",
       "      <td>2021-11-19 14:52:53+00:00</td>\n",
       "      <td>38.796494</td>\n",
       "      <td>-77.045523</td>\n",
       "      <td>-3.0</td>\n",
       "    </tr>\n",
       "    <tr>\n",
       "      <th>1</th>\n",
       "      <td>2021-11-19 14:52:54+00:00</td>\n",
       "      <td>38.796489</td>\n",
       "      <td>-77.045519</td>\n",
       "      <td>-3.0</td>\n",
       "    </tr>\n",
       "    <tr>\n",
       "      <th>2</th>\n",
       "      <td>2021-11-19 14:52:55+00:00</td>\n",
       "      <td>38.796473</td>\n",
       "      <td>-77.045510</td>\n",
       "      <td>-3.0</td>\n",
       "    </tr>\n",
       "    <tr>\n",
       "      <th>3</th>\n",
       "      <td>2021-11-19 14:52:56+00:00</td>\n",
       "      <td>38.796457</td>\n",
       "      <td>-77.045503</td>\n",
       "      <td>-3.0</td>\n",
       "    </tr>\n",
       "    <tr>\n",
       "      <th>4</th>\n",
       "      <td>2021-11-19 14:52:57+00:00</td>\n",
       "      <td>38.796427</td>\n",
       "      <td>-77.045499</td>\n",
       "      <td>-2.8</td>\n",
       "    </tr>\n",
       "  </tbody>\n",
       "</table>\n",
       "</div>"
      ],
      "text/plain": [
       "                       time   latitude  longitude  elevation\n",
       "0 2021-11-19 14:52:53+00:00  38.796494 -77.045523       -3.0\n",
       "1 2021-11-19 14:52:54+00:00  38.796489 -77.045519       -3.0\n",
       "2 2021-11-19 14:52:55+00:00  38.796473 -77.045510       -3.0\n",
       "3 2021-11-19 14:52:56+00:00  38.796457 -77.045503       -3.0\n",
       "4 2021-11-19 14:52:57+00:00  38.796427 -77.045499       -2.8"
      ]
     },
     "execution_count": 31,
     "metadata": {},
     "output_type": "execute_result"
    }
   ],
   "source": [
    "route_2loop_df.head()"
   ]
  },
  {
   "cell_type": "code",
   "execution_count": 37,
   "metadata": {},
   "outputs": [
    {
     "data": {
      "text/plain": [
       "(38.79649353213608, -77.04552322626114, -3.0)"
      ]
     },
     "execution_count": 37,
     "metadata": {},
     "output_type": "execute_result"
    }
   ],
   "source": [
    "pointxyz = []\n",
    "for i in range(0,len(route_2loop_df)):\n",
    "    pointxyz.append((route_2loop_df['latitude'][i], route_2loop_df['longitude'][i], route_2loop_df['elevation'][i]))\n",
    "\n",
    "pointxyz[0]\n",
    "# (route_2loop_df['latitude'][0], route_2loop_df['longitude'][0], route_2loop_df['elevation'][0])"
   ]
  },
  {
   "cell_type": "code",
   "execution_count": 38,
   "metadata": {},
   "outputs": [
    {
     "data": {
      "text/html": [
       "<div>\n",
       "<style scoped>\n",
       "    .dataframe tbody tr th:only-of-type {\n",
       "        vertical-align: middle;\n",
       "    }\n",
       "\n",
       "    .dataframe tbody tr th {\n",
       "        vertical-align: top;\n",
       "    }\n",
       "\n",
       "    .dataframe thead th {\n",
       "        text-align: right;\n",
       "    }\n",
       "</style>\n",
       "<table border=\"1\" class=\"dataframe\">\n",
       "  <thead>\n",
       "    <tr style=\"text-align: right;\">\n",
       "      <th></th>\n",
       "      <th>time</th>\n",
       "      <th>latitude</th>\n",
       "      <th>longitude</th>\n",
       "      <th>elevation</th>\n",
       "      <th>pointxyz</th>\n",
       "    </tr>\n",
       "  </thead>\n",
       "  <tbody>\n",
       "    <tr>\n",
       "      <th>0</th>\n",
       "      <td>2021-11-19 14:52:53+00:00</td>\n",
       "      <td>38.796494</td>\n",
       "      <td>-77.045523</td>\n",
       "      <td>-3.0</td>\n",
       "      <td>(38.79649353213608, -77.04552322626114, -3.0)</td>\n",
       "    </tr>\n",
       "    <tr>\n",
       "      <th>1</th>\n",
       "      <td>2021-11-19 14:52:54+00:00</td>\n",
       "      <td>38.796489</td>\n",
       "      <td>-77.045519</td>\n",
       "      <td>-3.0</td>\n",
       "      <td>(38.79648883827031, -77.04551886767149, -3.0)</td>\n",
       "    </tr>\n",
       "    <tr>\n",
       "      <th>2</th>\n",
       "      <td>2021-11-19 14:52:55+00:00</td>\n",
       "      <td>38.796473</td>\n",
       "      <td>-77.045510</td>\n",
       "      <td>-3.0</td>\n",
       "      <td>(38.796473080292344, -77.04550998285413, -3.0)</td>\n",
       "    </tr>\n",
       "    <tr>\n",
       "      <th>3</th>\n",
       "      <td>2021-11-19 14:52:56+00:00</td>\n",
       "      <td>38.796457</td>\n",
       "      <td>-77.045503</td>\n",
       "      <td>-3.0</td>\n",
       "      <td>(38.79645690321922, -77.04550285823643, -3.0)</td>\n",
       "    </tr>\n",
       "    <tr>\n",
       "      <th>4</th>\n",
       "      <td>2021-11-19 14:52:57+00:00</td>\n",
       "      <td>38.796427</td>\n",
       "      <td>-77.045499</td>\n",
       "      <td>-2.8</td>\n",
       "      <td>(38.796427231281996, -77.04549883492291, -2.79...</td>\n",
       "    </tr>\n",
       "  </tbody>\n",
       "</table>\n",
       "</div>"
      ],
      "text/plain": [
       "                       time   latitude  longitude  elevation  \\\n",
       "0 2021-11-19 14:52:53+00:00  38.796494 -77.045523       -3.0   \n",
       "1 2021-11-19 14:52:54+00:00  38.796489 -77.045519       -3.0   \n",
       "2 2021-11-19 14:52:55+00:00  38.796473 -77.045510       -3.0   \n",
       "3 2021-11-19 14:52:56+00:00  38.796457 -77.045503       -3.0   \n",
       "4 2021-11-19 14:52:57+00:00  38.796427 -77.045499       -2.8   \n",
       "\n",
       "                                            pointxyz  \n",
       "0      (38.79649353213608, -77.04552322626114, -3.0)  \n",
       "1      (38.79648883827031, -77.04551886767149, -3.0)  \n",
       "2     (38.796473080292344, -77.04550998285413, -3.0)  \n",
       "3      (38.79645690321922, -77.04550285823643, -3.0)  \n",
       "4  (38.796427231281996, -77.04549883492291, -2.79...  "
      ]
     },
     "execution_count": 38,
     "metadata": {},
     "output_type": "execute_result"
    }
   ],
   "source": [
    "route_2loop_df['pointxyz']= pd.Series(pointxyz)\n",
    "route_2loop_df.head()"
   ]
  },
  {
   "cell_type": "code",
   "execution_count": 45,
   "metadata": {},
   "outputs": [],
   "source": [
    "from geopy.distance import lonlat, distance\n",
    "from geopy import distance\n",
    "import math"
   ]
  },
  {
   "cell_type": "code",
   "execution_count": 53,
   "metadata": {},
   "outputs": [
    {
     "name": "stdout",
     "output_type": "stream",
     "text": [
      "(38.79645690321922, -77.04550285823643)\n",
      "(38.796427231281996, -77.04549883492291)\n"
     ]
    }
   ],
   "source": [
    "print(route_2loop_df['pointxyz'][3][:2])\n",
    "print(route_2loop_df['pointxyz'][4][:2])"
   ]
  },
  {
   "cell_type": "code",
   "execution_count": 73,
   "metadata": {},
   "outputs": [
    {
     "name": "stdout",
     "output_type": "stream",
     "text": [
      "flat_distance  0.0020582431920387408\n",
      "triangle 0.0020617383549908267\n"
     ]
    }
   ],
   "source": [
    "b_latlon = route_2loop_df['pointxyz'][4][:2]\n",
    "a_latlon = route_2loop_df['pointxyz'][3][:2]\n",
    "\n",
    "# OG elevation in meters (1000m = .6 miles)  so change meters into km and then convert to miles\n",
    "b_elv = route_2loop_df['pointxyz'][4][2]/1000*.6\n",
    "a_elv = route_2loop_df['pointxyz'][3][2]/1000*.6\n",
    "eldiff = b_elv-a_elv\n",
    "\n",
    "flat_distance =distance.distance(a_latlon,b_latlon).miles\n",
    "print('flat_distance ',flat_distance)\n",
    "\n",
    "print('triangle', math.sqrt(flat_distance**2 + eldiff**2))\n"
   ]
  },
  {
   "cell_type": "code",
   "execution_count": 76,
   "metadata": {},
   "outputs": [
    {
     "data": {
      "text/plain": [
       "4304"
      ]
     },
     "execution_count": 76,
     "metadata": {},
     "output_type": "execute_result"
    }
   ],
   "source": [
    "len(route_2loop_df)"
   ]
  },
  {
   "cell_type": "code",
   "execution_count": 82,
   "metadata": {},
   "outputs": [
    {
     "data": {
      "text/html": [
       "<div>\n",
       "<style scoped>\n",
       "    .dataframe tbody tr th:only-of-type {\n",
       "        vertical-align: middle;\n",
       "    }\n",
       "\n",
       "    .dataframe tbody tr th {\n",
       "        vertical-align: top;\n",
       "    }\n",
       "\n",
       "    .dataframe thead th {\n",
       "        text-align: right;\n",
       "    }\n",
       "</style>\n",
       "<table border=\"1\" class=\"dataframe\">\n",
       "  <thead>\n",
       "    <tr style=\"text-align: right;\">\n",
       "      <th></th>\n",
       "      <th>time</th>\n",
       "      <th>latitude</th>\n",
       "      <th>longitude</th>\n",
       "      <th>elevation</th>\n",
       "      <th>pointxyz</th>\n",
       "      <th>step_dist</th>\n",
       "    </tr>\n",
       "  </thead>\n",
       "  <tbody>\n",
       "    <tr>\n",
       "      <th>0</th>\n",
       "      <td>2021-11-19 14:52:53+00:00</td>\n",
       "      <td>38.796494</td>\n",
       "      <td>-77.045523</td>\n",
       "      <td>-3.0</td>\n",
       "      <td>(38.79649353213608, -77.04552322626114, -3.0)</td>\n",
       "      <td>0.000000</td>\n",
       "    </tr>\n",
       "    <tr>\n",
       "      <th>1</th>\n",
       "      <td>2021-11-19 14:52:54+00:00</td>\n",
       "      <td>38.796489</td>\n",
       "      <td>-77.045519</td>\n",
       "      <td>-3.0</td>\n",
       "      <td>(38.79648883827031, -77.04551886767149, -3.0)</td>\n",
       "      <td>0.000400</td>\n",
       "    </tr>\n",
       "    <tr>\n",
       "      <th>2</th>\n",
       "      <td>2021-11-19 14:52:55+00:00</td>\n",
       "      <td>38.796473</td>\n",
       "      <td>-77.045510</td>\n",
       "      <td>-3.0</td>\n",
       "      <td>(38.796473080292344, -77.04550998285413, -3.0)</td>\n",
       "      <td>0.001188</td>\n",
       "    </tr>\n",
       "    <tr>\n",
       "      <th>3</th>\n",
       "      <td>2021-11-19 14:52:56+00:00</td>\n",
       "      <td>38.796457</td>\n",
       "      <td>-77.045503</td>\n",
       "      <td>-3.0</td>\n",
       "      <td>(38.79645690321922, -77.04550285823643, -3.0)</td>\n",
       "      <td>0.001180</td>\n",
       "    </tr>\n",
       "    <tr>\n",
       "      <th>4</th>\n",
       "      <td>2021-11-19 14:52:57+00:00</td>\n",
       "      <td>38.796427</td>\n",
       "      <td>-77.045499</td>\n",
       "      <td>-2.8</td>\n",
       "      <td>(38.796427231281996, -77.04549883492291, -2.79...</td>\n",
       "      <td>0.002062</td>\n",
       "    </tr>\n",
       "  </tbody>\n",
       "</table>\n",
       "</div>"
      ],
      "text/plain": [
       "                       time   latitude  longitude  elevation  \\\n",
       "0 2021-11-19 14:52:53+00:00  38.796494 -77.045523       -3.0   \n",
       "1 2021-11-19 14:52:54+00:00  38.796489 -77.045519       -3.0   \n",
       "2 2021-11-19 14:52:55+00:00  38.796473 -77.045510       -3.0   \n",
       "3 2021-11-19 14:52:56+00:00  38.796457 -77.045503       -3.0   \n",
       "4 2021-11-19 14:52:57+00:00  38.796427 -77.045499       -2.8   \n",
       "\n",
       "                                            pointxyz  step_dist  \n",
       "0      (38.79649353213608, -77.04552322626114, -3.0)   0.000000  \n",
       "1      (38.79648883827031, -77.04551886767149, -3.0)   0.000400  \n",
       "2     (38.796473080292344, -77.04550998285413, -3.0)   0.001188  \n",
       "3      (38.79645690321922, -77.04550285823643, -3.0)   0.001180  \n",
       "4  (38.796427231281996, -77.04549883492291, -2.79...   0.002062  "
      ]
     },
     "execution_count": 82,
     "metadata": {},
     "output_type": "execute_result"
    }
   ],
   "source": [
    "# Get Step distance, i.e. distance between points.\n",
    "dist = [0]\n",
    "\n",
    "for i in range(len(route_2loop_df)-1):\n",
    "    \n",
    "    b_latlon = route_2loop_df['pointxyz'][i+1][:2]\n",
    "    a_latlon = route_2loop_df['pointxyz'][i][:2]\n",
    "\n",
    "    # OG elevation in meters (1000m = .6 miles)  so change meters into km and then convert to miles\n",
    "    b_elv = route_2loop_df['pointxyz'][i+1][2]/1000*.6\n",
    "    a_elv = route_2loop_df['pointxyz'][i][2]/1000*.6\n",
    "    eldiff = b_elv-a_elv\n",
    "\n",
    "    flat_distance =distance.distance(a_latlon,b_latlon).miles\n",
    "\n",
    "    euc_distance = math.sqrt(flat_distance**2 + eldiff**2)\n",
    "    dist.append(euc_distance)\n",
    "\n",
    "route_2loop_df['step_dist'] = pd.Series(dist)\n",
    "route_2loop_df.head()\n"
   ]
  },
  {
   "cell_type": "code",
   "execution_count": 91,
   "metadata": {},
   "outputs": [],
   "source": [
    "# 1 sec is 1/60th of minute and a minute is 1/60th of an hour so \n",
    "# \n",
    "#\n",
    "speed = []\n",
    "for i in range(len(route_2loop_df)):\n",
    "    mph = route_2loop_df['step_dist'][i]/(1/60/60)\n",
    "    speed.append(mph)\n",
    "\n",
    "route_2loop_df['mph'] = pd.Series(speed)"
   ]
  },
  {
   "cell_type": "code",
   "execution_count": 93,
   "metadata": {},
   "outputs": [
    {
     "data": {
      "text/html": [
       "<div>\n",
       "<style scoped>\n",
       "    .dataframe tbody tr th:only-of-type {\n",
       "        vertical-align: middle;\n",
       "    }\n",
       "\n",
       "    .dataframe tbody tr th {\n",
       "        vertical-align: top;\n",
       "    }\n",
       "\n",
       "    .dataframe thead th {\n",
       "        text-align: right;\n",
       "    }\n",
       "</style>\n",
       "<table border=\"1\" class=\"dataframe\">\n",
       "  <thead>\n",
       "    <tr style=\"text-align: right;\">\n",
       "      <th></th>\n",
       "      <th>time</th>\n",
       "      <th>latitude</th>\n",
       "      <th>longitude</th>\n",
       "      <th>elevation</th>\n",
       "      <th>pointxyz</th>\n",
       "      <th>step_dist</th>\n",
       "      <th>mph</th>\n",
       "    </tr>\n",
       "  </thead>\n",
       "  <tbody>\n",
       "    <tr>\n",
       "      <th>10</th>\n",
       "      <td>2021-11-19 14:53:03+00:00</td>\n",
       "      <td>38.796248</td>\n",
       "      <td>-77.045531</td>\n",
       "      <td>-2.2</td>\n",
       "      <td>(38.79624827764928, -77.04553068615496, -2.200...</td>\n",
       "      <td>0.002283</td>\n",
       "      <td>8.219338</td>\n",
       "    </tr>\n",
       "    <tr>\n",
       "      <th>11</th>\n",
       "      <td>2021-11-19 14:53:04+00:00</td>\n",
       "      <td>38.796213</td>\n",
       "      <td>-77.045538</td>\n",
       "      <td>-2.4</td>\n",
       "      <td>(38.79621349275112, -77.04553806222975, -2.400...</td>\n",
       "      <td>0.002435</td>\n",
       "      <td>8.766764</td>\n",
       "    </tr>\n",
       "    <tr>\n",
       "      <th>12</th>\n",
       "      <td>2021-11-19 14:53:05+00:00</td>\n",
       "      <td>38.796177</td>\n",
       "      <td>-77.045542</td>\n",
       "      <td>-2.4</td>\n",
       "      <td>(38.79617736674845, -77.0455424208194, -2.4000...</td>\n",
       "      <td>0.002503</td>\n",
       "      <td>9.010918</td>\n",
       "    </tr>\n",
       "    <tr>\n",
       "      <th>13</th>\n",
       "      <td>2021-11-19 14:53:06+00:00</td>\n",
       "      <td>38.796144</td>\n",
       "      <td>-77.045550</td>\n",
       "      <td>-2.6</td>\n",
       "      <td>(38.79614409059286, -77.04554996453226, -2.599...</td>\n",
       "      <td>0.002334</td>\n",
       "      <td>8.403474</td>\n",
       "    </tr>\n",
       "    <tr>\n",
       "      <th>14</th>\n",
       "      <td>2021-11-19 14:53:07+00:00</td>\n",
       "      <td>38.796116</td>\n",
       "      <td>-77.045559</td>\n",
       "      <td>-2.6</td>\n",
       "      <td>(38.79611584357917, -77.04555943608284, -2.599...</td>\n",
       "      <td>0.002014</td>\n",
       "      <td>7.251940</td>\n",
       "    </tr>\n",
       "    <tr>\n",
       "      <th>15</th>\n",
       "      <td>2021-11-19 14:53:08+00:00</td>\n",
       "      <td>38.796089</td>\n",
       "      <td>-77.045567</td>\n",
       "      <td>-2.6</td>\n",
       "      <td>(38.79608918912709, -77.04556706361473, -2.599...</td>\n",
       "      <td>0.001884</td>\n",
       "      <td>6.782933</td>\n",
       "    </tr>\n",
       "    <tr>\n",
       "      <th>16</th>\n",
       "      <td>2021-11-19 14:53:09+00:00</td>\n",
       "      <td>38.796058</td>\n",
       "      <td>-77.045568</td>\n",
       "      <td>-2.6</td>\n",
       "      <td>(38.79605800844729, -77.04556773416698, -2.599...</td>\n",
       "      <td>0.002151</td>\n",
       "      <td>7.744066</td>\n",
       "    </tr>\n",
       "    <tr>\n",
       "      <th>17</th>\n",
       "      <td>2021-11-19 14:53:10+00:00</td>\n",
       "      <td>38.796022</td>\n",
       "      <td>-77.045577</td>\n",
       "      <td>-2.6</td>\n",
       "      <td>(38.79602230153978, -77.04557695426047, -2.599...</td>\n",
       "      <td>0.002513</td>\n",
       "      <td>9.046171</td>\n",
       "    </tr>\n",
       "    <tr>\n",
       "      <th>18</th>\n",
       "      <td>2021-11-19 14:53:11+00:00</td>\n",
       "      <td>38.795982</td>\n",
       "      <td>-77.045586</td>\n",
       "      <td>-2.8</td>\n",
       "      <td>(38.79598215222359, -77.04558625817299, -2.799...</td>\n",
       "      <td>0.002817</td>\n",
       "      <td>10.141935</td>\n",
       "    </tr>\n",
       "    <tr>\n",
       "      <th>19</th>\n",
       "      <td>2021-11-19 14:53:12+00:00</td>\n",
       "      <td>38.795949</td>\n",
       "      <td>-77.045597</td>\n",
       "      <td>-2.8</td>\n",
       "      <td>(38.79594921134412, -77.04559681937099, -2.799...</td>\n",
       "      <td>0.002343</td>\n",
       "      <td>8.433616</td>\n",
       "    </tr>\n",
       "  </tbody>\n",
       "</table>\n",
       "</div>"
      ],
      "text/plain": [
       "                        time   latitude  longitude  elevation  \\\n",
       "10 2021-11-19 14:53:03+00:00  38.796248 -77.045531       -2.2   \n",
       "11 2021-11-19 14:53:04+00:00  38.796213 -77.045538       -2.4   \n",
       "12 2021-11-19 14:53:05+00:00  38.796177 -77.045542       -2.4   \n",
       "13 2021-11-19 14:53:06+00:00  38.796144 -77.045550       -2.6   \n",
       "14 2021-11-19 14:53:07+00:00  38.796116 -77.045559       -2.6   \n",
       "15 2021-11-19 14:53:08+00:00  38.796089 -77.045567       -2.6   \n",
       "16 2021-11-19 14:53:09+00:00  38.796058 -77.045568       -2.6   \n",
       "17 2021-11-19 14:53:10+00:00  38.796022 -77.045577       -2.6   \n",
       "18 2021-11-19 14:53:11+00:00  38.795982 -77.045586       -2.8   \n",
       "19 2021-11-19 14:53:12+00:00  38.795949 -77.045597       -2.8   \n",
       "\n",
       "                                             pointxyz  step_dist        mph  \n",
       "10  (38.79624827764928, -77.04553068615496, -2.200...   0.002283   8.219338  \n",
       "11  (38.79621349275112, -77.04553806222975, -2.400...   0.002435   8.766764  \n",
       "12  (38.79617736674845, -77.0455424208194, -2.4000...   0.002503   9.010918  \n",
       "13  (38.79614409059286, -77.04554996453226, -2.599...   0.002334   8.403474  \n",
       "14  (38.79611584357917, -77.04555943608284, -2.599...   0.002014   7.251940  \n",
       "15  (38.79608918912709, -77.04556706361473, -2.599...   0.001884   6.782933  \n",
       "16  (38.79605800844729, -77.04556773416698, -2.599...   0.002151   7.744066  \n",
       "17  (38.79602230153978, -77.04557695426047, -2.599...   0.002513   9.046171  \n",
       "18  (38.79598215222359, -77.04558625817299, -2.799...   0.002817  10.141935  \n",
       "19  (38.79594921134412, -77.04559681937099, -2.799...   0.002343   8.433616  "
      ]
     },
     "execution_count": 93,
     "metadata": {},
     "output_type": "execute_result"
    }
   ],
   "source": [
    "route_2loop_df[10:20]"
   ]
  },
  {
   "cell_type": "code",
   "execution_count": null,
   "metadata": {},
   "outputs": [],
   "source": []
  }
 ],
 "metadata": {
  "interpreter": {
   "hash": "aa1e2d50254fee92e21ded0f4366ee792dda71ab2204fc3422a666dc6db7b43d"
  },
  "kernelspec": {
   "display_name": "Python 3.6.13 64-bit ('geopandas_env': conda)",
   "language": "python",
   "name": "python3"
  },
  "language_info": {
   "codemirror_mode": {
    "name": "ipython",
    "version": 3
   },
   "file_extension": ".py",
   "mimetype": "text/x-python",
   "name": "python",
   "nbconvert_exporter": "python",
   "pygments_lexer": "ipython3",
   "version": "3.10.0"
  },
  "orig_nbformat": 4
 },
 "nbformat": 4,
 "nbformat_minor": 2
}
