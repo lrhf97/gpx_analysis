{
 "cells": [
  {
   "cell_type": "code",
   "execution_count": 1,
   "metadata": {},
   "outputs": [],
   "source": [
    "import gpxpy\n",
    "import gpxpy.gpx\n",
    "\n",
    "import pandas as pd\n",
    "import matplotlib.pyplot as plt\n",
    "plt.rcParams['axes.spines.top'] = False\n",
    "plt.rcParams['axes.spines.right'] = False"
   ]
  },
  {
   "cell_type": "code",
   "execution_count": 2,
   "metadata": {},
   "outputs": [],
   "source": [
    "\n",
    "with open('Routes/DD100K_2021.gpx', 'r') as gpx_file:\n",
    "    DDgpx = gpxpy.parse(gpx_file)"
   ]
  },
  {
   "cell_type": "code",
   "execution_count": 3,
   "metadata": {},
   "outputs": [
    {
     "data": {
      "text/plain": [
       "GPX(tracks=[GPXTrack(name='Prince William County Trail Running', segments=[GPXTrackSegment(points=[...])])])"
      ]
     },
     "execution_count": 3,
     "metadata": {},
     "output_type": "execute_result"
    }
   ],
   "source": [
    "DDgpx"
   ]
  },
  {
   "cell_type": "code",
   "execution_count": 4,
   "metadata": {},
   "outputs": [
    {
     "data": {
      "text/plain": [
       "59640"
      ]
     },
     "execution_count": 4,
     "metadata": {},
     "output_type": "execute_result"
    }
   ],
   "source": [
    "DDgpx.get_track_points_no()"
   ]
  },
  {
   "cell_type": "code",
   "execution_count": 5,
   "metadata": {},
   "outputs": [],
   "source": [
    "with open('Routes/2-loop_mtvernon.gpx', 'r') as gpx_file:\n",
    "    loop2gpx = gpxpy.parse(gpx_file)"
   ]
  },
  {
   "cell_type": "code",
   "execution_count": 7,
   "metadata": {},
   "outputs": [
    {
     "data": {
      "text/plain": [
       "4304"
      ]
     },
     "execution_count": 7,
     "metadata": {},
     "output_type": "execute_result"
    }
   ],
   "source": [
    "loop2gpx.get_track_points_no()"
   ]
  },
  {
   "cell_type": "code",
   "execution_count": 8,
   "metadata": {},
   "outputs": [
    {
     "data": {
      "text/plain": [
       "MinimumMaximum(minimum=-27.200000762939453, maximum=28.399999618530273)"
      ]
     },
     "execution_count": 8,
     "metadata": {},
     "output_type": "execute_result"
    }
   ],
   "source": [
    "loop2gpx.get_elevation_extremes()"
   ]
  },
  {
   "cell_type": "code",
   "execution_count": 9,
   "metadata": {},
   "outputs": [
    {
     "data": {
      "text/plain": [
       "UphillDownhill(uphill=284.19998838156533, downhill=302.59998800009583)"
      ]
     },
     "execution_count": 9,
     "metadata": {},
     "output_type": "execute_result"
    }
   ],
   "source": [
    "loop2gpx.get_uphill_downhill()"
   ]
  },
  {
   "cell_type": "code",
   "execution_count": 14,
   "metadata": {},
   "outputs": [
    {
     "name": "stdout",
     "output_type": "stream",
     "text": [
      "# of tracks -  1\n",
      "# of segments -  1\n"
     ]
    }
   ],
   "source": [
    "print('# of tracks - ',len(loop2gpx.tracks))\n",
    "print('# of segments - ',len(loop2gpx.tracks[0].segments))"
   ]
  },
  {
   "cell_type": "code",
   "execution_count": 15,
   "metadata": {},
   "outputs": [
    {
     "data": {
      "text/plain": [
       "[GPXTrackPoint(38.79649353213608, -77.04552322626114, elevation=-3.0, time=datetime.datetime(2021, 11, 19, 14, 52, 53, tzinfo=SimpleTZ(\"Z\"))),\n",
       " GPXTrackPoint(38.79648883827031, -77.04551886767149, elevation=-3.0, time=datetime.datetime(2021, 11, 19, 14, 52, 54, tzinfo=SimpleTZ(\"Z\"))),\n",
       " GPXTrackPoint(38.796473080292344, -77.04550998285413, elevation=-3.0, time=datetime.datetime(2021, 11, 19, 14, 52, 55, tzinfo=SimpleTZ(\"Z\"))),\n",
       " GPXTrackPoint(38.79645690321922, -77.04550285823643, elevation=-3.0, time=datetime.datetime(2021, 11, 19, 14, 52, 56, tzinfo=SimpleTZ(\"Z\"))),\n",
       " GPXTrackPoint(38.796427231281996, -77.04549883492291, elevation=-2.799999952316284, time=datetime.datetime(2021, 11, 19, 14, 52, 57, tzinfo=SimpleTZ(\"Z\"))),\n",
       " GPXTrackPoint(38.79639437422156, -77.04550009220839, elevation=-2.4000000953674316, time=datetime.datetime(2021, 11, 19, 14, 52, 58, tzinfo=SimpleTZ(\"Z\"))),\n",
       " GPXTrackPoint(38.796363696455956, -77.04550453461707, elevation=-2.0, time=datetime.datetime(2021, 11, 19, 14, 52, 59, tzinfo=SimpleTZ(\"Z\"))),\n",
       " GPXTrackPoint(38.79633595235646, -77.04551107250154, elevation=-2.0, time=datetime.datetime(2021, 11, 19, 14, 53, tzinfo=SimpleTZ(\"Z\"))),\n",
       " GPXTrackPoint(38.79630737006664, -77.04551576636732, elevation=-2.0, time=datetime.datetime(2021, 11, 19, 14, 53, 1, tzinfo=SimpleTZ(\"Z\"))),\n",
       " GPXTrackPoint(38.79628079943359, -77.04552314244211, elevation=-2.0, time=datetime.datetime(2021, 11, 19, 14, 53, 2, tzinfo=SimpleTZ(\"Z\")))]"
      ]
     },
     "execution_count": 15,
     "metadata": {},
     "output_type": "execute_result"
    }
   ],
   "source": [
    "loop2gpx.tracks[0].segments[0].points[:10]"
   ]
  },
  {
   "cell_type": "code",
   "execution_count": null,
   "metadata": {},
   "outputs": [],
   "source": []
  }
 ],
 "metadata": {
  "interpreter": {
   "hash": "aa1e2d50254fee92e21ded0f4366ee792dda71ab2204fc3422a666dc6db7b43d"
  },
  "kernelspec": {
   "display_name": "Python 3.6.13 64-bit ('geopandas_env': conda)",
   "language": "python",
   "name": "python3"
  },
  "language_info": {
   "codemirror_mode": {
    "name": "ipython",
    "version": 3
   },
   "file_extension": ".py",
   "mimetype": "text/x-python",
   "name": "python",
   "nbconvert_exporter": "python",
   "pygments_lexer": "ipython3",
   "version": "3.10.0"
  },
  "orig_nbformat": 4
 },
 "nbformat": 4,
 "nbformat_minor": 2
}
