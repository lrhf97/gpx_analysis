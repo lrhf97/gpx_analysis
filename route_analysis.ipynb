{
 "cells": [
  {
   "cell_type": "code",
   "execution_count": 142,
   "metadata": {},
   "outputs": [],
   "source": [
    "import gpxpy\n",
    "import gpxpy.gpx\n",
    "\n",
    "import pandas as pd\n",
    "import matplotlib.pyplot as plt\n",
    "plt.rcParams['axes.spines.top'] = False\n",
    "plt.rcParams['axes.spines.right'] = False"
   ]
  },
  {
   "cell_type": "code",
   "execution_count": 143,
   "metadata": {},
   "outputs": [],
   "source": [
    "\n",
    "with open('Routes/DD100K_2021.gpx', 'r') as gpx_file:\n",
    "    DDgpx = gpxpy.parse(gpx_file)"
   ]
  },
  {
   "cell_type": "code",
   "execution_count": 144,
   "metadata": {},
   "outputs": [
    {
     "data": {
      "text/plain": [
       "GPX(tracks=[GPXTrack(name='Prince William County Trail Running', segments=[GPXTrackSegment(points=[...])])])"
      ]
     },
     "execution_count": 144,
     "metadata": {},
     "output_type": "execute_result"
    }
   ],
   "source": [
    "DDgpx"
   ]
  },
  {
   "cell_type": "code",
   "execution_count": 145,
   "metadata": {},
   "outputs": [
    {
     "data": {
      "text/plain": [
       "59640"
      ]
     },
     "execution_count": 145,
     "metadata": {},
     "output_type": "execute_result"
    }
   ],
   "source": [
    "DDgpx.get_track_points_no()"
   ]
  },
  {
   "cell_type": "code",
   "execution_count": 146,
   "metadata": {},
   "outputs": [],
   "source": [
    "with open('Routes/2-loop_mtvernon.gpx', 'r') as gpx_file:\n",
    "    loop2gpx = gpxpy.parse(gpx_file)"
   ]
  },
  {
   "cell_type": "code",
   "execution_count": 147,
   "metadata": {},
   "outputs": [
    {
     "data": {
      "text/plain": [
       "4304"
      ]
     },
     "execution_count": 147,
     "metadata": {},
     "output_type": "execute_result"
    }
   ],
   "source": [
    "loop2gpx.get_track_points_no()"
   ]
  },
  {
   "cell_type": "code",
   "execution_count": 148,
   "metadata": {},
   "outputs": [
    {
     "data": {
      "text/plain": [
       "MinimumMaximum(minimum=-27.200000762939453, maximum=28.399999618530273)"
      ]
     },
     "execution_count": 148,
     "metadata": {},
     "output_type": "execute_result"
    }
   ],
   "source": [
    "loop2gpx.get_elevation_extremes()"
   ]
  },
  {
   "cell_type": "code",
   "execution_count": 149,
   "metadata": {},
   "outputs": [
    {
     "data": {
      "text/plain": [
       "UphillDownhill(uphill=284.19998838156533, downhill=302.59998800009583)"
      ]
     },
     "execution_count": 149,
     "metadata": {},
     "output_type": "execute_result"
    }
   ],
   "source": [
    "loop2gpx.get_uphill_downhill()"
   ]
  },
  {
   "cell_type": "code",
   "execution_count": 150,
   "metadata": {},
   "outputs": [
    {
     "name": "stdout",
     "output_type": "stream",
     "text": [
      "# of tracks -  1\n",
      "# of segments -  1\n"
     ]
    }
   ],
   "source": [
    "print('# of tracks - ',len(loop2gpx.tracks))\n",
    "print('# of segments - ',len(loop2gpx.tracks[0].segments))"
   ]
  },
  {
   "cell_type": "code",
   "execution_count": 151,
   "metadata": {},
   "outputs": [
    {
     "data": {
      "text/plain": [
       "[GPXTrackPoint(38.79649353213608, -77.04552322626114, elevation=-3.0, time=datetime.datetime(2021, 11, 19, 14, 52, 53, tzinfo=SimpleTZ(\"Z\"))),\n",
       " GPXTrackPoint(38.79648883827031, -77.04551886767149, elevation=-3.0, time=datetime.datetime(2021, 11, 19, 14, 52, 54, tzinfo=SimpleTZ(\"Z\"))),\n",
       " GPXTrackPoint(38.796473080292344, -77.04550998285413, elevation=-3.0, time=datetime.datetime(2021, 11, 19, 14, 52, 55, tzinfo=SimpleTZ(\"Z\"))),\n",
       " GPXTrackPoint(38.79645690321922, -77.04550285823643, elevation=-3.0, time=datetime.datetime(2021, 11, 19, 14, 52, 56, tzinfo=SimpleTZ(\"Z\"))),\n",
       " GPXTrackPoint(38.796427231281996, -77.04549883492291, elevation=-2.799999952316284, time=datetime.datetime(2021, 11, 19, 14, 52, 57, tzinfo=SimpleTZ(\"Z\"))),\n",
       " GPXTrackPoint(38.79639437422156, -77.04550009220839, elevation=-2.4000000953674316, time=datetime.datetime(2021, 11, 19, 14, 52, 58, tzinfo=SimpleTZ(\"Z\"))),\n",
       " GPXTrackPoint(38.796363696455956, -77.04550453461707, elevation=-2.0, time=datetime.datetime(2021, 11, 19, 14, 52, 59, tzinfo=SimpleTZ(\"Z\"))),\n",
       " GPXTrackPoint(38.79633595235646, -77.04551107250154, elevation=-2.0, time=datetime.datetime(2021, 11, 19, 14, 53, tzinfo=SimpleTZ(\"Z\"))),\n",
       " GPXTrackPoint(38.79630737006664, -77.04551576636732, elevation=-2.0, time=datetime.datetime(2021, 11, 19, 14, 53, 1, tzinfo=SimpleTZ(\"Z\"))),\n",
       " GPXTrackPoint(38.79628079943359, -77.04552314244211, elevation=-2.0, time=datetime.datetime(2021, 11, 19, 14, 53, 2, tzinfo=SimpleTZ(\"Z\")))]"
      ]
     },
     "execution_count": 151,
     "metadata": {},
     "output_type": "execute_result"
    }
   ],
   "source": [
    "loop2gpx.tracks[0].segments[0].points[:10]"
   ]
  },
  {
   "cell_type": "code",
   "execution_count": 152,
   "metadata": {},
   "outputs": [
    {
     "data": {
      "text/plain": [
       "[{'time': datetime.datetime(2021, 11, 19, 14, 52, 53, tzinfo=SimpleTZ(\"Z\")),\n",
       "  'latitude': 38.79649353213608,\n",
       "  'longitude': -77.04552322626114,\n",
       "  'elevation': -3.0},\n",
       " {'time': datetime.datetime(2021, 11, 19, 14, 52, 54, tzinfo=SimpleTZ(\"Z\")),\n",
       "  'latitude': 38.79648883827031,\n",
       "  'longitude': -77.04551886767149,\n",
       "  'elevation': -3.0},\n",
       " {'time': datetime.datetime(2021, 11, 19, 14, 52, 55, tzinfo=SimpleTZ(\"Z\")),\n",
       "  'latitude': 38.796473080292344,\n",
       "  'longitude': -77.04550998285413,\n",
       "  'elevation': -3.0}]"
      ]
     },
     "execution_count": 152,
     "metadata": {},
     "output_type": "execute_result"
    }
   ],
   "source": [
    "route_info=[]\n",
    "\n",
    "for track in loop2gpx.tracks:\n",
    "    for segment in track.segments:\n",
    "        for point in segment.points:\n",
    "            route_info.append({\n",
    "                'time': point.time,\n",
    "                'latitude': point.latitude,\n",
    "                'longitude':point.longitude,\n",
    "                'elevation': point.elevation\n",
    "            })\n",
    "\n",
    "route_info[:3]"
   ]
  },
  {
   "cell_type": "code",
   "execution_count": 153,
   "metadata": {},
   "outputs": [
    {
     "data": {
      "text/html": [
       "<div>\n",
       "<style scoped>\n",
       "    .dataframe tbody tr th:only-of-type {\n",
       "        vertical-align: middle;\n",
       "    }\n",
       "\n",
       "    .dataframe tbody tr th {\n",
       "        vertical-align: top;\n",
       "    }\n",
       "\n",
       "    .dataframe thead th {\n",
       "        text-align: right;\n",
       "    }\n",
       "</style>\n",
       "<table border=\"1\" class=\"dataframe\">\n",
       "  <thead>\n",
       "    <tr style=\"text-align: right;\">\n",
       "      <th></th>\n",
       "      <th>time</th>\n",
       "      <th>latitude</th>\n",
       "      <th>longitude</th>\n",
       "      <th>elevation</th>\n",
       "    </tr>\n",
       "  </thead>\n",
       "  <tbody>\n",
       "    <tr>\n",
       "      <th>0</th>\n",
       "      <td>2021-11-19 14:52:53+00:00</td>\n",
       "      <td>38.796494</td>\n",
       "      <td>-77.045523</td>\n",
       "      <td>-3.0</td>\n",
       "    </tr>\n",
       "    <tr>\n",
       "      <th>1</th>\n",
       "      <td>2021-11-19 14:52:54+00:00</td>\n",
       "      <td>38.796489</td>\n",
       "      <td>-77.045519</td>\n",
       "      <td>-3.0</td>\n",
       "    </tr>\n",
       "    <tr>\n",
       "      <th>2</th>\n",
       "      <td>2021-11-19 14:52:55+00:00</td>\n",
       "      <td>38.796473</td>\n",
       "      <td>-77.045510</td>\n",
       "      <td>-3.0</td>\n",
       "    </tr>\n",
       "    <tr>\n",
       "      <th>3</th>\n",
       "      <td>2021-11-19 14:52:56+00:00</td>\n",
       "      <td>38.796457</td>\n",
       "      <td>-77.045503</td>\n",
       "      <td>-3.0</td>\n",
       "    </tr>\n",
       "    <tr>\n",
       "      <th>4</th>\n",
       "      <td>2021-11-19 14:52:57+00:00</td>\n",
       "      <td>38.796427</td>\n",
       "      <td>-77.045499</td>\n",
       "      <td>-2.8</td>\n",
       "    </tr>\n",
       "  </tbody>\n",
       "</table>\n",
       "</div>"
      ],
      "text/plain": [
       "                       time   latitude  longitude  elevation\n",
       "0 2021-11-19 14:52:53+00:00  38.796494 -77.045523       -3.0\n",
       "1 2021-11-19 14:52:54+00:00  38.796489 -77.045519       -3.0\n",
       "2 2021-11-19 14:52:55+00:00  38.796473 -77.045510       -3.0\n",
       "3 2021-11-19 14:52:56+00:00  38.796457 -77.045503       -3.0\n",
       "4 2021-11-19 14:52:57+00:00  38.796427 -77.045499       -2.8"
      ]
     },
     "execution_count": 153,
     "metadata": {},
     "output_type": "execute_result"
    }
   ],
   "source": [
    "route_2loop_df = pd.DataFrame(route_info)\n",
    "route_2loop_df.head()"
   ]
  },
  {
   "cell_type": "code",
   "execution_count": 154,
   "metadata": {},
   "outputs": [],
   "source": [
    "\n",
    "route_2loop_df.to_csv('data/route_2loop_df.csv', index=False)"
   ]
  },
  {
   "cell_type": "code",
   "execution_count": 155,
   "metadata": {},
   "outputs": [
    {
     "data": {
      "image/png": "[encoded data removed]",
      "text/plain": [
       "<Figure size 576x1008 with 1 Axes>"
      ]
     },
     "metadata": {
      "needs_background": "light"
     },
     "output_type": "display_data"
    }
   ],
   "source": [
    "plt.figure(figsize=(8, 14))\n",
    "plt.scatter(route_2loop_df['longitude'], route_2loop_df['latitude'], color='#101010')\n",
    "plt.title('Route latitude and longitude points', size=20);"
   ]
  },
  {
   "cell_type": "code",
   "execution_count": 156,
   "metadata": {},
   "outputs": [
    {
     "data": {
      "image/png": "[encoded data removed]",
      "text/plain": [
       "<Figure size 1296x432 with 1 Axes>"
      ]
     },
     "metadata": {
      "needs_background": "light"
     },
     "output_type": "display_data"
    }
   ],
   "source": [
    "plt.figure(figsize=(18,6))\n",
    "plt.scatter(route_2loop_df.index, route_2loop_df['elevation'], color='#101010')\n",
    "plt.title('Route elevation over time points', size=20);"
   ]
  },
  {
   "cell_type": "code",
   "execution_count": 157,
   "metadata": {},
   "outputs": [
    {
     "data": {
      "text/html": [
       "<div>\n",
       "<style scoped>\n",
       "    .dataframe tbody tr th:only-of-type {\n",
       "        vertical-align: middle;\n",
       "    }\n",
       "\n",
       "    .dataframe tbody tr th {\n",
       "        vertical-align: top;\n",
       "    }\n",
       "\n",
       "    .dataframe thead th {\n",
       "        text-align: right;\n",
       "    }\n",
       "</style>\n",
       "<table border=\"1\" class=\"dataframe\">\n",
       "  <thead>\n",
       "    <tr style=\"text-align: right;\">\n",
       "      <th></th>\n",
       "      <th>time</th>\n",
       "      <th>latitude</th>\n",
       "      <th>longitude</th>\n",
       "      <th>elevation</th>\n",
       "    </tr>\n",
       "  </thead>\n",
       "  <tbody>\n",
       "    <tr>\n",
       "      <th>0</th>\n",
       "      <td>2021-11-19 14:52:53+00:00</td>\n",
       "      <td>38.796494</td>\n",
       "      <td>-77.045523</td>\n",
       "      <td>-3.0</td>\n",
       "    </tr>\n",
       "    <tr>\n",
       "      <th>1</th>\n",
       "      <td>2021-11-19 14:52:54+00:00</td>\n",
       "      <td>38.796489</td>\n",
       "      <td>-77.045519</td>\n",
       "      <td>-3.0</td>\n",
       "    </tr>\n",
       "    <tr>\n",
       "      <th>2</th>\n",
       "      <td>2021-11-19 14:52:55+00:00</td>\n",
       "      <td>38.796473</td>\n",
       "      <td>-77.045510</td>\n",
       "      <td>-3.0</td>\n",
       "    </tr>\n",
       "    <tr>\n",
       "      <th>3</th>\n",
       "      <td>2021-11-19 14:52:56+00:00</td>\n",
       "      <td>38.796457</td>\n",
       "      <td>-77.045503</td>\n",
       "      <td>-3.0</td>\n",
       "    </tr>\n",
       "    <tr>\n",
       "      <th>4</th>\n",
       "      <td>2021-11-19 14:52:57+00:00</td>\n",
       "      <td>38.796427</td>\n",
       "      <td>-77.045499</td>\n",
       "      <td>-2.8</td>\n",
       "    </tr>\n",
       "  </tbody>\n",
       "</table>\n",
       "</div>"
      ],
      "text/plain": [
       "                       time   latitude  longitude  elevation\n",
       "0 2021-11-19 14:52:53+00:00  38.796494 -77.045523       -3.0\n",
       "1 2021-11-19 14:52:54+00:00  38.796489 -77.045519       -3.0\n",
       "2 2021-11-19 14:52:55+00:00  38.796473 -77.045510       -3.0\n",
       "3 2021-11-19 14:52:56+00:00  38.796457 -77.045503       -3.0\n",
       "4 2021-11-19 14:52:57+00:00  38.796427 -77.045499       -2.8"
      ]
     },
     "execution_count": 157,
     "metadata": {},
     "output_type": "execute_result"
    }
   ],
   "source": [
    "route_2loop_df.head()"
   ]
  },
  {
   "cell_type": "code",
   "execution_count": 158,
   "metadata": {},
   "outputs": [
    {
     "data": {
      "text/plain": [
       "(38.79649353213608, -77.04552322626114, -3.0)"
      ]
     },
     "execution_count": 158,
     "metadata": {},
     "output_type": "execute_result"
    }
   ],
   "source": [
    "pointxyz = []\n",
    "for i in range(0,len(route_2loop_df)):\n",
    "    pointxyz.append((route_2loop_df['latitude'][i], route_2loop_df['longitude'][i], route_2loop_df['elevation'][i]))\n",
    "\n",
    "pointxyz[0]"
   ]
  },
  {
   "cell_type": "code",
   "execution_count": 159,
   "metadata": {},
   "outputs": [
    {
     "data": {
      "text/html": [
       "<div>\n",
       "<style scoped>\n",
       "    .dataframe tbody tr th:only-of-type {\n",
       "        vertical-align: middle;\n",
       "    }\n",
       "\n",
       "    .dataframe tbody tr th {\n",
       "        vertical-align: top;\n",
       "    }\n",
       "\n",
       "    .dataframe thead th {\n",
       "        text-align: right;\n",
       "    }\n",
       "</style>\n",
       "<table border=\"1\" class=\"dataframe\">\n",
       "  <thead>\n",
       "    <tr style=\"text-align: right;\">\n",
       "      <th></th>\n",
       "      <th>time</th>\n",
       "      <th>latitude</th>\n",
       "      <th>longitude</th>\n",
       "      <th>elevation</th>\n",
       "      <th>pointxyz</th>\n",
       "    </tr>\n",
       "  </thead>\n",
       "  <tbody>\n",
       "    <tr>\n",
       "      <th>0</th>\n",
       "      <td>2021-11-19 14:52:53+00:00</td>\n",
       "      <td>38.796494</td>\n",
       "      <td>-77.045523</td>\n",
       "      <td>-3.0</td>\n",
       "      <td>(38.79649353213608, -77.04552322626114, -3.0)</td>\n",
       "    </tr>\n",
       "    <tr>\n",
       "      <th>1</th>\n",
       "      <td>2021-11-19 14:52:54+00:00</td>\n",
       "      <td>38.796489</td>\n",
       "      <td>-77.045519</td>\n",
       "      <td>-3.0</td>\n",
       "      <td>(38.79648883827031, -77.04551886767149, -3.0)</td>\n",
       "    </tr>\n",
       "    <tr>\n",
       "      <th>2</th>\n",
       "      <td>2021-11-19 14:52:55+00:00</td>\n",
       "      <td>38.796473</td>\n",
       "      <td>-77.045510</td>\n",
       "      <td>-3.0</td>\n",
       "      <td>(38.796473080292344, -77.04550998285413, -3.0)</td>\n",
       "    </tr>\n",
       "    <tr>\n",
       "      <th>3</th>\n",
       "      <td>2021-11-19 14:52:56+00:00</td>\n",
       "      <td>38.796457</td>\n",
       "      <td>-77.045503</td>\n",
       "      <td>-3.0</td>\n",
       "      <td>(38.79645690321922, -77.04550285823643, -3.0)</td>\n",
       "    </tr>\n",
       "    <tr>\n",
       "      <th>4</th>\n",
       "      <td>2021-11-19 14:52:57+00:00</td>\n",
       "      <td>38.796427</td>\n",
       "      <td>-77.045499</td>\n",
       "      <td>-2.8</td>\n",
       "      <td>(38.796427231281996, -77.04549883492291, -2.79...</td>\n",
       "    </tr>\n",
       "  </tbody>\n",
       "</table>\n",
       "</div>"
      ],
      "text/plain": [
       "                       time   latitude  longitude  elevation  \\\n",
       "0 2021-11-19 14:52:53+00:00  38.796494 -77.045523       -3.0   \n",
       "1 2021-11-19 14:52:54+00:00  38.796489 -77.045519       -3.0   \n",
       "2 2021-11-19 14:52:55+00:00  38.796473 -77.045510       -3.0   \n",
       "3 2021-11-19 14:52:56+00:00  38.796457 -77.045503       -3.0   \n",
       "4 2021-11-19 14:52:57+00:00  38.796427 -77.045499       -2.8   \n",
       "\n",
       "                                            pointxyz  \n",
       "0      (38.79649353213608, -77.04552322626114, -3.0)  \n",
       "1      (38.79648883827031, -77.04551886767149, -3.0)  \n",
       "2     (38.796473080292344, -77.04550998285413, -3.0)  \n",
       "3      (38.79645690321922, -77.04550285823643, -3.0)  \n",
       "4  (38.796427231281996, -77.04549883492291, -2.79...  "
      ]
     },
     "execution_count": 159,
     "metadata": {},
     "output_type": "execute_result"
    }
   ],
   "source": [
    "route_2loop_df['pointxyz']= pd.Series(pointxyz)\n",
    "route_2loop_df.head()"
   ]
  },
  {
   "cell_type": "code",
   "execution_count": 160,
   "metadata": {},
   "outputs": [],
   "source": [
    "from geopy.distance import lonlat, distance\n",
    "from geopy import distance\n",
    "import math"
   ]
  },
  {
   "cell_type": "code",
   "execution_count": 161,
   "metadata": {},
   "outputs": [
    {
     "data": {
      "text/html": [
       "<div>\n",
       "<style scoped>\n",
       "    .dataframe tbody tr th:only-of-type {\n",
       "        vertical-align: middle;\n",
       "    }\n",
       "\n",
       "    .dataframe tbody tr th {\n",
       "        vertical-align: top;\n",
       "    }\n",
       "\n",
       "    .dataframe thead th {\n",
       "        text-align: right;\n",
       "    }\n",
       "</style>\n",
       "<table border=\"1\" class=\"dataframe\">\n",
       "  <thead>\n",
       "    <tr style=\"text-align: right;\">\n",
       "      <th></th>\n",
       "      <th>time</th>\n",
       "      <th>latitude</th>\n",
       "      <th>longitude</th>\n",
       "      <th>elevation</th>\n",
       "      <th>pointxyz</th>\n",
       "      <th>step_dist</th>\n",
       "    </tr>\n",
       "  </thead>\n",
       "  <tbody>\n",
       "    <tr>\n",
       "      <th>0</th>\n",
       "      <td>2021-11-19 14:52:53+00:00</td>\n",
       "      <td>38.796494</td>\n",
       "      <td>-77.045523</td>\n",
       "      <td>-3.0</td>\n",
       "      <td>(38.79649353213608, -77.04552322626114, -3.0)</td>\n",
       "      <td>0.000000</td>\n",
       "    </tr>\n",
       "    <tr>\n",
       "      <th>1</th>\n",
       "      <td>2021-11-19 14:52:54+00:00</td>\n",
       "      <td>38.796489</td>\n",
       "      <td>-77.045519</td>\n",
       "      <td>-3.0</td>\n",
       "      <td>(38.79648883827031, -77.04551886767149, -3.0)</td>\n",
       "      <td>0.000400</td>\n",
       "    </tr>\n",
       "    <tr>\n",
       "      <th>2</th>\n",
       "      <td>2021-11-19 14:52:55+00:00</td>\n",
       "      <td>38.796473</td>\n",
       "      <td>-77.045510</td>\n",
       "      <td>-3.0</td>\n",
       "      <td>(38.796473080292344, -77.04550998285413, -3.0)</td>\n",
       "      <td>0.001188</td>\n",
       "    </tr>\n",
       "    <tr>\n",
       "      <th>3</th>\n",
       "      <td>2021-11-19 14:52:56+00:00</td>\n",
       "      <td>38.796457</td>\n",
       "      <td>-77.045503</td>\n",
       "      <td>-3.0</td>\n",
       "      <td>(38.79645690321922, -77.04550285823643, -3.0)</td>\n",
       "      <td>0.001180</td>\n",
       "    </tr>\n",
       "    <tr>\n",
       "      <th>4</th>\n",
       "      <td>2021-11-19 14:52:57+00:00</td>\n",
       "      <td>38.796427</td>\n",
       "      <td>-77.045499</td>\n",
       "      <td>-2.8</td>\n",
       "      <td>(38.796427231281996, -77.04549883492291, -2.79...</td>\n",
       "      <td>0.002062</td>\n",
       "    </tr>\n",
       "  </tbody>\n",
       "</table>\n",
       "</div>"
      ],
      "text/plain": [
       "                       time   latitude  longitude  elevation  \\\n",
       "0 2021-11-19 14:52:53+00:00  38.796494 -77.045523       -3.0   \n",
       "1 2021-11-19 14:52:54+00:00  38.796489 -77.045519       -3.0   \n",
       "2 2021-11-19 14:52:55+00:00  38.796473 -77.045510       -3.0   \n",
       "3 2021-11-19 14:52:56+00:00  38.796457 -77.045503       -3.0   \n",
       "4 2021-11-19 14:52:57+00:00  38.796427 -77.045499       -2.8   \n",
       "\n",
       "                                            pointxyz  step_dist  \n",
       "0      (38.79649353213608, -77.04552322626114, -3.0)   0.000000  \n",
       "1      (38.79648883827031, -77.04551886767149, -3.0)   0.000400  \n",
       "2     (38.796473080292344, -77.04550998285413, -3.0)   0.001188  \n",
       "3      (38.79645690321922, -77.04550285823643, -3.0)   0.001180  \n",
       "4  (38.796427231281996, -77.04549883492291, -2.79...   0.002062  "
      ]
     },
     "execution_count": 161,
     "metadata": {},
     "output_type": "execute_result"
    }
   ],
   "source": [
    "# Get Step distance, i.e. distance between points.\n",
    "dist = [0]\n",
    "\n",
    "for i in range(len(route_2loop_df)-1):\n",
    "    \n",
    "    b_latlon = route_2loop_df['pointxyz'][i+1][:2]\n",
    "    a_latlon = route_2loop_df['pointxyz'][i][:2]\n",
    "\n",
    "    # OG elevation in meters (1000m = .6 miles)  so change meters into km and then convert to miles\n",
    "    b_elv = route_2loop_df['pointxyz'][i+1][2]/1000*.6\n",
    "    a_elv = route_2loop_df['pointxyz'][i][2]/1000*.6\n",
    "    eldiff = b_elv-a_elv\n",
    "\n",
    "    flat_distance =distance.distance(a_latlon,b_latlon).miles\n",
    "\n",
    "    euc_distance = math.sqrt(flat_distance**2 + eldiff**2)\n",
    "    dist.append(euc_distance)\n",
    "\n",
    "route_2loop_df['step_dist'] = pd.Series(dist)\n",
    "route_2loop_df.head()\n"
   ]
  },
  {
   "cell_type": "code",
   "execution_count": 162,
   "metadata": {},
   "outputs": [],
   "source": [
    "# 1 sec is 1/60th of minute and a minute is 1/60th of an hour so \n",
    "\n",
    "speed = []\n",
    "for i in range(len(route_2loop_df)):\n",
    "    mph = route_2loop_df['step_dist'][i]/(1/60/60)\n",
    "    speed.append(mph)\n",
    "\n",
    "route_2loop_df['mph'] = pd.Series(speed)"
   ]
  },
  {
   "cell_type": "code",
   "execution_count": 163,
   "metadata": {},
   "outputs": [
    {
     "data": {
      "text/html": [
       "<div>\n",
       "<style scoped>\n",
       "    .dataframe tbody tr th:only-of-type {\n",
       "        vertical-align: middle;\n",
       "    }\n",
       "\n",
       "    .dataframe tbody tr th {\n",
       "        vertical-align: top;\n",
       "    }\n",
       "\n",
       "    .dataframe thead th {\n",
       "        text-align: right;\n",
       "    }\n",
       "</style>\n",
       "<table border=\"1\" class=\"dataframe\">\n",
       "  <thead>\n",
       "    <tr style=\"text-align: right;\">\n",
       "      <th></th>\n",
       "      <th>time</th>\n",
       "      <th>latitude</th>\n",
       "      <th>longitude</th>\n",
       "      <th>elevation</th>\n",
       "      <th>pointxyz</th>\n",
       "      <th>step_dist</th>\n",
       "      <th>mph</th>\n",
       "      <th>elevation_change</th>\n",
       "    </tr>\n",
       "  </thead>\n",
       "  <tbody>\n",
       "    <tr>\n",
       "      <th>0</th>\n",
       "      <td>2021-11-19 14:52:53+00:00</td>\n",
       "      <td>38.796494</td>\n",
       "      <td>-77.045523</td>\n",
       "      <td>-3.0</td>\n",
       "      <td>(38.79649353213608, -77.04552322626114, -3.0)</td>\n",
       "      <td>0.000000</td>\n",
       "      <td>0.000000</td>\n",
       "      <td>0.0</td>\n",
       "    </tr>\n",
       "    <tr>\n",
       "      <th>1</th>\n",
       "      <td>2021-11-19 14:52:54+00:00</td>\n",
       "      <td>38.796489</td>\n",
       "      <td>-77.045519</td>\n",
       "      <td>-3.0</td>\n",
       "      <td>(38.79648883827031, -77.04551886767149, -3.0)</td>\n",
       "      <td>0.000400</td>\n",
       "      <td>1.440858</td>\n",
       "      <td>0.0</td>\n",
       "    </tr>\n",
       "    <tr>\n",
       "      <th>2</th>\n",
       "      <td>2021-11-19 14:52:55+00:00</td>\n",
       "      <td>38.796473</td>\n",
       "      <td>-77.045510</td>\n",
       "      <td>-3.0</td>\n",
       "      <td>(38.796473080292344, -77.04550998285413, -3.0)</td>\n",
       "      <td>0.001188</td>\n",
       "      <td>4.277103</td>\n",
       "      <td>0.0</td>\n",
       "    </tr>\n",
       "    <tr>\n",
       "      <th>3</th>\n",
       "      <td>2021-11-19 14:52:56+00:00</td>\n",
       "      <td>38.796457</td>\n",
       "      <td>-77.045503</td>\n",
       "      <td>-3.0</td>\n",
       "      <td>(38.79645690321922, -77.04550285823643, -3.0)</td>\n",
       "      <td>0.001180</td>\n",
       "      <td>4.249086</td>\n",
       "      <td>0.0</td>\n",
       "    </tr>\n",
       "    <tr>\n",
       "      <th>4</th>\n",
       "      <td>2021-11-19 14:52:57+00:00</td>\n",
       "      <td>38.796427</td>\n",
       "      <td>-77.045499</td>\n",
       "      <td>-2.8</td>\n",
       "      <td>(38.796427231281996, -77.04549883492291, -2.79...</td>\n",
       "      <td>0.002062</td>\n",
       "      <td>7.422258</td>\n",
       "      <td>0.2</td>\n",
       "    </tr>\n",
       "  </tbody>\n",
       "</table>\n",
       "</div>"
      ],
      "text/plain": [
       "                       time   latitude  longitude  elevation  \\\n",
       "0 2021-11-19 14:52:53+00:00  38.796494 -77.045523       -3.0   \n",
       "1 2021-11-19 14:52:54+00:00  38.796489 -77.045519       -3.0   \n",
       "2 2021-11-19 14:52:55+00:00  38.796473 -77.045510       -3.0   \n",
       "3 2021-11-19 14:52:56+00:00  38.796457 -77.045503       -3.0   \n",
       "4 2021-11-19 14:52:57+00:00  38.796427 -77.045499       -2.8   \n",
       "\n",
       "                                            pointxyz  step_dist       mph  \\\n",
       "0      (38.79649353213608, -77.04552322626114, -3.0)   0.000000  0.000000   \n",
       "1      (38.79648883827031, -77.04551886767149, -3.0)   0.000400  1.440858   \n",
       "2     (38.796473080292344, -77.04550998285413, -3.0)   0.001188  4.277103   \n",
       "3      (38.79645690321922, -77.04550285823643, -3.0)   0.001180  4.249086   \n",
       "4  (38.796427231281996, -77.04549883492291, -2.79...   0.002062  7.422258   \n",
       "\n",
       "   elevation_change  \n",
       "0               0.0  \n",
       "1               0.0  \n",
       "2               0.0  \n",
       "3               0.0  \n",
       "4               0.2  "
      ]
     },
     "execution_count": 163,
     "metadata": {},
     "output_type": "execute_result"
    }
   ],
   "source": [
    "elevation_change = [0]\n",
    "\n",
    "for i in range(1,len(route_2loop_df)):\n",
    "    prev_el = route_2loop_df['elevation'][i-1]\n",
    "    new_el = route_2loop_df['elevation'][i]\n",
    "    change_el = new_el-prev_el\n",
    "    elevation_change.append(change_el)\n",
    "\n",
    "route_2loop_df['elevation_change'] = pd.Series(elevation_change)\n",
    "route_2loop_df.head()\n"
   ]
  },
  {
   "cell_type": "code",
   "execution_count": 164,
   "metadata": {},
   "outputs": [
    {
     "data": {
      "text/html": [
       "<div>\n",
       "<style scoped>\n",
       "    .dataframe tbody tr th:only-of-type {\n",
       "        vertical-align: middle;\n",
       "    }\n",
       "\n",
       "    .dataframe tbody tr th {\n",
       "        vertical-align: top;\n",
       "    }\n",
       "\n",
       "    .dataframe thead th {\n",
       "        text-align: right;\n",
       "    }\n",
       "</style>\n",
       "<table border=\"1\" class=\"dataframe\">\n",
       "  <thead>\n",
       "    <tr style=\"text-align: right;\">\n",
       "      <th></th>\n",
       "      <th>latitude</th>\n",
       "      <th>longitude</th>\n",
       "      <th>elevation</th>\n",
       "      <th>step_dist</th>\n",
       "      <th>mph</th>\n",
       "      <th>elevation_change</th>\n",
       "    </tr>\n",
       "  </thead>\n",
       "  <tbody>\n",
       "    <tr>\n",
       "      <th>count</th>\n",
       "      <td>4304.000000</td>\n",
       "      <td>4304.000000</td>\n",
       "      <td>4304.000000</td>\n",
       "      <td>4304.000000</td>\n",
       "      <td>4304.000000</td>\n",
       "      <td>4304.000000</td>\n",
       "    </tr>\n",
       "    <tr>\n",
       "      <th>mean</th>\n",
       "      <td>38.776891</td>\n",
       "      <td>-77.057857</td>\n",
       "      <td>-3.665892</td>\n",
       "      <td>0.001958</td>\n",
       "      <td>7.050208</td>\n",
       "      <td>-0.004275</td>\n",
       "    </tr>\n",
       "    <tr>\n",
       "      <th>std</th>\n",
       "      <td>0.008550</td>\n",
       "      <td>0.006189</td>\n",
       "      <td>17.281843</td>\n",
       "      <td>0.000503</td>\n",
       "      <td>1.809371</td>\n",
       "      <td>0.222090</td>\n",
       "    </tr>\n",
       "    <tr>\n",
       "      <th>min</th>\n",
       "      <td>38.766160</td>\n",
       "      <td>-77.065959</td>\n",
       "      <td>-27.200001</td>\n",
       "      <td>0.000000</td>\n",
       "      <td>0.000000</td>\n",
       "      <td>-1.200000</td>\n",
       "    </tr>\n",
       "    <tr>\n",
       "      <th>25%</th>\n",
       "      <td>38.770136</td>\n",
       "      <td>-77.063445</td>\n",
       "      <td>-18.600000</td>\n",
       "      <td>0.001687</td>\n",
       "      <td>6.073177</td>\n",
       "      <td>-0.199999</td>\n",
       "    </tr>\n",
       "    <tr>\n",
       "      <th>50%</th>\n",
       "      <td>38.774916</td>\n",
       "      <td>-77.060646</td>\n",
       "      <td>-6.600000</td>\n",
       "      <td>0.002035</td>\n",
       "      <td>7.324486</td>\n",
       "      <td>0.000000</td>\n",
       "    </tr>\n",
       "    <tr>\n",
       "      <th>75%</th>\n",
       "      <td>38.782989</td>\n",
       "      <td>-77.052164</td>\n",
       "      <td>12.800000</td>\n",
       "      <td>0.002244</td>\n",
       "      <td>8.077030</td>\n",
       "      <td>0.199999</td>\n",
       "    </tr>\n",
       "    <tr>\n",
       "      <th>max</th>\n",
       "      <td>38.796494</td>\n",
       "      <td>-77.045499</td>\n",
       "      <td>28.400000</td>\n",
       "      <td>0.010075</td>\n",
       "      <td>36.270216</td>\n",
       "      <td>2.000000</td>\n",
       "    </tr>\n",
       "  </tbody>\n",
       "</table>\n",
       "</div>"
      ],
      "text/plain": [
       "          latitude    longitude    elevation    step_dist          mph  \\\n",
       "count  4304.000000  4304.000000  4304.000000  4304.000000  4304.000000   \n",
       "mean     38.776891   -77.057857    -3.665892     0.001958     7.050208   \n",
       "std       0.008550     0.006189    17.281843     0.000503     1.809371   \n",
       "min      38.766160   -77.065959   -27.200001     0.000000     0.000000   \n",
       "25%      38.770136   -77.063445   -18.600000     0.001687     6.073177   \n",
       "50%      38.774916   -77.060646    -6.600000     0.002035     7.324486   \n",
       "75%      38.782989   -77.052164    12.800000     0.002244     8.077030   \n",
       "max      38.796494   -77.045499    28.400000     0.010075    36.270216   \n",
       "\n",
       "       elevation_change  \n",
       "count       4304.000000  \n",
       "mean          -0.004275  \n",
       "std            0.222090  \n",
       "min           -1.200000  \n",
       "25%           -0.199999  \n",
       "50%            0.000000  \n",
       "75%            0.199999  \n",
       "max            2.000000  "
      ]
     },
     "execution_count": 164,
     "metadata": {},
     "output_type": "execute_result"
    }
   ],
   "source": [
    "# rnage of elevation \n",
    "route_2loop_df.describe()"
   ]
  },
  {
   "cell_type": "code",
   "execution_count": 171,
   "metadata": {},
   "outputs": [
    {
     "data": {
      "text/html": [
       "<div>\n",
       "<style scoped>\n",
       "    .dataframe tbody tr th:only-of-type {\n",
       "        vertical-align: middle;\n",
       "    }\n",
       "\n",
       "    .dataframe tbody tr th {\n",
       "        vertical-align: top;\n",
       "    }\n",
       "\n",
       "    .dataframe thead th {\n",
       "        text-align: right;\n",
       "    }\n",
       "</style>\n",
       "<table border=\"1\" class=\"dataframe\">\n",
       "  <thead>\n",
       "    <tr style=\"text-align: right;\">\n",
       "      <th></th>\n",
       "      <th>time</th>\n",
       "      <th>latitude</th>\n",
       "      <th>longitude</th>\n",
       "      <th>elevation</th>\n",
       "      <th>pointxyz</th>\n",
       "      <th>step_dist</th>\n",
       "      <th>mph</th>\n",
       "      <th>elevation_change</th>\n",
       "      <th>5sec_rolling_elv</th>\n",
       "    </tr>\n",
       "  </thead>\n",
       "  <tbody>\n",
       "    <tr>\n",
       "      <th>10</th>\n",
       "      <td>2021-11-19 14:53:03+00:00</td>\n",
       "      <td>38.796248</td>\n",
       "      <td>-77.045531</td>\n",
       "      <td>-2.2</td>\n",
       "      <td>(38.79624827764928, -77.04553068615496, -2.200...</td>\n",
       "      <td>0.002283</td>\n",
       "      <td>8.219338</td>\n",
       "      <td>-0.2</td>\n",
       "      <td>0.04</td>\n",
       "    </tr>\n",
       "    <tr>\n",
       "      <th>11</th>\n",
       "      <td>2021-11-19 14:53:04+00:00</td>\n",
       "      <td>38.796213</td>\n",
       "      <td>-77.045538</td>\n",
       "      <td>-2.4</td>\n",
       "      <td>(38.79621349275112, -77.04553806222975, -2.400...</td>\n",
       "      <td>0.002435</td>\n",
       "      <td>8.766764</td>\n",
       "      <td>-0.2</td>\n",
       "      <td>-0.08</td>\n",
       "    </tr>\n",
       "    <tr>\n",
       "      <th>12</th>\n",
       "      <td>2021-11-19 14:53:05+00:00</td>\n",
       "      <td>38.796177</td>\n",
       "      <td>-77.045542</td>\n",
       "      <td>-2.4</td>\n",
       "      <td>(38.79617736674845, -77.0455424208194, -2.4000...</td>\n",
       "      <td>0.002503</td>\n",
       "      <td>9.010918</td>\n",
       "      <td>0.0</td>\n",
       "      <td>-0.08</td>\n",
       "    </tr>\n",
       "    <tr>\n",
       "      <th>13</th>\n",
       "      <td>2021-11-19 14:53:06+00:00</td>\n",
       "      <td>38.796144</td>\n",
       "      <td>-77.045550</td>\n",
       "      <td>-2.6</td>\n",
       "      <td>(38.79614409059286, -77.04554996453226, -2.599...</td>\n",
       "      <td>0.002334</td>\n",
       "      <td>8.403474</td>\n",
       "      <td>-0.2</td>\n",
       "      <td>-0.12</td>\n",
       "    </tr>\n",
       "    <tr>\n",
       "      <th>14</th>\n",
       "      <td>2021-11-19 14:53:07+00:00</td>\n",
       "      <td>38.796116</td>\n",
       "      <td>-77.045559</td>\n",
       "      <td>-2.6</td>\n",
       "      <td>(38.79611584357917, -77.04555943608284, -2.599...</td>\n",
       "      <td>0.002014</td>\n",
       "      <td>7.251940</td>\n",
       "      <td>0.0</td>\n",
       "      <td>-0.12</td>\n",
       "    </tr>\n",
       "    <tr>\n",
       "      <th>15</th>\n",
       "      <td>2021-11-19 14:53:08+00:00</td>\n",
       "      <td>38.796089</td>\n",
       "      <td>-77.045567</td>\n",
       "      <td>-2.6</td>\n",
       "      <td>(38.79608918912709, -77.04556706361473, -2.599...</td>\n",
       "      <td>0.001884</td>\n",
       "      <td>6.782933</td>\n",
       "      <td>0.0</td>\n",
       "      <td>-0.08</td>\n",
       "    </tr>\n",
       "    <tr>\n",
       "      <th>16</th>\n",
       "      <td>2021-11-19 14:53:09+00:00</td>\n",
       "      <td>38.796058</td>\n",
       "      <td>-77.045568</td>\n",
       "      <td>-2.6</td>\n",
       "      <td>(38.79605800844729, -77.04556773416698, -2.599...</td>\n",
       "      <td>0.002151</td>\n",
       "      <td>7.744066</td>\n",
       "      <td>0.0</td>\n",
       "      <td>-0.04</td>\n",
       "    </tr>\n",
       "    <tr>\n",
       "      <th>17</th>\n",
       "      <td>2021-11-19 14:53:10+00:00</td>\n",
       "      <td>38.796022</td>\n",
       "      <td>-77.045577</td>\n",
       "      <td>-2.6</td>\n",
       "      <td>(38.79602230153978, -77.04557695426047, -2.599...</td>\n",
       "      <td>0.002513</td>\n",
       "      <td>9.046171</td>\n",
       "      <td>0.0</td>\n",
       "      <td>-0.04</td>\n",
       "    </tr>\n",
       "    <tr>\n",
       "      <th>18</th>\n",
       "      <td>2021-11-19 14:53:11+00:00</td>\n",
       "      <td>38.795982</td>\n",
       "      <td>-77.045586</td>\n",
       "      <td>-2.8</td>\n",
       "      <td>(38.79598215222359, -77.04558625817299, -2.799...</td>\n",
       "      <td>0.002817</td>\n",
       "      <td>10.141935</td>\n",
       "      <td>-0.2</td>\n",
       "      <td>-0.04</td>\n",
       "    </tr>\n",
       "    <tr>\n",
       "      <th>19</th>\n",
       "      <td>2021-11-19 14:53:12+00:00</td>\n",
       "      <td>38.795949</td>\n",
       "      <td>-77.045597</td>\n",
       "      <td>-2.8</td>\n",
       "      <td>(38.79594921134412, -77.04559681937099, -2.799...</td>\n",
       "      <td>0.002343</td>\n",
       "      <td>8.433616</td>\n",
       "      <td>0.0</td>\n",
       "      <td>-0.04</td>\n",
       "    </tr>\n",
       "  </tbody>\n",
       "</table>\n",
       "</div>"
      ],
      "text/plain": [
       "                        time   latitude  longitude  elevation  \\\n",
       "10 2021-11-19 14:53:03+00:00  38.796248 -77.045531       -2.2   \n",
       "11 2021-11-19 14:53:04+00:00  38.796213 -77.045538       -2.4   \n",
       "12 2021-11-19 14:53:05+00:00  38.796177 -77.045542       -2.4   \n",
       "13 2021-11-19 14:53:06+00:00  38.796144 -77.045550       -2.6   \n",
       "14 2021-11-19 14:53:07+00:00  38.796116 -77.045559       -2.6   \n",
       "15 2021-11-19 14:53:08+00:00  38.796089 -77.045567       -2.6   \n",
       "16 2021-11-19 14:53:09+00:00  38.796058 -77.045568       -2.6   \n",
       "17 2021-11-19 14:53:10+00:00  38.796022 -77.045577       -2.6   \n",
       "18 2021-11-19 14:53:11+00:00  38.795982 -77.045586       -2.8   \n",
       "19 2021-11-19 14:53:12+00:00  38.795949 -77.045597       -2.8   \n",
       "\n",
       "                                             pointxyz  step_dist        mph  \\\n",
       "10  (38.79624827764928, -77.04553068615496, -2.200...   0.002283   8.219338   \n",
       "11  (38.79621349275112, -77.04553806222975, -2.400...   0.002435   8.766764   \n",
       "12  (38.79617736674845, -77.0455424208194, -2.4000...   0.002503   9.010918   \n",
       "13  (38.79614409059286, -77.04554996453226, -2.599...   0.002334   8.403474   \n",
       "14  (38.79611584357917, -77.04555943608284, -2.599...   0.002014   7.251940   \n",
       "15  (38.79608918912709, -77.04556706361473, -2.599...   0.001884   6.782933   \n",
       "16  (38.79605800844729, -77.04556773416698, -2.599...   0.002151   7.744066   \n",
       "17  (38.79602230153978, -77.04557695426047, -2.599...   0.002513   9.046171   \n",
       "18  (38.79598215222359, -77.04558625817299, -2.799...   0.002817  10.141935   \n",
       "19  (38.79594921134412, -77.04559681937099, -2.799...   0.002343   8.433616   \n",
       "\n",
       "    elevation_change  5sec_rolling_elv  \n",
       "10              -0.2              0.04  \n",
       "11              -0.2             -0.08  \n",
       "12               0.0             -0.08  \n",
       "13              -0.2             -0.12  \n",
       "14               0.0             -0.12  \n",
       "15               0.0             -0.08  \n",
       "16               0.0             -0.04  \n",
       "17               0.0             -0.04  \n",
       "18              -0.2             -0.04  \n",
       "19               0.0             -0.04  "
      ]
     },
     "execution_count": 171,
     "metadata": {},
     "output_type": "execute_result"
    }
   ],
   "source": [
    "route_2loop_df['5sec_rolling_elv'] = route_2loop_df['elevation_change'].rolling(5).mean()\n",
    "route_2loop_df['second'] = route_2loop_df.index\n",
    "route_2loop_df[10:20]"
   ]
  },
  {
   "cell_type": "code",
   "execution_count": null,
   "metadata": {},
   "outputs": [],
   "source": [
    "portion"
   ]
  },
  {
   "cell_type": "code",
   "execution_count": 166,
   "metadata": {},
   "outputs": [
    {
     "data": {
      "image/png": "[encoded data removed]",
      "text/plain": [
       "<Figure size 1296x432 with 1 Axes>"
      ]
     },
     "metadata": {
      "needs_background": "light"
     },
     "output_type": "display_data"
    }
   ],
   "source": [
    "plt.figure(figsize=(18,6))\n",
    "plt.scatter(route_2loop_df.index, route_2loop_df['elevation'], color='#101010')\n",
    "plt.scatter(route_2loop_df.index, route_2loop_df['elevation'], color='#101010')\n",
    "\n",
    "plt.title('Route elevation over time points', size=20);"
   ]
  },
  {
   "cell_type": "code",
   "execution_count": 167,
   "metadata": {},
   "outputs": [],
   "source": [
    "el_change_distribution = elevation_change.copy()\n",
    "el_change_distribution.sort()"
   ]
  },
  {
   "cell_type": "code",
   "execution_count": 168,
   "metadata": {},
   "outputs": [],
   "source": [
    "import matplotlib.pyplot as plt\n",
    "import numpy as np\n",
    "from matplotlib import colors\n",
    "from matplotlib.ticker import PercentFormatter"
   ]
  },
  {
   "cell_type": "code",
   "execution_count": 169,
   "metadata": {},
   "outputs": [
    {
     "data": {
      "image/png": "[encoded data removed]",
      "text/plain": [
       "<Figure size 432x288 with 1 Axes>"
      ]
     },
     "metadata": {
      "needs_background": "light"
     },
     "output_type": "display_data"
    }
   ],
   "source": [
    "n_bins = 20\n",
    "\n",
    "# Generate two normal distributions\n",
    "dist1 = el_dist_df\n",
    "\n",
    "mu = dist1.mean()[0]  # mean of distribution\n",
    "sigma = dist1.std()[0]  # standard deviation of distribution\n",
    "\n",
    "fig, ax = plt.subplots()\n",
    "\n",
    "# We can set the number of bins with the *bins* keyword argument.\n",
    "n, bins, patches = ax.hist(dist1, bins=n_bins, density=True)\n",
    "\n",
    "# # add a 'best fit' line\n",
    "y = ((1 / (np.sqrt(2 * np.pi) * sigma)) *\n",
    "     np.exp(-0.5 * (1 / sigma * (bins - mu))**2))\n",
    "\n",
    "ax.plot(bins, y, '--')\n",
    "ax.set_xlabel('Elevation Change')\n",
    "ax.set_ylabel('Probability density')\n",
    "ax.set_title(r'Histogram of Elevation Change: $\\mu=.0043$, $\\sigma=.222$')\n",
    "\n",
    "# # # Tweak spacing to prevent clipping of ylabel\n",
    "fig.tight_layout()\n",
    "plt.show()"
   ]
  },
  {
   "cell_type": "code",
   "execution_count": 197,
   "metadata": {},
   "outputs": [
    {
     "data": {
      "text/plain": [
       "'1:05:05'"
      ]
     },
     "execution_count": 197,
     "metadata": {},
     "output_type": "execute_result"
    }
   ],
   "source": [
    "import datetime\n",
    "\n",
    "# seconds to time\n",
    "def sec_2_time(seconds):\n",
    "    str_time = str(datetime.timedelta(seconds=seconds))\n",
    "    # hours = seconds//3600\n",
    "    # minutes_left = (seconds-(hours*3600))//60\n",
    "    # sec_left = (seconds-(hours*3600)-(minutes_left*60))%60\n",
    "    # element_time = (hours, minutes_left, sec_left)\n",
    "    return str_time\n",
    "\n",
    "\n",
    "sec_2_time(3905)"
   ]
  },
  {
   "cell_type": "code",
   "execution_count": 198,
   "metadata": {},
   "outputs": [
    {
     "data": {
      "text/plain": [
       "'00:11:06'"
      ]
     },
     "execution_count": 198,
     "metadata": {},
     "output_type": "execute_result"
    }
   ],
   "source": [
    "from time import strftime\n",
    "from time import gmtime\n",
    "\n",
    "strftime(\"%H:%M:%S\", gmtime(3905))\n",
    "'00:11:06'"
   ]
  },
  {
   "cell_type": "code",
   "execution_count": null,
   "metadata": {},
   "outputs": [],
   "source": [
    "# levels of elevation change\n",
    "# flat = 0\n",
    "# slight up = \n",
    "# slight down <\n",
    "# steep up > 0.5\n",
    "# steep down < 0.5\n",
    "lables = ['SteepD','SlightD','Flat','SlightU','SteepU']\n",
    "custome_cut =[-inf, -0.5, -0.25, 0.25, 0.5, inf]\n",
    "\n",
    "#  do it over a set length of distance... not every step."
   ]
  },
  {
   "cell_type": "code",
   "execution_count": 196,
   "metadata": {},
   "outputs": [],
   "source": [
    "route_2loop_df.to_csv('data/route_2loop_df.csv', index=False)"
   ]
  },
  {
   "cell_type": "code",
   "execution_count": null,
   "metadata": {},
   "outputs": [],
   "source": []
  }
 ],
 "metadata": {
  "interpreter": {
   "hash": "aa1e2d50254fee92e21ded0f4366ee792dda71ab2204fc3422a666dc6db7b43d"
  },
  "kernelspec": {
   "display_name": "Python 3.6.13 64-bit ('geopandas_env': conda)",
   "language": "python",
   "name": "python3"
  },
  "language_info": {
   "codemirror_mode": {
    "name": "ipython",
    "version": 3
   },
   "file_extension": ".py",
   "mimetype": "text/x-python",
   "name": "python",
   "nbconvert_exporter": "python",
   "pygments_lexer": "ipython3",
   "version": "3.10.0"
  },
  "orig_nbformat": 4
 },
 "nbformat": 4,
 "nbformat_minor": 2
}
