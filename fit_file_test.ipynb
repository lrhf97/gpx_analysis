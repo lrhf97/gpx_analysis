{
 "cells": [
  {
   "cell_type": "code",
   "execution_count": 1,
   "metadata": {},
   "outputs": [
    {
     "ename": "ModuleNotFoundError",
     "evalue": "No module named 'fitdecode'",
     "output_type": "error",
     "traceback": [
      "\u001b[0;31m---------------------------------------------------------------------------\u001b[0m",
      "\u001b[0;31mModuleNotFoundError\u001b[0m                       Traceback (most recent call last)",
      "\u001b[1;32m/home/awstclair/github_forks/gpx_analysis/fit_file_test.ipynb Cell 1'\u001b[0m in \u001b[0;36m<module>\u001b[0;34m\u001b[0m\n\u001b[0;32m----> <a href='vscode-notebook-cell:/home/awstclair/github_forks/gpx_analysis/fit_file_test.ipynb#ch0000000?line=0'>1</a>\u001b[0m \u001b[39mimport\u001b[39;00m \u001b[39mfitdecode\u001b[39;00m\n\u001b[1;32m      <a href='vscode-notebook-cell:/home/awstclair/github_forks/gpx_analysis/fit_file_test.ipynb#ch0000000?line=2'>3</a>\u001b[0m file_1 \u001b[39m=\u001b[39m \u001b[39m'\u001b[39m\u001b[39mfit_files/8759280766_ACTIVITY.fit\u001b[39m\u001b[39m'\u001b[39m\n\u001b[1;32m      <a href='vscode-notebook-cell:/home/awstclair/github_forks/gpx_analysis/fit_file_test.ipynb#ch0000000?line=3'>4</a>\u001b[0m \u001b[39mwith\u001b[39;00m fitdecode\u001b[39m.\u001b[39mFitReader(file_1) \u001b[39mas\u001b[39;00m fit:\n",
      "\u001b[0;31mModuleNotFoundError\u001b[0m: No module named 'fitdecode'"
     ]
    }
   ],
   "source": [
    "import fitdecode\n",
    "\n",
    "file_1 = 'fit_files/8759280766_ACTIVITY.fit'\n",
    "with fitdecode.FitReader(file_1) as fit:\n",
    "    for frame in fit:\n",
    "        # The yielded frame object is of one of the following types:\n",
    "        # * fitdecode.FitHeader (FIT_FRAME_HEADER)\n",
    "        # * fitdecode.FitDefinitionMessage (FIT_FRAME_DEFINITION)\n",
    "        # * fitdecode.FitDataMessage (FIT_FRAME_DATA)\n",
    "        # * fitdecode.FitCRC (FIT_FRAME_CRC)\n",
    "\n",
    "        if frame.frame_type == fitdecode.FIT_FRAME_DATA:\n",
    "            # Here, frame is a FitDataMessage object.\n",
    "            # A FitDataMessage object contains decoded values that\n",
    "            # are directly usable in your script logic.\n",
    "            print(frame.name) "
   ]
  },
  {
   "cell_type": "code",
   "execution_count": 2,
   "metadata": {},
   "outputs": [
    {
     "ename": "NameError",
     "evalue": "name 'fit_1' is not defined",
     "output_type": "error",
     "traceback": [
      "\u001b[0;31m---------------------------------------------------------------------------\u001b[0m",
      "\u001b[0;31mNameError\u001b[0m                                 Traceback (most recent call last)",
      "\u001b[1;32m/home/awstclair/github_forks/gpx_analysis/fit_file_test.ipynb Cell 2'\u001b[0m in \u001b[0;36m<module>\u001b[0;34m\u001b[0m\n\u001b[1;32m      <a href='vscode-notebook-cell:/home/awstclair/github_forks/gpx_analysis/fit_file_test.ipynb#ch0000003?line=0'>1</a>\u001b[0m \u001b[39mimport\u001b[39;00m \u001b[39mjson\u001b[39;00m\n\u001b[0;32m----> <a href='vscode-notebook-cell:/home/awstclair/github_forks/gpx_analysis/fit_file_test.ipynb#ch0000003?line=1'>2</a>\u001b[0m fit_1\u001b[39m.\u001b[39mjson[\u001b[39m0\u001b[39m]\n",
      "\u001b[0;31mNameError\u001b[0m: name 'fit_1' is not defined"
     ]
    }
   ],
   "source": [
    "import json\n",
    "fit_1.json[0]"
   ]
  },
  {
   "cell_type": "code",
   "execution_count": 3,
   "metadata": {},
   "outputs": [],
   "source": [
    "import json\n",
    "\n",
    "with open('fit_files/fit_1.json') as file:\n",
    "    data = json.load(file)\n",
    "# garmin_data = json.loads()\n",
    "\n"
   ]
  },
  {
   "cell_type": "code",
   "execution_count": 17,
   "metadata": {},
   "outputs": [
    {
     "data": {
      "text/plain": [
       "{'frame_type': 'definition_message',\n",
       " 'name': 'record',\n",
       " 'header': {'local_mesg_num': 14,\n",
       "  'time_offset': None,\n",
       "  'is_developer_data': True},\n",
       " 'global_mesg_num': 20,\n",
       " 'endian': '<',\n",
       " 'field_defs': [{'name': 'timestamp',\n",
       "   'def_num': 253,\n",
       "   'type_name': 'date_time',\n",
       "   'base_type_name': 'uint32',\n",
       "   'size': 4},\n",
       "  {'name': 'position_lat',\n",
       "   'def_num': 0,\n",
       "   'type_name': 'sint32',\n",
       "   'base_type_name': 'sint32',\n",
       "   'size': 4},\n",
       "  {'name': 'position_long',\n",
       "   'def_num': 1,\n",
       "   'type_name': 'sint32',\n",
       "   'base_type_name': 'sint32',\n",
       "   'size': 4},\n",
       "  {'name': 'distance',\n",
       "   'def_num': 5,\n",
       "   'type_name': 'uint32',\n",
       "   'base_type_name': 'uint32',\n",
       "   'size': 4},\n",
       "  {'name': 'altitude',\n",
       "   'def_num': 2,\n",
       "   'type_name': 'uint16',\n",
       "   'base_type_name': 'uint16',\n",
       "   'size': 2},\n",
       "  {'name': 'speed',\n",
       "   'def_num': 6,\n",
       "   'type_name': 'uint16',\n",
       "   'base_type_name': 'uint16',\n",
       "   'size': 2},\n",
       "  {'name': 'unknown_87',\n",
       "   'def_num': 87,\n",
       "   'type_name': 'uint16',\n",
       "   'base_type_name': 'uint16',\n",
       "   'size': 2},\n",
       "  {'name': 'unknown_88',\n",
       "   'def_num': 88,\n",
       "   'type_name': 'uint16',\n",
       "   'base_type_name': 'uint16',\n",
       "   'size': 2},\n",
       "  {'name': 'heart_rate',\n",
       "   'def_num': 3,\n",
       "   'type_name': 'uint8',\n",
       "   'base_type_name': 'uint8',\n",
       "   'size': 1},\n",
       "  {'name': 'cadence',\n",
       "   'def_num': 4,\n",
       "   'type_name': 'uint8',\n",
       "   'base_type_name': 'uint8',\n",
       "   'size': 1},\n",
       "  {'name': 'temperature',\n",
       "   'def_num': 13,\n",
       "   'type_name': 'sint8',\n",
       "   'base_type_name': 'sint8',\n",
       "   'size': 1},\n",
       "  {'name': 'fractional_cadence',\n",
       "   'def_num': 53,\n",
       "   'type_name': 'uint8',\n",
       "   'base_type_name': 'uint8',\n",
       "   'size': 1}],\n",
       " 'dev_field_defs': [{'name': 'eE',\n",
       "   'dev_data_index': 0,\n",
       "   'def_num': 1,\n",
       "   'type_name': 'float32',\n",
       "   'size': 4},\n",
       "  {'name': 'rE',\n",
       "   'dev_data_index': 0,\n",
       "   'def_num': 2,\n",
       "   'type_name': 'float32',\n",
       "   'size': 4},\n",
       "  {'name': 'pwr',\n",
       "   'dev_data_index': 0,\n",
       "   'def_num': 5,\n",
       "   'type_name': 'float32',\n",
       "   'size': 4},\n",
       "  {'name': 'tpRE',\n",
       "   'dev_data_index': 0,\n",
       "   'def_num': 9,\n",
       "   'type_name': 'float32',\n",
       "   'size': 4},\n",
       "  {'name': 'frnrRE',\n",
       "   'dev_data_index': 0,\n",
       "   'def_num': 10,\n",
       "   'type_name': 'float32',\n",
       "   'size': 4}],\n",
       " 'chunk': {'index': 38, 'offset': 2433, 'size': 58}}"
      ]
     },
     "execution_count": 17,
     "metadata": {},
     "output_type": "execute_result"
    }
   ],
   "source": [
    "\n",
    "data[1]"
   ]
  },
  {
   "cell_type": "code",
   "execution_count": 20,
   "metadata": {},
   "outputs": [
    {
     "data": {
      "text/plain": [
       "['frame_type',\n",
       " 'name',\n",
       " 'header',\n",
       " 'global_mesg_num',\n",
       " 'endian',\n",
       " 'field_defs',\n",
       " 'dev_field_defs',\n",
       " 'chunk']"
      ]
     },
     "execution_count": 20,
     "metadata": {},
     "output_type": "execute_result"
    }
   ],
   "source": [
    "data_cat_list = []\n",
    "for key in data[1]:\n",
    "    data_cat_list.append(key)\n",
    "data_cat_list"
   ]
  },
  {
   "cell_type": "code",
   "execution_count": 21,
   "metadata": {},
   "outputs": [
    {
     "data": {
      "text/plain": [
       "['timestamp',\n",
       " 'position_lat',\n",
       " 'position_long',\n",
       " 'distance',\n",
       " 'altitude',\n",
       " 'speed',\n",
       " 'unknown_87',\n",
       " 'unknown_88',\n",
       " 'heart_rate',\n",
       " 'cadence',\n",
       " 'temperature',\n",
       " 'fractional_cadence']"
      ]
     },
     "execution_count": 21,
     "metadata": {},
     "output_type": "execute_result"
    }
   ],
   "source": [
    "field_defs_list =[]\n",
    "for i in range(len(data[1]['field_defs'])):\n",
    "    field_defs_list.append(data[1]['field_defs'][i]['name'])\n",
    "field_defs_list"
   ]
  },
  {
   "cell_type": "code",
   "execution_count": 23,
   "metadata": {},
   "outputs": [
    {
     "data": {
      "text/plain": [
       "['eE', 'rE', 'pwr', 'tpRE', 'frnrRE']"
      ]
     },
     "execution_count": 23,
     "metadata": {},
     "output_type": "execute_result"
    }
   ],
   "source": [
    "field_dev_defs_list =[]\n",
    "for i in range(len(data[1]['dev_field_defs'])):\n",
    "    field_dev_defs_list.append(data[1]['dev_field_defs'][i]['name'])\n",
    "field_dev_defs_list"
   ]
  },
  {
   "cell_type": "code",
   "execution_count": 24,
   "metadata": {},
   "outputs": [
    {
     "ename": "KeyError",
     "evalue": "0",
     "output_type": "error",
     "traceback": [
      "\u001b[0;31m---------------------------------------------------------------------------\u001b[0m",
      "\u001b[0;31mKeyError\u001b[0m                                  Traceback (most recent call last)",
      "\u001b[1;32m/home/awstclair/github_forks/gpx_analysis/fit_file_test.ipynb Cell 8'\u001b[0m in \u001b[0;36m<module>\u001b[0;34m\u001b[0m\n\u001b[1;32m      <a href='vscode-notebook-cell:/home/awstclair/github_forks/gpx_analysis/fit_file_test.ipynb#ch0000008?line=0'>1</a>\u001b[0m chunk_list\u001b[39m=\u001b[39m[]\n\u001b[1;32m      <a href='vscode-notebook-cell:/home/awstclair/github_forks/gpx_analysis/fit_file_test.ipynb#ch0000008?line=1'>2</a>\u001b[0m \u001b[39mfor\u001b[39;00m i \u001b[39min\u001b[39;00m \u001b[39mrange\u001b[39m(\u001b[39mlen\u001b[39m(data[\u001b[39m1\u001b[39m][\u001b[39m'\u001b[39m\u001b[39mchunk\u001b[39m\u001b[39m'\u001b[39m])):\n\u001b[0;32m----> <a href='vscode-notebook-cell:/home/awstclair/github_forks/gpx_analysis/fit_file_test.ipynb#ch0000008?line=2'>3</a>\u001b[0m     chunk_list\u001b[39m.\u001b[39mappend(data[\u001b[39m1\u001b[39;49m][\u001b[39m'\u001b[39;49m\u001b[39mchunk\u001b[39;49m\u001b[39m'\u001b[39;49m][i][\u001b[39m'\u001b[39m\u001b[39mname\u001b[39m\u001b[39m'\u001b[39m])\n\u001b[1;32m      <a href='vscode-notebook-cell:/home/awstclair/github_forks/gpx_analysis/fit_file_test.ipynb#ch0000008?line=3'>4</a>\u001b[0m chunk_list\n",
      "\u001b[0;31mKeyError\u001b[0m: 0"
     ]
    }
   ],
   "source": [
    "chunk_list=[]\n",
    "for i in range(len(data[1]['chunk'])):\n",
    "    chunk_list.append(data[1]['chunk'][i]['name'])\n",
    "chunk_list"
   ]
  },
  {
   "cell_type": "code",
   "execution_count": 25,
   "metadata": {},
   "outputs": [
    {
     "data": {
      "text/plain": [
       "{'index': 38, 'offset': 2433, 'size': 58}"
      ]
     },
     "execution_count": 25,
     "metadata": {},
     "output_type": "execute_result"
    }
   ],
   "source": [
    "data[1]['chunk']"
   ]
  },
  {
   "cell_type": "code",
   "execution_count": null,
   "metadata": {},
   "outputs": [],
   "source": []
  }
 ],
 "metadata": {
  "kernelspec": {
   "display_name": "Python 3.10.2 ('geo_env')",
   "language": "python",
   "name": "python3"
  },
  "language_info": {
   "codemirror_mode": {
    "name": "ipython",
    "version": 3
   },
   "file_extension": ".py",
   "mimetype": "text/x-python",
   "name": "python",
   "nbconvert_exporter": "python",
   "pygments_lexer": "ipython3",
   "version": "3.10.2"
  },
  "orig_nbformat": 4,
  "vscode": {
   "interpreter": {
    "hash": "2dbaf43edbcffe45fe7bc84916e3a6661f7690ac673b8f10061c9c1c97b0211d"
   }
  }
 },
 "nbformat": 4,
 "nbformat_minor": 2
}
